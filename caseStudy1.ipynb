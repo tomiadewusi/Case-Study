{
 "cells": [
  {
   "cell_type": "code",
   "execution_count": 23,
   "metadata": {},
   "outputs": [],
   "source": [
    "import pandas as pd # Make sure that you have openpyxl installed so that you can open newer excel files\n",
    "import pandas.api.types as pdtypes\n",
    "import numpy as np\n",
    "import os \n",
    "from zipfile import is_zipfile, ZipFile\n",
    "from datetime import date\n",
    "from plotnine import ggplot, geom_line, aes, theme_minimal, geom_tile, geom_label, scale_fill_distiller, labs, theme, element_text\n",
    "import plotly.graph_objects as go"
   ]
  },
  {
   "cell_type": "code",
   "execution_count": 24,
   "metadata": {},
   "outputs": [],
   "source": [
    "# These first three functions are just utils\n",
    "# that allow me to work with categorical \n",
    "# variables in Pandas DataFrames\n",
    "##############################################################################\n",
    "def as_categorical(c, copy=True):\n",
    "    if not pdtypes.is_categorical_dtype(c):\n",
    "        c = pd.Categorical(c)\n",
    "    elif copy:\n",
    "        c = c.copy()\n",
    "    return c\n",
    "\n",
    "def cat_rev(c):\n",
    "    c = as_categorical(c)\n",
    "    c.reorder_categories(c.categories[::-1], ordered=True) #issue was here\n",
    "    return c\n",
    "\n",
    "def cat_inorder(c, ordered=None):\n",
    "    kwargs = {} if ordered is None else {'ordered': ordered}\n",
    "    if isinstance(c, (pd.Series, pd.Categorical)):\n",
    "        cats = c[~pd.isnull(c)].unique()\n",
    "        if hasattr(cats, 'to_list'):\n",
    "            cats = cats.to_list()\n",
    "    elif hasattr(c, 'dtype'):\n",
    "        cats = pd.unique(c[~pd.isnull(c)])\n",
    "    else:\n",
    "        cats = pd.unique([\n",
    "            x for x, keep in zip(c, ~pd.isnull(c))\n",
    "            if keep\n",
    "        ])\n",
    "    return pd.Categorical(c, categories=cats, **kwargs)\n",
    "#############################################################################\n",
    "\n",
    "def extractFolder(inputFilesDir,unzippedFilesDir):\n",
    "    for file in os.listdir(inputFilesDir):   # get the list of files\n",
    "        if is_zipfile(inputFilesDir+file): # if it is a zipfile, extract it\n",
    "            with ZipFile(inputFilesDir+file) as item: # treat the file as a zip\n",
    "                item.extractall(unzippedFilesDir)  # extract it into a new folder\n",
    "\n",
    "def cleanTermStructureSheet(filename,foldername,sheetName):\n",
    "    df = pd.read_excel(foldername+filename, sheet_name=sheetName, header=1, engine='openpyxl')\n",
    "    df.drop(['Unnamed: 0'], axis=1, inplace=True) # Blank column - artifact of the dataset\n",
    "    df = df.iloc[8:,:] # Dropping all unnessary columns \n",
    "    df.rename(columns={\"Main menu\": \"Tenor\"}, inplace=True)\n",
    "    df.set_index(\"Tenor\", inplace=True)\n",
    "    return df\n",
    "\n",
    "def getDateFromFileName(filename):\n",
    "    dateString = filename.split('_')[2]\n",
    "    yearString = dateString[:4]\n",
    "    monthString = dateString[4:6]\n",
    "    dayString = dateString[6:]\n",
    "    return date(int(yearString),int(monthString),int(dayString))\n",
    "\n",
    "def getCountrieslist(inputFilesDir):\n",
    "    return pd.read_csv(inputFilesDir+\"countries.csv\").columns.to_list()\n",
    "\n",
    "def getFilteredFileList(unzippedFilesDir,fileType):\n",
    "    allFiles = os.listdir(unzippedFilesDir)\n",
    "    filteredList = [file for file in allFiles if fileType in file]\n",
    "    return filteredList \n",
    "\n",
    "def createCountriesDict(countries, unzippedFilesDir,fileType, sheetName):\n",
    "    countriesDict = {}\n",
    "    for country in countries:\n",
    "        countriesDict[country] = {}\n",
    "\n",
    "    for filename in getFilteredFileList(unzippedFilesDir,fileType):\n",
    "        dateIndex = getDateFromFileName(filename)\n",
    "        allTermStructures = cleanTermStructureSheet(filename,unzippedFilesDir,sheetName)\n",
    "        for country in countries:\n",
    "            countriesDict[country][dateIndex] =  allTermStructures.loc[:,country]\n",
    "\n",
    "    return countriesDict\n",
    "\n",
    "def plotCurvesOverTime(countriesDict, country, colourScale):\n",
    "    countryData = pd.DataFrame(countriesDict[country]).sort_index(axis = 1)\n",
    "    dates = countryData.columns\n",
    "    tenors = countryData.index.values\n",
    "    camera = dict(\n",
    "        up = dict(x=0, y=0, z=1), \n",
    "        center = dict(x=0, y=0, z=0), \n",
    "        eye = dict(x=1.6, y=1.6, z=0.5 )\n",
    "    )\n",
    "\n",
    "    fig = go.Figure(data=[go.Surface(z=countryData.values, \n",
    "                                     x=dates, \n",
    "                                     y=tenors,\n",
    "                                     opacity = 0.8,\n",
    "                                     colorscale=colourScale, \n",
    "                                     colorbar_thickness = 25, \n",
    "                                     colorbar_len = 0.75, \n",
    "                                    \n",
    "                      )])\n",
    "\n",
    "    fig.update_layout(scene_camera = camera,\n",
    "                    scene=dict(yaxis_title='Tenor',\n",
    "                            xaxis_title='Date',\n",
    "                            zaxis_title='Yield',\n",
    "                            aspectratio = dict(x = 1, y = 1.4, z= 0.75)),\n",
    "                    title=f'{country} Curve Progression since 2022', autosize=False,\n",
    "                    width=1000, height=700,\n",
    "                    margin=dict(l=50, r=20, b=10, t=50), \n",
    "                    paper_bgcolor=\"LightSteelBlue\", \n",
    "                    )\n",
    "\n",
    "    fig.show()\n",
    "\n",
    "def getSubsetBasedOnTenor(country, countriesDict, tenorsOfInterest):\n",
    "    tenorsOfInterest = [tenor - 1 for tenor in tenorsOfInterest]\n",
    "    return pd.DataFrame(countriesDict[country]).iloc[tenorsOfInterest,:].T\n",
    "\n",
    "def correlationMatrixDataframeHelper(country,countriesDict,tenorsOfInterest):\n",
    "    df = getSubsetBasedOnTenor(country, countriesDict, tenorsOfInterest)\n",
    "    newColumns = [f'{country}_{tenor}Y' for tenor in df.columns.values]\n",
    "    df.columns = newColumns\n",
    "    return df\n",
    "\n",
    "def createCrossCountryCrossTenorCorrelationMatrix(countries, tenors, countriesDict):\n",
    "    elementsOfCorrelationMatrix = []\n",
    "    for country in countries:\n",
    "        elementsOfCorrelationMatrix.append(correlationMatrixDataframeHelper(country,countriesDict,tenors))\n",
    "    correlationDataFrame = pd.concat(elementsOfCorrelationMatrix, axis = 1)\n",
    "    crossTenorCountryCorrelation = np.round(correlationDataFrame.diff().dropna().corr(),2)\n",
    "    return crossTenorCountryCorrelation\n",
    "\n",
    "def tidyCorrelationMatrix(corrMatrix):\n",
    "    df = (\n",
    "            corrMatrix\n",
    "            .melt(ignore_index = False)\n",
    "            .reset_index()\n",
    "            .set_axis(labels= ['var1', 'var2', 'Correlation'], axis = 1)\n",
    "            .assign(labText = lambda x: np.round(x['Correlation'],2))\n",
    "            .assign(\n",
    "                var1 = lambda x : cat_inorder(x['var1']),\n",
    "                var2 = lambda x : cat_rev(cat_inorder(x['var2']))\n",
    "            )  \n",
    "    )\n",
    "    return df\n",
    "\n",
    "def ggplot2CorrelationMatrix(tidyCorr):\n",
    "    return (\n",
    "        ggplot(mapping = aes('var1', 'var2', fill = \"Correlation\"), data = tidyCorr)\n",
    "        + geom_tile()\n",
    "        + geom_label(aes(label = \"labText\"), label_size = 0,  size = 7)\n",
    "        + scale_fill_distiller()\n",
    "        + theme_minimal()\n",
    "        + labs(title = 'Cross-Currency & Cross-Tenor Correlation', \n",
    "            subtitle = \"Exploring Curve Correlation in Different Countries\", \n",
    "            x = \"\", y = \"\")\n",
    "        + theme(axis_text_x = element_text(rotation = 90, hjust = 1), figure_size = (12,9))\n",
    "\n",
    "    )\n",
    "\n",
    "def performPCA(dataFrame):\n",
    "    # Note the dates have to be the rows \n",
    "    # and the columns must be the tenors\n",
    "    diffDataFrame = dataFrame.diff().dropna()\n",
    "    X = diffDataFrame.values # Dataset in the matrix form\n",
    "    X = X - np.mean(X,axis = 0) # Normalise the data set to make it with zero mean across the tenors\n",
    "    Cov_X = np.cov(X.astype(float), rowvar = False) #Calculate the covariance matrix\n",
    "    eigen = np.linalg.eig(Cov_X)\n",
    "    eigenVectors = eigen[1]\n",
    "    principalComponents = X @ eigenVectors \n",
    "   \n",
    "    return principalComponents, diffDataFrame\n",
    "\n",
    "def pcaTenorCorrelation(startTenor,endTenor,country,countriesDict):\n",
    "    tenorsOfInterest = np.arange(startTenor, endTenor+1, 1)\n",
    "    numOfTenors = len(tenorsOfInterest)\n",
    "    principalComponents, subsetDiffDataFrame = performPCA(getSubsetBasedOnTenor(country, countriesDict, tenorsOfInterest))\n",
    "    df1 = subsetDiffDataFrame.reset_index(drop = True)\n",
    "    df2 = pd.DataFrame(principalComponents[:,:3],columns=['Level - PC1','Slope - PC2','Twist - PC3'])\n",
    "    df3 = np.round(pd.concat([df1,df2], axis= 1).corr(),4).iloc[:numOfTenors, -3:]\n",
    "    return df3.rename_axis('Tenor').reset_index().melt(id_vars = \"Tenor\").copy()\n",
    "\n",
    "def plotPcaTenorCorrelation(startTenor,endTenor,country,countriesDict):\n",
    "    pcaDf = pcaTenorCorrelation(startTenor,endTenor,country,countriesDict)\n",
    "    return (\n",
    "        ggplot(pcaDf)  # What data to use\n",
    "        + aes(x=\"Tenor\", y=\"value\",color = \"variable\")  # What variable to use\n",
    "        + geom_line()  # Geometric object to use for drawing\n",
    "        + labs(\n",
    "            x = 'Tenor', \n",
    "            y = 'Correlation', \n",
    "            color = 'Principal Components', \n",
    "            title = 'Correlations of Main Principle Components vs Tenors',\n",
    "            subtitle = f'Visualising the Level, Slope, and Twist for the {country} Curve'\n",
    "        )\n",
    "    )"
   ]
  },
  {
   "cell_type": "code",
   "execution_count": 25,
   "metadata": {},
   "outputs": [],
   "source": [
    "inputFilesDir = \"inputData/\"\n",
    "unzippedFilesDir = \"unzippedFiles/\"\n",
    "fileType = \"Term_Structures\"\n",
    "sheetName = \"RFR_spot_no_VA\"\n",
    "\n",
    "extractFolder(inputFilesDir,unzippedFilesDir)\n",
    "countries = getCountrieslist(inputFilesDir)\n",
    "countriesDict = createCountriesDict(countries, unzippedFilesDir,fileType, sheetName)"
   ]
  },
  {
   "cell_type": "code",
   "execution_count": 32,
   "metadata": {},
   "outputs": [
    {
     "data": {
      "application/vnd.plotly.v1+json": {
       "config": {
        "plotlyServerURL": "https://plot.ly"
       },
       "data": [
        {
         "colorbar": {
          "len": 0.75,
          "thickness": 25
         },
         "colorscale": [
          [
           0,
           "rgb(255,245,240)"
          ],
          [
           0.125,
           "rgb(254,224,210)"
          ],
          [
           0.25,
           "rgb(252,187,161)"
          ],
          [
           0.375,
           "rgb(252,146,114)"
          ],
          [
           0.5,
           "rgb(251,106,74)"
          ],
          [
           0.625,
           "rgb(239,59,44)"
          ],
          [
           0.75,
           "rgb(203,24,29)"
          ],
          [
           0.875,
           "rgb(165,15,21)"
          ],
          [
           1,
           "rgb(103,0,13)"
          ]
         ],
         "opacity": 0.8,
         "type": "surface",
         "x": [
          "2022-12-31",
          "2023-01-31",
          "2023-02-28",
          "2023-03-31",
          "2023-04-30",
          "2023-05-31",
          "2023-06-30",
          "2023-07-31",
          "2023-08-31",
          "2023-09-30",
          "2023-10-31",
          "2023-11-30",
          "2023-12-31",
          "2024-01-31",
          "2024-02-29"
         ],
         "y": [
          1,
          2,
          3,
          4,
          5,
          6,
          7,
          8,
          9,
          10,
          11,
          12,
          13,
          14,
          15,
          16,
          17,
          18,
          19,
          20,
          21,
          22,
          23,
          24,
          25,
          26,
          27,
          28,
          29,
          30,
          31,
          32,
          33,
          34,
          35,
          36,
          37,
          38,
          39,
          40,
          41,
          42,
          43,
          44,
          45,
          46,
          47,
          48,
          49,
          50,
          51,
          52,
          53,
          54,
          55,
          56,
          57,
          58,
          59,
          60,
          61,
          62,
          63,
          64,
          65,
          66,
          67,
          68,
          69,
          70,
          71,
          72,
          73,
          74,
          75,
          76,
          77,
          78,
          79,
          80,
          81,
          82,
          83,
          84,
          85,
          86,
          87,
          88,
          89,
          90,
          91,
          92,
          93,
          94,
          95,
          96,
          97,
          98,
          99,
          100,
          101,
          102,
          103,
          104,
          105,
          106,
          107,
          108,
          109,
          110,
          111,
          112,
          113,
          114,
          115,
          116,
          117,
          118,
          119,
          120,
          121,
          122,
          123,
          124,
          125,
          126,
          127,
          128,
          129,
          130,
          131,
          132,
          133,
          134,
          135,
          136,
          137,
          138,
          139,
          140,
          141,
          142,
          143,
          144,
          145,
          146,
          147,
          148,
          149,
          150
         ],
         "z": [
          [
           0.05074,
           0.04847,
           0.05338,
           0.04719,
           0.04817,
           0.05052,
           0.05379,
           0.05378,
           0.05353,
           0.05437,
           0.05392,
           0.05118,
           0.0476,
           0.04755,
           0.05065
          ],
          [
           0.04658,
           0.04221,
           0.049,
           0.04064,
           0.04013,
           0.04287,
           0.04788,
           0.04789,
           0.04732,
           0.04956,
           0.04948,
           0.04526,
           0.04056,
           0.04107,
           0.04531
          ],
          [
           0.04259,
           0.03764,
           0.04432,
           0.03671,
           0.03612,
           0.0385,
           0.04357,
           0.04362,
           0.04347,
           0.04622,
           0.04676,
           0.04216,
           0.03724,
           0.03825,
           0.0424
          ],
          [
           0.04048,
           0.03522,
           0.04139,
           0.03454,
           0.03396,
           0.03639,
           0.04069,
           0.04096,
           0.04122,
           0.04449,
           0.04565,
           0.04067,
           0.03571,
           0.03692,
           0.04078
          ],
          [
           0.03949,
           0.03383,
           0.03941,
           0.03332,
           0.03278,
           0.03506,
           0.03882,
           0.03934,
           0.03991,
           0.04356,
           0.04523,
           0.03996,
           0.03499,
           0.03629,
           0.03982
          ],
          [
           0.03878,
           0.03299,
           0.03808,
           0.03255,
           0.0321,
           0.03429,
           0.03756,
           0.03834,
           0.03913,
           0.04304,
           0.04512,
           0.03966,
           0.03464,
           0.03604,
           0.03926
          ],
          [
           0.03822,
           0.03246,
           0.03721,
           0.03206,
           0.0317,
           0.03387,
           0.03667,
           0.03766,
           0.03861,
           0.04275,
           0.04513,
           0.03956,
           0.03449,
           0.03593,
           0.0389
          ],
          [
           0.03783,
           0.03212,
           0.03664,
           0.03177,
           0.03147,
           0.03366,
           0.03602,
           0.03714,
           0.03823,
           0.04261,
           0.04518,
           0.03957,
           0.03443,
           0.03592,
           0.03867
          ],
          [
           0.03742,
           0.03194,
           0.03623,
           0.03163,
           0.03137,
           0.03357,
           0.03555,
           0.03677,
           0.03798,
           0.04256,
           0.04524,
           0.03965,
           0.03444,
           0.03598,
           0.03854
          ],
          [
           0.03749,
           0.03188,
           0.03592,
           0.0316,
           0.03135,
           0.03353,
           0.03521,
           0.03655,
           0.03785,
           0.04257,
           0.04533,
           0.03977,
           0.03449,
           0.03608,
           0.03847
          ],
          [
           0.03744,
           0.03188,
           0.03572,
           0.0316,
           0.03139,
           0.03355,
           0.03498,
           0.03641,
           0.0378,
           0.04259,
           0.04545,
           0.03992,
           0.03458,
           0.03624,
           0.03846
          ],
          [
           0.03728,
           0.03191,
           0.0356,
           0.03162,
           0.03146,
           0.0336,
           0.03484,
           0.03633,
           0.03779,
           0.04262,
           0.04559,
           0.04007,
           0.03468,
           0.03641,
           0.03848
          ],
          [
           0.03717,
           0.03195,
           0.03551,
           0.03163,
           0.03154,
           0.03366,
           0.03475,
           0.03627,
           0.03778,
           0.04264,
           0.04572,
           0.04021,
           0.03477,
           0.03657,
           0.03852
          ],
          [
           0.03711,
           0.03198,
           0.03543,
           0.03164,
           0.03161,
           0.03371,
           0.03467,
           0.03623,
           0.03778,
           0.04265,
           0.04582,
           0.04033,
           0.03486,
           0.03671,
           0.03855
          ],
          [
           0.03706,
           0.03201,
           0.03534,
           0.03164,
           0.03165,
           0.03373,
           0.0346,
           0.03617,
           0.03776,
           0.04263,
           0.04588,
           0.04041,
           0.03492,
           0.03681,
           0.03856
          ],
          [
           0.03699,
           0.03201,
           0.03523,
           0.03162,
           0.03167,
           0.03371,
           0.03452,
           0.0361,
           0.03773,
           0.04259,
           0.04588,
           0.04044,
           0.03495,
           0.03687,
           0.03854
          ],
          [
           0.03689,
           0.03198,
           0.03508,
           0.03157,
           0.03164,
           0.03365,
           0.03441,
           0.036,
           0.03765,
           0.04251,
           0.04583,
           0.04044,
           0.03494,
           0.0369,
           0.03848
          ],
          [
           0.03674,
           0.0319,
           0.03488,
           0.03148,
           0.03157,
           0.03354,
           0.03426,
           0.03586,
           0.03754,
           0.04239,
           0.04572,
           0.04038,
           0.03489,
           0.03688,
           0.03839
          ],
          [
           0.03654,
           0.03176,
           0.03463,
           0.03132,
           0.03145,
           0.03339,
           0.03406,
           0.03567,
           0.03736,
           0.04221,
           0.04555,
           0.04027,
           0.03479,
           0.03681,
           0.03826
          ],
          [
           0.03627,
           0.03155,
           0.03433,
           0.03111,
           0.03127,
           0.03318,
           0.03379,
           0.03542,
           0.03713,
           0.04198,
           0.04534,
           0.0401,
           0.03464,
           0.03671,
           0.03809
          ],
          [
           0.03593,
           0.03128,
           0.03398,
           0.03083,
           0.03104,
           0.03292,
           0.03347,
           0.03511,
           0.03684,
           0.04169,
           0.04507,
           0.03988,
           0.03443,
           0.03656,
           0.03788
          ],
          [
           0.03556,
           0.03097,
           0.03359,
           0.0305,
           0.03078,
           0.03264,
           0.0331,
           0.03477,
           0.03651,
           0.04136,
           0.04476,
           0.03962,
           0.03418,
           0.03637,
           0.03763
          ],
          [
           0.03517,
           0.03064,
           0.03319,
           0.03016,
           0.03049,
           0.03234,
           0.03272,
           0.03441,
           0.03616,
           0.04101,
           0.04443,
           0.03933,
           0.03391,
           0.03616,
           0.03737
          ],
          [
           0.0348,
           0.03031,
           0.03279,
           0.02982,
           0.03021,
           0.03204,
           0.03235,
           0.03404,
           0.0358,
           0.04065,
           0.04409,
           0.03903,
           0.03364,
           0.03592,
           0.03708
          ],
          [
           0.03444,
           0.02999,
           0.03241,
           0.0295,
           0.02994,
           0.03175,
           0.03198,
           0.03369,
           0.03545,
           0.04028,
           0.04374,
           0.03873,
           0.03338,
           0.03567,
           0.03677
          ],
          [
           0.03411,
           0.02969,
           0.03206,
           0.0292,
           0.02969,
           0.03148,
           0.03164,
           0.03336,
           0.03512,
           0.03992,
           0.04339,
           0.03843,
           0.03312,
           0.03542,
           0.03646
          ],
          [
           0.03379,
           0.02943,
           0.03174,
           0.02893,
           0.02947,
           0.03123,
           0.03133,
           0.03305,
           0.0348,
           0.03958,
           0.04305,
           0.03815,
           0.03289,
           0.03516,
           0.03615
          ],
          [
           0.03346,
           0.0292,
           0.03146,
           0.0287,
           0.02928,
           0.03102,
           0.03106,
           0.03277,
           0.03452,
           0.03926,
           0.04272,
           0.03788,
           0.03268,
           0.03491,
           0.03585
          ],
          [
           0.0331,
           0.029,
           0.03122,
           0.02851,
           0.02912,
           0.03083,
           0.03083,
           0.03253,
           0.03426,
           0.03895,
           0.04241,
           0.03763,
           0.03249,
           0.03468,
           0.03557
          ],
          [
           0.0327,
           0.02886,
           0.03102,
           0.02837,
           0.029,
           0.03069,
           0.03064,
           0.03233,
           0.03404,
           0.03868,
           0.04211,
           0.0374,
           0.03234,
           0.03447,
           0.03532
          ],
          [
           0.03225,
           0.02875,
           0.03087,
           0.02827,
           0.02892,
           0.03058,
           0.03049,
           0.03217,
           0.03386,
           0.03843,
           0.04183,
           0.0372,
           0.03221,
           0.03429,
           0.03509
          ],
          [
           0.03177,
           0.02869,
           0.03075,
           0.02821,
           0.02887,
           0.0305,
           0.03039,
           0.03204,
           0.03371,
           0.03821,
           0.04158,
           0.03701,
           0.03212,
           0.03413,
           0.0349
          ],
          [
           0.03127,
           0.02865,
           0.03067,
           0.02818,
           0.02885,
           0.03044,
           0.03031,
           0.03194,
           0.03358,
           0.03801,
           0.04134,
           0.03685,
           0.03204,
           0.03399,
           0.03473
          ],
          [
           0.03077,
           0.02864,
           0.03061,
           0.02817,
           0.02885,
           0.03041,
           0.03026,
           0.03187,
           0.03348,
           0.03783,
           0.04111,
           0.03671,
           0.03199,
           0.03386,
           0.03458
          ],
          [
           0.03028,
           0.02865,
           0.03057,
           0.02819,
           0.02886,
           0.03039,
           0.03023,
           0.03181,
           0.03339,
           0.03766,
           0.0409,
           0.03658,
           0.03195,
           0.03376,
           0.03444
          ],
          [
           0.02981,
           0.02868,
           0.03055,
           0.02823,
           0.02889,
           0.03039,
           0.03022,
           0.03177,
           0.03332,
           0.03751,
           0.0407,
           0.03646,
           0.03192,
           0.03366,
           0.03433
          ],
          [
           0.02936,
           0.02872,
           0.03055,
           0.02827,
           0.02893,
           0.0304,
           0.03022,
           0.03174,
           0.03327,
           0.03738,
           0.04052,
           0.03635,
           0.0319,
           0.03358,
           0.03422
          ],
          [
           0.02893,
           0.02876,
           0.03055,
           0.02833,
           0.02898,
           0.03042,
           0.03024,
           0.03173,
           0.03322,
           0.03725,
           0.04034,
           0.03626,
           0.0319,
           0.03351,
           0.03413
          ],
          [
           0.02854,
           0.02882,
           0.03057,
           0.0284,
           0.02904,
           0.03045,
           0.03026,
           0.03172,
           0.03319,
           0.03714,
           0.04018,
           0.03617,
           0.0319,
           0.03345,
           0.03405
          ],
          [
           0.02817,
           0.02889,
           0.03059,
           0.02847,
           0.02911,
           0.03049,
           0.03029,
           0.03173,
           0.03316,
           0.03703,
           0.04002,
           0.03609,
           0.0319,
           0.03339,
           0.03397
          ],
          [
           0.02784,
           0.02896,
           0.03062,
           0.02855,
           0.02917,
           0.03052,
           0.03033,
           0.03174,
           0.03314,
           0.03694,
           0.03987,
           0.03602,
           0.03191,
           0.03334,
           0.03391
          ],
          [
           0.02754,
           0.02903,
           0.03066,
           0.02863,
           0.02925,
           0.03057,
           0.03037,
           0.03175,
           0.03313,
           0.03685,
           0.03973,
           0.03595,
           0.03193,
           0.0333,
           0.03385
          ],
          [
           0.02727,
           0.0291,
           0.0307,
           0.02871,
           0.02932,
           0.03061,
           0.03042,
           0.03177,
           0.03312,
           0.03677,
           0.0396,
           0.03589,
           0.03195,
           0.03326,
           0.03379
          ],
          [
           0.02703,
           0.02918,
           0.03074,
           0.0288,
           0.0294,
           0.03066,
           0.03047,
           0.03179,
           0.03311,
           0.03669,
           0.03947,
           0.03583,
           0.03197,
           0.03323,
           0.03375
          ],
          [
           0.02683,
           0.02926,
           0.03079,
           0.02888,
           0.02947,
           0.03071,
           0.03052,
           0.03182,
           0.03311,
           0.03662,
           0.03935,
           0.03578,
           0.032,
           0.0332,
           0.0337
          ],
          [
           0.02665,
           0.02934,
           0.03084,
           0.02897,
           0.02955,
           0.03076,
           0.03057,
           0.03185,
           0.03312,
           0.03655,
           0.03924,
           0.03574,
           0.03203,
           0.03317,
           0.03367
          ],
          [
           0.0265,
           0.02942,
           0.03089,
           0.02905,
           0.02962,
           0.03082,
           0.03063,
           0.03188,
           0.03312,
           0.03649,
           0.03913,
           0.03569,
           0.03205,
           0.03315,
           0.03363
          ],
          [
           0.02638,
           0.0295,
           0.03094,
           0.02914,
           0.0297,
           0.03087,
           0.03068,
           0.03191,
           0.03313,
           0.03644,
           0.03903,
           0.03565,
           0.03208,
           0.03313,
           0.0336
          ],
          [
           0.0263,
           0.02958,
           0.03099,
           0.02923,
           0.02978,
           0.03092,
           0.03074,
           0.03194,
           0.03314,
           0.03638,
           0.03893,
           0.03561,
           0.03211,
           0.03311,
           0.03357
          ],
          [
           0.02623,
           0.02965,
           0.03104,
           0.02931,
           0.02985,
           0.03098,
           0.03079,
           0.03197,
           0.03315,
           0.03633,
           0.03883,
           0.03558,
           0.03215,
           0.03309,
           0.03354
          ],
          [
           0.0262,
           0.02973,
           0.03109,
           0.0294,
           0.02993,
           0.03103,
           0.03085,
           0.03201,
           0.03316,
           0.03628,
           0.03874,
           0.03555,
           0.03218,
           0.03308,
           0.03352
          ],
          [
           0.02619,
           0.02981,
           0.03114,
           0.02948,
           0.03,
           0.03108,
           0.0309,
           0.03204,
           0.03317,
           0.03624,
           0.03865,
           0.03552,
           0.03221,
           0.03307,
           0.0335
          ],
          [
           0.0262,
           0.02988,
           0.03119,
           0.02956,
           0.03007,
           0.03113,
           0.03096,
           0.03207,
           0.03318,
           0.0362,
           0.03857,
           0.03549,
           0.03224,
           0.03305,
           0.03348
          ],
          [
           0.02623,
           0.02996,
           0.03124,
           0.02964,
           0.03014,
           0.03118,
           0.03101,
           0.03211,
           0.0332,
           0.03616,
           0.03849,
           0.03546,
           0.03227,
           0.03304,
           0.03346
          ],
          [
           0.02626,
           0.03003,
           0.03129,
           0.02971,
           0.03021,
           0.03124,
           0.03107,
           0.03214,
           0.03321,
           0.03612,
           0.03841,
           0.03544,
           0.0323,
           0.03304,
           0.03344
          ],
          [
           0.02631,
           0.0301,
           0.03133,
           0.02979,
           0.03028,
           0.03128,
           0.03112,
           0.03217,
           0.03323,
           0.03608,
           0.03834,
           0.03541,
           0.03233,
           0.03303,
           0.03343
          ],
          [
           0.02637,
           0.03017,
           0.03138,
           0.02986,
           0.03034,
           0.03133,
           0.03117,
           0.03221,
           0.03324,
           0.03605,
           0.03827,
           0.03539,
           0.03237,
           0.03302,
           0.03342
          ],
          [
           0.02644,
           0.03023,
           0.03143,
           0.02994,
           0.03041,
           0.03138,
           0.03122,
           0.03224,
           0.03326,
           0.03602,
           0.0382,
           0.03537,
           0.0324,
           0.03302,
           0.0334
          ],
          [
           0.02651,
           0.0303,
           0.03147,
           0.03001,
           0.03047,
           0.03143,
           0.03127,
           0.03227,
           0.03327,
           0.03599,
           0.03813,
           0.03535,
           0.03243,
           0.03301,
           0.03339
          ],
          [
           0.02658,
           0.03037,
           0.03152,
           0.03008,
           0.03053,
           0.03147,
           0.03132,
           0.0323,
           0.03329,
           0.03596,
           0.03807,
           0.03533,
           0.03246,
           0.03301,
           0.03338
          ],
          [
           0.02666,
           0.03043,
           0.03156,
           0.03014,
           0.03059,
           0.03152,
           0.03136,
           0.03234,
           0.0333,
           0.03593,
           0.03801,
           0.03532,
           0.03248,
           0.033,
           0.03337
          ],
          [
           0.02675,
           0.03049,
           0.03161,
           0.03021,
           0.03065,
           0.03156,
           0.03141,
           0.03237,
           0.03332,
           0.0359,
           0.03795,
           0.0353,
           0.03251,
           0.033,
           0.03336
          ],
          [
           0.02683,
           0.03055,
           0.03165,
           0.03027,
           0.03071,
           0.03161,
           0.03146,
           0.0324,
           0.03333,
           0.03588,
           0.03789,
           0.03528,
           0.03254,
           0.03299,
           0.03335
          ],
          [
           0.02692,
           0.03061,
           0.03169,
           0.03034,
           0.03076,
           0.03165,
           0.0315,
           0.03243,
           0.03335,
           0.03585,
           0.03783,
           0.03527,
           0.03257,
           0.03299,
           0.03334
          ],
          [
           0.02701,
           0.03066,
           0.03173,
           0.0304,
           0.03082,
           0.03169,
           0.03154,
           0.03246,
           0.03336,
           0.03583,
           0.03778,
           0.03525,
           0.0326,
           0.03299,
           0.03333
          ],
          [
           0.02709,
           0.03072,
           0.03177,
           0.03046,
           0.03087,
           0.03173,
           0.03159,
           0.03248,
           0.03338,
           0.03581,
           0.03773,
           0.03524,
           0.03262,
           0.03299,
           0.03333
          ],
          [
           0.02718,
           0.03077,
           0.03181,
           0.03052,
           0.03092,
           0.03177,
           0.03163,
           0.03251,
           0.03339,
           0.03579,
           0.03768,
           0.03523,
           0.03265,
           0.03298,
           0.03332
          ],
          [
           0.02727,
           0.03083,
           0.03185,
           0.03057,
           0.03097,
           0.03181,
           0.03167,
           0.03254,
           0.03341,
           0.03577,
           0.03763,
           0.03521,
           0.03267,
           0.03298,
           0.03331
          ],
          [
           0.02736,
           0.03088,
           0.03188,
           0.03063,
           0.03102,
           0.03184,
           0.03171,
           0.03257,
           0.03342,
           0.03575,
           0.03758,
           0.0352,
           0.0327,
           0.03298,
           0.03331
          ],
          [
           0.02744,
           0.03093,
           0.03192,
           0.03068,
           0.03107,
           0.03188,
           0.03174,
           0.03259,
           0.03344,
           0.03573,
           0.03754,
           0.03519,
           0.03272,
           0.03298,
           0.0333
          ],
          [
           0.02753,
           0.03098,
           0.03195,
           0.03073,
           0.03112,
           0.03192,
           0.03178,
           0.03262,
           0.03345,
           0.03571,
           0.03749,
           0.03518,
           0.03275,
           0.03298,
           0.03329
          ],
          [
           0.02761,
           0.03102,
           0.03199,
           0.03078,
           0.03116,
           0.03195,
           0.03182,
           0.03264,
           0.03346,
           0.03569,
           0.03745,
           0.03517,
           0.03277,
           0.03298,
           0.03329
          ],
          [
           0.0277,
           0.03107,
           0.03202,
           0.03083,
           0.03121,
           0.03198,
           0.03185,
           0.03267,
           0.03348,
           0.03567,
           0.03741,
           0.03516,
           0.03279,
           0.03298,
           0.03328
          ],
          [
           0.02778,
           0.03112,
           0.03205,
           0.03088,
           0.03125,
           0.03202,
           0.03189,
           0.03269,
           0.03349,
           0.03566,
           0.03737,
           0.03515,
           0.03281,
           0.03298,
           0.03328
          ],
          [
           0.02786,
           0.03116,
           0.03208,
           0.03093,
           0.03129,
           0.03205,
           0.03192,
           0.03271,
           0.0335,
           0.03564,
           0.03733,
           0.03514,
           0.03283,
           0.03298,
           0.03327
          ],
          [
           0.02794,
           0.0312,
           0.03212,
           0.03098,
           0.03134,
           0.03208,
           0.03196,
           0.03274,
           0.03351,
           0.03562,
           0.03729,
           0.03513,
           0.03286,
           0.03298,
           0.03327
          ],
          [
           0.02802,
           0.03125,
           0.03215,
           0.03102,
           0.03138,
           0.03211,
           0.03199,
           0.03276,
           0.03353,
           0.03561,
           0.03725,
           0.03512,
           0.03288,
           0.03298,
           0.03327
          ],
          [
           0.0281,
           0.03129,
           0.03218,
           0.03106,
           0.03142,
           0.03214,
           0.03202,
           0.03278,
           0.03354,
           0.03559,
           0.03722,
           0.03511,
           0.0329,
           0.03297,
           0.03326
          ],
          [
           0.02817,
           0.03133,
           0.0322,
           0.03111,
           0.03145,
           0.03217,
           0.03205,
           0.0328,
           0.03355,
           0.03558,
           0.03718,
           0.0351,
           0.03292,
           0.03297,
           0.03326
          ],
          [
           0.02825,
           0.03137,
           0.03223,
           0.03115,
           0.03149,
           0.0322,
           0.03208,
           0.03282,
           0.03356,
           0.03556,
           0.03715,
           0.0351,
           0.03294,
           0.03297,
           0.03325
          ],
          [
           0.02832,
           0.0314,
           0.03226,
           0.03119,
           0.03153,
           0.03223,
           0.03211,
           0.03284,
           0.03357,
           0.03555,
           0.03711,
           0.03509,
           0.03295,
           0.03297,
           0.03325
          ],
          [
           0.02839,
           0.03144,
           0.03229,
           0.03123,
           0.03156,
           0.03225,
           0.03214,
           0.03286,
           0.03358,
           0.03554,
           0.03708,
           0.03508,
           0.03297,
           0.03297,
           0.03325
          ],
          [
           0.02846,
           0.03148,
           0.03231,
           0.03127,
           0.0316,
           0.03228,
           0.03217,
           0.03288,
           0.03359,
           0.03552,
           0.03705,
           0.03507,
           0.03299,
           0.03297,
           0.03324
          ],
          [
           0.02853,
           0.03151,
           0.03234,
           0.03131,
           0.03163,
           0.03231,
           0.03219,
           0.0329,
           0.0336,
           0.03551,
           0.03702,
           0.03507,
           0.03301,
           0.03297,
           0.03324
          ],
          [
           0.0286,
           0.03155,
           0.03236,
           0.03135,
           0.03167,
           0.03233,
           0.03222,
           0.03292,
           0.03361,
           0.0355,
           0.03699,
           0.03506,
           0.03303,
           0.03297,
           0.03324
          ],
          [
           0.02867,
           0.03158,
           0.03239,
           0.03138,
           0.0317,
           0.03236,
           0.03225,
           0.03294,
           0.03362,
           0.03549,
           0.03696,
           0.03505,
           0.03304,
           0.03297,
           0.03323
          ],
          [
           0.02873,
           0.03162,
           0.03241,
           0.03142,
           0.03173,
           0.03238,
           0.03227,
           0.03295,
           0.03363,
           0.03548,
           0.03693,
           0.03504,
           0.03306,
           0.03297,
           0.03323
          ],
          [
           0.02879,
           0.03165,
           0.03244,
           0.03145,
           0.03176,
           0.03241,
           0.0323,
           0.03297,
           0.03364,
           0.03547,
           0.0369,
           0.03504,
           0.03308,
           0.03297,
           0.03323
          ],
          [
           0.02886,
           0.03168,
           0.03246,
           0.03149,
           0.03179,
           0.03243,
           0.03232,
           0.03299,
           0.03365,
           0.03545,
           0.03687,
           0.03503,
           0.03309,
           0.03297,
           0.03323
          ],
          [
           0.02892,
           0.03171,
           0.03248,
           0.03152,
           0.03182,
           0.03245,
           0.03235,
           0.03301,
           0.03366,
           0.03544,
           0.03685,
           0.03503,
           0.03311,
           0.03297,
           0.03322
          ],
          [
           0.02898,
           0.03174,
           0.0325,
           0.03155,
           0.03185,
           0.03247,
           0.03237,
           0.03302,
           0.03367,
           0.03543,
           0.03682,
           0.03502,
           0.03312,
           0.03297,
           0.03322
          ],
          [
           0.02904,
           0.03177,
           0.03253,
           0.03158,
           0.03188,
           0.0325,
           0.03239,
           0.03304,
           0.03368,
           0.03542,
           0.0368,
           0.03501,
           0.03314,
           0.03297,
           0.03322
          ],
          [
           0.02909,
           0.0318,
           0.03255,
           0.03161,
           0.03191,
           0.03252,
           0.03242,
           0.03305,
           0.03369,
           0.03541,
           0.03677,
           0.03501,
           0.03315,
           0.03297,
           0.03322
          ],
          [
           0.02915,
           0.03183,
           0.03257,
           0.03165,
           0.03194,
           0.03254,
           0.03244,
           0.03307,
           0.0337,
           0.0354,
           0.03675,
           0.035,
           0.03317,
           0.03297,
           0.03321
          ],
          [
           0.02921,
           0.03186,
           0.03259,
           0.03168,
           0.03196,
           0.03256,
           0.03246,
           0.03308,
           0.03371,
           0.03539,
           0.03672,
           0.035,
           0.03318,
           0.03297,
           0.03321
          ],
          [
           0.02926,
           0.03188,
           0.03261,
           0.0317,
           0.03199,
           0.03258,
           0.03248,
           0.0331,
           0.03371,
           0.03538,
           0.0367,
           0.03499,
           0.03319,
           0.03298,
           0.03321
          ],
          [
           0.02931,
           0.03191,
           0.03263,
           0.03173,
           0.03202,
           0.0326,
           0.0325,
           0.03311,
           0.03372,
           0.03537,
           0.03668,
           0.03499,
           0.03321,
           0.03298,
           0.03321
          ],
          [
           0.02937,
           0.03194,
           0.03265,
           0.03176,
           0.03204,
           0.03262,
           0.03252,
           0.03313,
           0.03373,
           0.03537,
           0.03665,
           0.03498,
           0.03322,
           0.03298,
           0.0332
          ],
          [
           0.02942,
           0.03196,
           0.03266,
           0.03179,
           0.03207,
           0.03264,
           0.03254,
           0.03314,
           0.03374,
           0.03536,
           0.03663,
           0.03498,
           0.03323,
           0.03298,
           0.0332
          ],
          [
           0.02947,
           0.03199,
           0.03268,
           0.03182,
           0.03209,
           0.03266,
           0.03256,
           0.03315,
           0.03375,
           0.03535,
           0.03661,
           0.03497,
           0.03324,
           0.03298,
           0.0332
          ],
          [
           0.02952,
           0.03201,
           0.0327,
           0.03184,
           0.03211,
           0.03267,
           0.03258,
           0.03317,
           0.03375,
           0.03534,
           0.03659,
           0.03497,
           0.03326,
           0.03298,
           0.0332
          ],
          [
           0.02957,
           0.03204,
           0.03272,
           0.03187,
           0.03214,
           0.03269,
           0.0326,
           0.03318,
           0.03376,
           0.03533,
           0.03657,
           0.03496,
           0.03327,
           0.03298,
           0.0332
          ],
          [
           0.02961,
           0.03206,
           0.03274,
           0.03189,
           0.03216,
           0.03271,
           0.03262,
           0.03319,
           0.03377,
           0.03532,
           0.03655,
           0.03496,
           0.03328,
           0.03298,
           0.03319
          ],
          [
           0.02966,
           0.03209,
           0.03275,
           0.03192,
           0.03218,
           0.03273,
           0.03264,
           0.03321,
           0.03377,
           0.03531,
           0.03653,
           0.03495,
           0.03329,
           0.03298,
           0.03319
          ],
          [
           0.02971,
           0.03211,
           0.03277,
           0.03194,
           0.0322,
           0.03274,
           0.03265,
           0.03322,
           0.03378,
           0.03531,
           0.03651,
           0.03495,
           0.0333,
           0.03298,
           0.03319
          ],
          [
           0.02975,
           0.03213,
           0.03279,
           0.03197,
           0.03223,
           0.03276,
           0.03267,
           0.03323,
           0.03379,
           0.0353,
           0.03649,
           0.03495,
           0.03332,
           0.03298,
           0.03319
          ],
          [
           0.0298,
           0.03215,
           0.0328,
           0.03199,
           0.03225,
           0.03278,
           0.03269,
           0.03324,
           0.03379,
           0.03529,
           0.03647,
           0.03494,
           0.03333,
           0.03298,
           0.03319
          ],
          [
           0.02984,
           0.03217,
           0.03282,
           0.03201,
           0.03227,
           0.03279,
           0.0327,
           0.03325,
           0.0338,
           0.03528,
           0.03645,
           0.03494,
           0.03334,
           0.03298,
           0.03318
          ],
          [
           0.02988,
           0.0322,
           0.03283,
           0.03204,
           0.03229,
           0.03281,
           0.03272,
           0.03327,
           0.03381,
           0.03528,
           0.03643,
           0.03493,
           0.03335,
           0.03298,
           0.03318
          ],
          [
           0.02992,
           0.03222,
           0.03285,
           0.03206,
           0.03231,
           0.03282,
           0.03274,
           0.03328,
           0.03381,
           0.03527,
           0.03642,
           0.03493,
           0.03336,
           0.03298,
           0.03318
          ],
          [
           0.02996,
           0.03224,
           0.03286,
           0.03208,
           0.03233,
           0.03284,
           0.03275,
           0.03329,
           0.03382,
           0.03526,
           0.0364,
           0.03492,
           0.03337,
           0.03298,
           0.03318
          ],
          [
           0.03,
           0.03226,
           0.03288,
           0.0321,
           0.03235,
           0.03285,
           0.03277,
           0.0333,
           0.03383,
           0.03526,
           0.03638,
           0.03492,
           0.03338,
           0.03298,
           0.03318
          ],
          [
           0.03004,
           0.03228,
           0.03289,
           0.03212,
           0.03237,
           0.03287,
           0.03278,
           0.03331,
           0.03383,
           0.03525,
           0.03637,
           0.03492,
           0.03339,
           0.03298,
           0.03318
          ],
          [
           0.03008,
           0.0323,
           0.03291,
           0.03215,
           0.03239,
           0.03288,
           0.0328,
           0.03332,
           0.03384,
           0.03524,
           0.03635,
           0.03491,
           0.0334,
           0.03298,
           0.03318
          ],
          [
           0.03012,
           0.03232,
           0.03292,
           0.03217,
           0.0324,
           0.0329,
           0.03281,
           0.03333,
           0.03384,
           0.03524,
           0.03633,
           0.03491,
           0.03341,
           0.03298,
           0.03317
          ],
          [
           0.03016,
           0.03233,
           0.03293,
           0.03219,
           0.03242,
           0.03291,
           0.03283,
           0.03334,
           0.03385,
           0.03523,
           0.03632,
           0.03491,
           0.03342,
           0.03298,
           0.03317
          ],
          [
           0.0302,
           0.03235,
           0.03295,
           0.03221,
           0.03244,
           0.03292,
           0.03284,
           0.03335,
           0.03385,
           0.03522,
           0.0363,
           0.0349,
           0.03343,
           0.03298,
           0.03317
          ],
          [
           0.03023,
           0.03237,
           0.03296,
           0.03222,
           0.03246,
           0.03294,
           0.03286,
           0.03336,
           0.03386,
           0.03522,
           0.03629,
           0.0349,
           0.03344,
           0.03298,
           0.03317
          ],
          [
           0.03027,
           0.03239,
           0.03297,
           0.03224,
           0.03247,
           0.03295,
           0.03287,
           0.03337,
           0.03387,
           0.03521,
           0.03627,
           0.0349,
           0.03344,
           0.03298,
           0.03317
          ],
          [
           0.0303,
           0.03241,
           0.03299,
           0.03226,
           0.03249,
           0.03296,
           0.03288,
           0.03338,
           0.03387,
           0.03521,
           0.03626,
           0.03489,
           0.03345,
           0.03298,
           0.03317
          ],
          [
           0.03034,
           0.03242,
           0.033,
           0.03228,
           0.03251,
           0.03298,
           0.0329,
           0.03339,
           0.03388,
           0.0352,
           0.03624,
           0.03489,
           0.03346,
           0.03298,
           0.03316
          ],
          [
           0.03037,
           0.03244,
           0.03301,
           0.0323,
           0.03252,
           0.03299,
           0.03291,
           0.0334,
           0.03388,
           0.03519,
           0.03623,
           0.03489,
           0.03347,
           0.03298,
           0.03316
          ],
          [
           0.03041,
           0.03246,
           0.03302,
           0.03232,
           0.03254,
           0.033,
           0.03292,
           0.03341,
           0.03389,
           0.03519,
           0.03621,
           0.03488,
           0.03348,
           0.03298,
           0.03316
          ],
          [
           0.03044,
           0.03247,
           0.03303,
           0.03233,
           0.03256,
           0.03301,
           0.03294,
           0.03341,
           0.03389,
           0.03518,
           0.0362,
           0.03488,
           0.03349,
           0.03298,
           0.03316
          ],
          [
           0.03047,
           0.03249,
           0.03305,
           0.03235,
           0.03257,
           0.03302,
           0.03295,
           0.03342,
           0.0339,
           0.03518,
           0.03619,
           0.03488,
           0.0335,
           0.03298,
           0.03316
          ],
          [
           0.0305,
           0.03251,
           0.03306,
           0.03237,
           0.03259,
           0.03304,
           0.03296,
           0.03343,
           0.0339,
           0.03517,
           0.03617,
           0.03487,
           0.0335,
           0.03298,
           0.03316
          ],
          [
           0.03053,
           0.03252,
           0.03307,
           0.03239,
           0.0326,
           0.03305,
           0.03297,
           0.03344,
           0.03391,
           0.03517,
           0.03616,
           0.03487,
           0.03351,
           0.03298,
           0.03316
          ],
          [
           0.03056,
           0.03254,
           0.03308,
           0.0324,
           0.03262,
           0.03306,
           0.03298,
           0.03345,
           0.03391,
           0.03516,
           0.03615,
           0.03487,
           0.03352,
           0.03298,
           0.03316
          ],
          [
           0.0306,
           0.03255,
           0.03309,
           0.03242,
           0.03263,
           0.03307,
           0.033,
           0.03346,
           0.03391,
           0.03516,
           0.03613,
           0.03487,
           0.03353,
           0.03298,
           0.03315
          ],
          [
           0.03063,
           0.03257,
           0.0331,
           0.03243,
           0.03265,
           0.03308,
           0.03301,
           0.03346,
           0.03392,
           0.03515,
           0.03612,
           0.03486,
           0.03353,
           0.03298,
           0.03315
          ],
          [
           0.03065,
           0.03258,
           0.03311,
           0.03245,
           0.03266,
           0.03309,
           0.03302,
           0.03347,
           0.03392,
           0.03515,
           0.03611,
           0.03486,
           0.03354,
           0.03298,
           0.03315
          ],
          [
           0.03068,
           0.0326,
           0.03312,
           0.03247,
           0.03267,
           0.0331,
           0.03303,
           0.03348,
           0.03393,
           0.03514,
           0.0361,
           0.03486,
           0.03355,
           0.03298,
           0.03315
          ],
          [
           0.03071,
           0.03261,
           0.03313,
           0.03248,
           0.03269,
           0.03311,
           0.03304,
           0.03349,
           0.03393,
           0.03514,
           0.03608,
           0.03485,
           0.03356,
           0.03298,
           0.03315
          ],
          [
           0.03074,
           0.03263,
           0.03314,
           0.0325,
           0.0327,
           0.03312,
           0.03305,
           0.0335,
           0.03394,
           0.03513,
           0.03607,
           0.03485,
           0.03356,
           0.03298,
           0.03315
          ],
          [
           0.03077,
           0.03264,
           0.03315,
           0.03251,
           0.03271,
           0.03313,
           0.03306,
           0.0335,
           0.03394,
           0.03513,
           0.03606,
           0.03485,
           0.03357,
           0.03298,
           0.03315
          ],
          [
           0.0308,
           0.03265,
           0.03316,
           0.03253,
           0.03273,
           0.03314,
           0.03307,
           0.03351,
           0.03394,
           0.03512,
           0.03605,
           0.03485,
           0.03358,
           0.03298,
           0.03315
          ],
          [
           0.03082,
           0.03267,
           0.03317,
           0.03254,
           0.03274,
           0.03315,
           0.03308,
           0.03352,
           0.03395,
           0.03512,
           0.03604,
           0.03484,
           0.03358,
           0.03298,
           0.03315
          ],
          [
           0.03085,
           0.03268,
           0.03318,
           0.03255,
           0.03275,
           0.03316,
           0.03309,
           0.03352,
           0.03395,
           0.03511,
           0.03603,
           0.03484,
           0.03359,
           0.03298,
           0.03314
          ],
          [
           0.03088,
           0.03269,
           0.03319,
           0.03257,
           0.03277,
           0.03317,
           0.0331,
           0.03353,
           0.03396,
           0.03511,
           0.03602,
           0.03484,
           0.0336,
           0.03298,
           0.03314
          ],
          [
           0.0309,
           0.03271,
           0.0332,
           0.03258,
           0.03278,
           0.03318,
           0.03311,
           0.03354,
           0.03396,
           0.0351,
           0.036,
           0.03484,
           0.0336,
           0.03298,
           0.03314
          ],
          [
           0.03093,
           0.03272,
           0.03321,
           0.0326,
           0.03279,
           0.03319,
           0.03312,
           0.03355,
           0.03396,
           0.0351,
           0.03599,
           0.03483,
           0.03361,
           0.03298,
           0.03314
          ],
          [
           0.03095,
           0.03273,
           0.03322,
           0.03261,
           0.0328,
           0.0332,
           0.03313,
           0.03355,
           0.03397,
           0.0351,
           0.03598,
           0.03483,
           0.03362,
           0.03298,
           0.03314
          ],
          [
           0.03098,
           0.03274,
           0.03323,
           0.03262,
           0.03281,
           0.03321,
           0.03314,
           0.03356,
           0.03397,
           0.03509,
           0.03597,
           0.03483,
           0.03362,
           0.03298,
           0.03314
          ],
          [
           0.031,
           0.03276,
           0.03324,
           0.03264,
           0.03283,
           0.03322,
           0.03315,
           0.03357,
           0.03398,
           0.03509,
           0.03596,
           0.03483,
           0.03363,
           0.03298,
           0.03314
          ],
          [
           0.03103,
           0.03277,
           0.03325,
           0.03265,
           0.03284,
           0.03323,
           0.03316,
           0.03357,
           0.03398,
           0.03508,
           0.03595,
           0.03482,
           0.03363,
           0.03298,
           0.03314
          ],
          [
           0.03105,
           0.03278,
           0.03325,
           0.03266,
           0.03285,
           0.03324,
           0.03317,
           0.03358,
           0.03398,
           0.03508,
           0.03594,
           0.03482,
           0.03364,
           0.03298,
           0.03314
          ],
          [
           0.03107,
           0.03279,
           0.03326,
           0.03267,
           0.03286,
           0.03324,
           0.03318,
           0.03358,
           0.03399,
           0.03508,
           0.03593,
           0.03482,
           0.03365,
           0.03298,
           0.03314
          ],
          [
           0.0311,
           0.0328,
           0.03327,
           0.03269,
           0.03287,
           0.03325,
           0.03319,
           0.03359,
           0.03399,
           0.03507,
           0.03592,
           0.03482,
           0.03365,
           0.03298,
           0.03313
          ],
          [
           0.03112,
           0.03281,
           0.03328,
           0.0327,
           0.03288,
           0.03326,
           0.0332,
           0.0336,
           0.03399,
           0.03507,
           0.03591,
           0.03482,
           0.03366,
           0.03298,
           0.03313
          ],
          [
           0.03114,
           0.03283,
           0.03329,
           0.03271,
           0.03289,
           0.03327,
           0.03321,
           0.0336,
           0.034,
           0.03506,
           0.0359,
           0.03481,
           0.03366,
           0.03298,
           0.03313
          ]
         ]
        }
       ],
       "layout": {
        "autosize": false,
        "height": 700,
        "margin": {
         "b": 10,
         "l": 50,
         "r": 20,
         "t": 50
        },
        "paper_bgcolor": "LightSteelBlue",
        "scene": {
         "aspectratio": {
          "x": 1,
          "y": 1.4,
          "z": 0.75
         },
         "camera": {
          "center": {
           "x": 0,
           "y": 0,
           "z": 0
          },
          "eye": {
           "x": 1.6,
           "y": 1.6,
           "z": 0.5
          },
          "up": {
           "x": 0,
           "y": 0,
           "z": 1
          }
         },
         "xaxis": {
          "title": {
           "text": "Date"
          }
         },
         "yaxis": {
          "title": {
           "text": "Tenor"
          }
         },
         "zaxis": {
          "title": {
           "text": "Yield"
          }
         }
        },
        "template": {
         "data": {
          "bar": [
           {
            "error_x": {
             "color": "#2a3f5f"
            },
            "error_y": {
             "color": "#2a3f5f"
            },
            "marker": {
             "line": {
              "color": "#E5ECF6",
              "width": 0.5
             },
             "pattern": {
              "fillmode": "overlay",
              "size": 10,
              "solidity": 0.2
             }
            },
            "type": "bar"
           }
          ],
          "barpolar": [
           {
            "marker": {
             "line": {
              "color": "#E5ECF6",
              "width": 0.5
             },
             "pattern": {
              "fillmode": "overlay",
              "size": 10,
              "solidity": 0.2
             }
            },
            "type": "barpolar"
           }
          ],
          "carpet": [
           {
            "aaxis": {
             "endlinecolor": "#2a3f5f",
             "gridcolor": "white",
             "linecolor": "white",
             "minorgridcolor": "white",
             "startlinecolor": "#2a3f5f"
            },
            "baxis": {
             "endlinecolor": "#2a3f5f",
             "gridcolor": "white",
             "linecolor": "white",
             "minorgridcolor": "white",
             "startlinecolor": "#2a3f5f"
            },
            "type": "carpet"
           }
          ],
          "choropleth": [
           {
            "colorbar": {
             "outlinewidth": 0,
             "ticks": ""
            },
            "type": "choropleth"
           }
          ],
          "contour": [
           {
            "colorbar": {
             "outlinewidth": 0,
             "ticks": ""
            },
            "colorscale": [
             [
              0,
              "#0d0887"
             ],
             [
              0.1111111111111111,
              "#46039f"
             ],
             [
              0.2222222222222222,
              "#7201a8"
             ],
             [
              0.3333333333333333,
              "#9c179e"
             ],
             [
              0.4444444444444444,
              "#bd3786"
             ],
             [
              0.5555555555555556,
              "#d8576b"
             ],
             [
              0.6666666666666666,
              "#ed7953"
             ],
             [
              0.7777777777777778,
              "#fb9f3a"
             ],
             [
              0.8888888888888888,
              "#fdca26"
             ],
             [
              1,
              "#f0f921"
             ]
            ],
            "type": "contour"
           }
          ],
          "contourcarpet": [
           {
            "colorbar": {
             "outlinewidth": 0,
             "ticks": ""
            },
            "type": "contourcarpet"
           }
          ],
          "heatmap": [
           {
            "colorbar": {
             "outlinewidth": 0,
             "ticks": ""
            },
            "colorscale": [
             [
              0,
              "#0d0887"
             ],
             [
              0.1111111111111111,
              "#46039f"
             ],
             [
              0.2222222222222222,
              "#7201a8"
             ],
             [
              0.3333333333333333,
              "#9c179e"
             ],
             [
              0.4444444444444444,
              "#bd3786"
             ],
             [
              0.5555555555555556,
              "#d8576b"
             ],
             [
              0.6666666666666666,
              "#ed7953"
             ],
             [
              0.7777777777777778,
              "#fb9f3a"
             ],
             [
              0.8888888888888888,
              "#fdca26"
             ],
             [
              1,
              "#f0f921"
             ]
            ],
            "type": "heatmap"
           }
          ],
          "heatmapgl": [
           {
            "colorbar": {
             "outlinewidth": 0,
             "ticks": ""
            },
            "colorscale": [
             [
              0,
              "#0d0887"
             ],
             [
              0.1111111111111111,
              "#46039f"
             ],
             [
              0.2222222222222222,
              "#7201a8"
             ],
             [
              0.3333333333333333,
              "#9c179e"
             ],
             [
              0.4444444444444444,
              "#bd3786"
             ],
             [
              0.5555555555555556,
              "#d8576b"
             ],
             [
              0.6666666666666666,
              "#ed7953"
             ],
             [
              0.7777777777777778,
              "#fb9f3a"
             ],
             [
              0.8888888888888888,
              "#fdca26"
             ],
             [
              1,
              "#f0f921"
             ]
            ],
            "type": "heatmapgl"
           }
          ],
          "histogram": [
           {
            "marker": {
             "pattern": {
              "fillmode": "overlay",
              "size": 10,
              "solidity": 0.2
             }
            },
            "type": "histogram"
           }
          ],
          "histogram2d": [
           {
            "colorbar": {
             "outlinewidth": 0,
             "ticks": ""
            },
            "colorscale": [
             [
              0,
              "#0d0887"
             ],
             [
              0.1111111111111111,
              "#46039f"
             ],
             [
              0.2222222222222222,
              "#7201a8"
             ],
             [
              0.3333333333333333,
              "#9c179e"
             ],
             [
              0.4444444444444444,
              "#bd3786"
             ],
             [
              0.5555555555555556,
              "#d8576b"
             ],
             [
              0.6666666666666666,
              "#ed7953"
             ],
             [
              0.7777777777777778,
              "#fb9f3a"
             ],
             [
              0.8888888888888888,
              "#fdca26"
             ],
             [
              1,
              "#f0f921"
             ]
            ],
            "type": "histogram2d"
           }
          ],
          "histogram2dcontour": [
           {
            "colorbar": {
             "outlinewidth": 0,
             "ticks": ""
            },
            "colorscale": [
             [
              0,
              "#0d0887"
             ],
             [
              0.1111111111111111,
              "#46039f"
             ],
             [
              0.2222222222222222,
              "#7201a8"
             ],
             [
              0.3333333333333333,
              "#9c179e"
             ],
             [
              0.4444444444444444,
              "#bd3786"
             ],
             [
              0.5555555555555556,
              "#d8576b"
             ],
             [
              0.6666666666666666,
              "#ed7953"
             ],
             [
              0.7777777777777778,
              "#fb9f3a"
             ],
             [
              0.8888888888888888,
              "#fdca26"
             ],
             [
              1,
              "#f0f921"
             ]
            ],
            "type": "histogram2dcontour"
           }
          ],
          "mesh3d": [
           {
            "colorbar": {
             "outlinewidth": 0,
             "ticks": ""
            },
            "type": "mesh3d"
           }
          ],
          "parcoords": [
           {
            "line": {
             "colorbar": {
              "outlinewidth": 0,
              "ticks": ""
             }
            },
            "type": "parcoords"
           }
          ],
          "pie": [
           {
            "automargin": true,
            "type": "pie"
           }
          ],
          "scatter": [
           {
            "fillpattern": {
             "fillmode": "overlay",
             "size": 10,
             "solidity": 0.2
            },
            "type": "scatter"
           }
          ],
          "scatter3d": [
           {
            "line": {
             "colorbar": {
              "outlinewidth": 0,
              "ticks": ""
             }
            },
            "marker": {
             "colorbar": {
              "outlinewidth": 0,
              "ticks": ""
             }
            },
            "type": "scatter3d"
           }
          ],
          "scattercarpet": [
           {
            "marker": {
             "colorbar": {
              "outlinewidth": 0,
              "ticks": ""
             }
            },
            "type": "scattercarpet"
           }
          ],
          "scattergeo": [
           {
            "marker": {
             "colorbar": {
              "outlinewidth": 0,
              "ticks": ""
             }
            },
            "type": "scattergeo"
           }
          ],
          "scattergl": [
           {
            "marker": {
             "colorbar": {
              "outlinewidth": 0,
              "ticks": ""
             }
            },
            "type": "scattergl"
           }
          ],
          "scattermapbox": [
           {
            "marker": {
             "colorbar": {
              "outlinewidth": 0,
              "ticks": ""
             }
            },
            "type": "scattermapbox"
           }
          ],
          "scatterpolar": [
           {
            "marker": {
             "colorbar": {
              "outlinewidth": 0,
              "ticks": ""
             }
            },
            "type": "scatterpolar"
           }
          ],
          "scatterpolargl": [
           {
            "marker": {
             "colorbar": {
              "outlinewidth": 0,
              "ticks": ""
             }
            },
            "type": "scatterpolargl"
           }
          ],
          "scatterternary": [
           {
            "marker": {
             "colorbar": {
              "outlinewidth": 0,
              "ticks": ""
             }
            },
            "type": "scatterternary"
           }
          ],
          "surface": [
           {
            "colorbar": {
             "outlinewidth": 0,
             "ticks": ""
            },
            "colorscale": [
             [
              0,
              "#0d0887"
             ],
             [
              0.1111111111111111,
              "#46039f"
             ],
             [
              0.2222222222222222,
              "#7201a8"
             ],
             [
              0.3333333333333333,
              "#9c179e"
             ],
             [
              0.4444444444444444,
              "#bd3786"
             ],
             [
              0.5555555555555556,
              "#d8576b"
             ],
             [
              0.6666666666666666,
              "#ed7953"
             ],
             [
              0.7777777777777778,
              "#fb9f3a"
             ],
             [
              0.8888888888888888,
              "#fdca26"
             ],
             [
              1,
              "#f0f921"
             ]
            ],
            "type": "surface"
           }
          ],
          "table": [
           {
            "cells": {
             "fill": {
              "color": "#EBF0F8"
             },
             "line": {
              "color": "white"
             }
            },
            "header": {
             "fill": {
              "color": "#C8D4E3"
             },
             "line": {
              "color": "white"
             }
            },
            "type": "table"
           }
          ]
         },
         "layout": {
          "annotationdefaults": {
           "arrowcolor": "#2a3f5f",
           "arrowhead": 0,
           "arrowwidth": 1
          },
          "autotypenumbers": "strict",
          "coloraxis": {
           "colorbar": {
            "outlinewidth": 0,
            "ticks": ""
           }
          },
          "colorscale": {
           "diverging": [
            [
             0,
             "#8e0152"
            ],
            [
             0.1,
             "#c51b7d"
            ],
            [
             0.2,
             "#de77ae"
            ],
            [
             0.3,
             "#f1b6da"
            ],
            [
             0.4,
             "#fde0ef"
            ],
            [
             0.5,
             "#f7f7f7"
            ],
            [
             0.6,
             "#e6f5d0"
            ],
            [
             0.7,
             "#b8e186"
            ],
            [
             0.8,
             "#7fbc41"
            ],
            [
             0.9,
             "#4d9221"
            ],
            [
             1,
             "#276419"
            ]
           ],
           "sequential": [
            [
             0,
             "#0d0887"
            ],
            [
             0.1111111111111111,
             "#46039f"
            ],
            [
             0.2222222222222222,
             "#7201a8"
            ],
            [
             0.3333333333333333,
             "#9c179e"
            ],
            [
             0.4444444444444444,
             "#bd3786"
            ],
            [
             0.5555555555555556,
             "#d8576b"
            ],
            [
             0.6666666666666666,
             "#ed7953"
            ],
            [
             0.7777777777777778,
             "#fb9f3a"
            ],
            [
             0.8888888888888888,
             "#fdca26"
            ],
            [
             1,
             "#f0f921"
            ]
           ],
           "sequentialminus": [
            [
             0,
             "#0d0887"
            ],
            [
             0.1111111111111111,
             "#46039f"
            ],
            [
             0.2222222222222222,
             "#7201a8"
            ],
            [
             0.3333333333333333,
             "#9c179e"
            ],
            [
             0.4444444444444444,
             "#bd3786"
            ],
            [
             0.5555555555555556,
             "#d8576b"
            ],
            [
             0.6666666666666666,
             "#ed7953"
            ],
            [
             0.7777777777777778,
             "#fb9f3a"
            ],
            [
             0.8888888888888888,
             "#fdca26"
            ],
            [
             1,
             "#f0f921"
            ]
           ]
          },
          "colorway": [
           "#636efa",
           "#EF553B",
           "#00cc96",
           "#ab63fa",
           "#FFA15A",
           "#19d3f3",
           "#FF6692",
           "#B6E880",
           "#FF97FF",
           "#FECB52"
          ],
          "font": {
           "color": "#2a3f5f"
          },
          "geo": {
           "bgcolor": "white",
           "lakecolor": "white",
           "landcolor": "#E5ECF6",
           "showlakes": true,
           "showland": true,
           "subunitcolor": "white"
          },
          "hoverlabel": {
           "align": "left"
          },
          "hovermode": "closest",
          "mapbox": {
           "style": "light"
          },
          "paper_bgcolor": "white",
          "plot_bgcolor": "#E5ECF6",
          "polar": {
           "angularaxis": {
            "gridcolor": "white",
            "linecolor": "white",
            "ticks": ""
           },
           "bgcolor": "#E5ECF6",
           "radialaxis": {
            "gridcolor": "white",
            "linecolor": "white",
            "ticks": ""
           }
          },
          "scene": {
           "xaxis": {
            "backgroundcolor": "#E5ECF6",
            "gridcolor": "white",
            "gridwidth": 2,
            "linecolor": "white",
            "showbackground": true,
            "ticks": "",
            "zerolinecolor": "white"
           },
           "yaxis": {
            "backgroundcolor": "#E5ECF6",
            "gridcolor": "white",
            "gridwidth": 2,
            "linecolor": "white",
            "showbackground": true,
            "ticks": "",
            "zerolinecolor": "white"
           },
           "zaxis": {
            "backgroundcolor": "#E5ECF6",
            "gridcolor": "white",
            "gridwidth": 2,
            "linecolor": "white",
            "showbackground": true,
            "ticks": "",
            "zerolinecolor": "white"
           }
          },
          "shapedefaults": {
           "line": {
            "color": "#2a3f5f"
           }
          },
          "ternary": {
           "aaxis": {
            "gridcolor": "white",
            "linecolor": "white",
            "ticks": ""
           },
           "baxis": {
            "gridcolor": "white",
            "linecolor": "white",
            "ticks": ""
           },
           "bgcolor": "#E5ECF6",
           "caxis": {
            "gridcolor": "white",
            "linecolor": "white",
            "ticks": ""
           }
          },
          "title": {
           "x": 0.05
          },
          "xaxis": {
           "automargin": true,
           "gridcolor": "white",
           "linecolor": "white",
           "ticks": "",
           "title": {
            "standoff": 15
           },
           "zerolinecolor": "white",
           "zerolinewidth": 2
          },
          "yaxis": {
           "automargin": true,
           "gridcolor": "white",
           "linecolor": "white",
           "ticks": "",
           "title": {
            "standoff": 15
           },
           "zerolinecolor": "white",
           "zerolinewidth": 2
          }
         }
        },
        "title": {
         "text": "United States Curve Progression since 2022"
        },
        "width": 1000
       }
      }
     },
     "metadata": {},
     "output_type": "display_data"
    }
   ],
   "source": [
    "plotCurvesOverTime(countriesDict,\"United States\", \"Reds\")"
   ]
  },
  {
   "cell_type": "code",
   "execution_count": 31,
   "metadata": {},
   "outputs": [
    {
     "data": {
      "application/vnd.plotly.v1+json": {
       "config": {
        "plotlyServerURL": "https://plot.ly"
       },
       "data": [
        {
         "colorbar": {
          "len": 0.75,
          "thickness": 25
         },
         "colorscale": [
          [
           0,
           "rgb(247,251,255)"
          ],
          [
           0.125,
           "rgb(222,235,247)"
          ],
          [
           0.25,
           "rgb(198,219,239)"
          ],
          [
           0.375,
           "rgb(158,202,225)"
          ],
          [
           0.5,
           "rgb(107,174,214)"
          ],
          [
           0.625,
           "rgb(66,146,198)"
          ],
          [
           0.75,
           "rgb(33,113,181)"
          ],
          [
           0.875,
           "rgb(8,81,156)"
          ],
          [
           1,
           "rgb(8,48,107)"
          ]
         ],
         "opacity": 0.8,
         "type": "surface",
         "x": [
          "2022-12-31",
          "2023-01-31",
          "2023-02-28",
          "2023-03-31",
          "2023-04-30",
          "2023-05-31",
          "2023-06-30",
          "2023-07-31",
          "2023-08-31",
          "2023-09-30",
          "2023-10-31",
          "2023-11-30",
          "2023-12-31",
          "2024-01-31",
          "2024-02-29"
         ],
         "y": [
          1,
          2,
          3,
          4,
          5,
          6,
          7,
          8,
          9,
          10,
          11,
          12,
          13,
          14,
          15,
          16,
          17,
          18,
          19,
          20,
          21,
          22,
          23,
          24,
          25,
          26,
          27,
          28,
          29,
          30,
          31,
          32,
          33,
          34,
          35,
          36,
          37,
          38,
          39,
          40,
          41,
          42,
          43,
          44,
          45,
          46,
          47,
          48,
          49,
          50,
          51,
          52,
          53,
          54,
          55,
          56,
          57,
          58,
          59,
          60,
          61,
          62,
          63,
          64,
          65,
          66,
          67,
          68,
          69,
          70,
          71,
          72,
          73,
          74,
          75,
          76,
          77,
          78,
          79,
          80,
          81,
          82,
          83,
          84,
          85,
          86,
          87,
          88,
          89,
          90,
          91,
          92,
          93,
          94,
          95,
          96,
          97,
          98,
          99,
          100,
          101,
          102,
          103,
          104,
          105,
          106,
          107,
          108,
          109,
          110,
          111,
          112,
          113,
          114,
          115,
          116,
          117,
          118,
          119,
          120,
          121,
          122,
          123,
          124,
          125,
          126,
          127,
          128,
          129,
          130,
          131,
          132,
          133,
          134,
          135,
          136,
          137,
          138,
          139,
          140,
          141,
          142,
          143,
          144,
          145,
          146,
          147,
          148,
          149,
          150
         ],
         "z": [
          [
           0.03176,
           0.03261,
           0.03622,
           0.03472,
           0.03673,
           0.03739,
           0.03983,
           0.03919,
           0.03884,
           0.04047,
           0.03911,
           0.03732,
           0.03357,
           0.03355,
           0.03597
          ],
          [
           0.03295,
           0.03191,
           0.03684,
           0.03315,
           0.03362,
           0.034,
           0.03772,
           0.03611,
           0.03517,
           0.03701,
           0.03487,
           0.03207,
           0.0269,
           0.02761,
           0.03127
          ],
          [
           0.03203,
           0.03008,
           0.03517,
           0.0314,
           0.03128,
           0.03152,
           0.03501,
           0.03357,
           0.03281,
           0.03468,
           0.03263,
           0.02956,
           0.02439,
           0.02538,
           0.02893
          ],
          [
           0.03152,
           0.02895,
           0.0337,
           0.03009,
           0.02998,
           0.02996,
           0.03282,
           0.03188,
           0.03105,
           0.03352,
           0.03175,
           0.02845,
           0.0235,
           0.02443,
           0.02763
          ],
          [
           0.03131,
           0.02829,
           0.03274,
           0.0293,
           0.02932,
           0.0291,
           0.03132,
           0.03086,
           0.03013,
           0.03292,
           0.03149,
           0.028,
           0.02323,
           0.02406,
           0.02685
          ],
          [
           0.0311,
           0.0279,
           0.0321,
           0.02886,
           0.02893,
           0.02865,
           0.03037,
           0.03027,
           0.0296,
           0.03263,
           0.03151,
           0.02787,
           0.02321,
           0.02402,
           0.02644
          ],
          [
           0.03091,
           0.02767,
           0.03167,
           0.0286,
           0.02872,
           0.02841,
           0.0297,
           0.02986,
           0.02945,
           0.03254,
           0.03168,
           0.0279,
           0.02331,
           0.02411,
           0.02622
          ],
          [
           0.03086,
           0.02759,
           0.03144,
           0.02847,
           0.02865,
           0.02834,
           0.02926,
           0.02968,
           0.02916,
           0.03257,
           0.0319,
           0.02801,
           0.02349,
           0.02427,
           0.02614
          ],
          [
           0.03088,
           0.0276,
           0.03132,
           0.02845,
           0.02866,
           0.02834,
           0.02897,
           0.0296,
           0.02929,
           0.03267,
           0.03221,
           0.02819,
           0.0237,
           0.02447,
           0.02612
          ],
          [
           0.03092,
           0.02764,
           0.03125,
           0.0285,
           0.02875,
           0.02842,
           0.02879,
           0.02961,
           0.0292,
           0.03283,
           0.03249,
           0.02842,
           0.02393,
           0.02472,
           0.02616
          ],
          [
           0.031,
           0.02759,
           0.03108,
           0.02837,
           0.0289,
           0.02843,
           0.02869,
           0.02954,
           0.02945,
           0.03312,
           0.03329,
           0.02863,
           0.02423,
           0.02515,
           0.02631
          ],
          [
           0.03085,
           0.02775,
           0.03125,
           0.0287,
           0.02896,
           0.02864,
           0.02859,
           0.02972,
           0.02943,
           0.03314,
           0.03305,
           0.02887,
           0.02439,
           0.02521,
           0.02633
          ],
          [
           0.03071,
           0.02781,
           0.03134,
           0.02889,
           0.02903,
           0.02879,
           0.02851,
           0.02984,
           0.02947,
           0.0332,
           0.03302,
           0.02908,
           0.02455,
           0.02531,
           0.02637
          ],
          [
           0.03053,
           0.02769,
           0.03124,
           0.02884,
           0.02905,
           0.0288,
           0.02839,
           0.02981,
           0.02955,
           0.03328,
           0.03327,
           0.0292,
           0.02467,
           0.02547,
           0.02641
          ],
          [
           0.03022,
           0.02742,
           0.03097,
           0.0286,
           0.02895,
           0.02867,
           0.02819,
           0.02966,
           0.02953,
           0.03329,
           0.03349,
           0.02921,
           0.0247,
           0.02556,
           0.02636
          ],
          [
           0.02974,
           0.02703,
           0.03056,
           0.02824,
           0.02869,
           0.02841,
           0.02788,
           0.02939,
           0.02935,
           0.03314,
           0.03349,
           0.0291,
           0.0246,
           0.02551,
           0.0262
          ],
          [
           0.02916,
           0.02658,
           0.03008,
           0.02781,
           0.02834,
           0.02808,
           0.02752,
           0.02908,
           0.02907,
           0.0329,
           0.03332,
           0.02893,
           0.02445,
           0.02537,
           0.02598
          ],
          [
           0.02859,
           0.02615,
           0.02961,
           0.0274,
           0.02798,
           0.02775,
           0.02716,
           0.02877,
           0.02876,
           0.03263,
           0.03306,
           0.02873,
           0.02428,
           0.02519,
           0.02574
          ],
          [
           0.02807,
           0.02577,
           0.02918,
           0.02703,
           0.02764,
           0.02745,
           0.02684,
           0.02849,
           0.02846,
           0.03235,
           0.03277,
           0.02856,
           0.02414,
           0.02503,
           0.02552
          ],
          [
           0.02765,
           0.02549,
           0.02883,
           0.02674,
           0.02738,
           0.02722,
           0.0266,
           0.02826,
           0.02822,
           0.03211,
           0.03251,
           0.02842,
           0.02406,
           0.02492,
           0.02536
          ],
          [
           0.02735,
           0.02531,
           0.02857,
           0.02655,
           0.0272,
           0.02707,
           0.02644,
           0.02811,
           0.02805,
           0.03192,
           0.03231,
           0.02833,
           0.02404,
           0.02486,
           0.02527
          ],
          [
           0.02715,
           0.02521,
           0.0284,
           0.02644,
           0.0271,
           0.02698,
           0.02636,
           0.02803,
           0.02796,
           0.03178,
           0.03215,
           0.02829,
           0.02409,
           0.02486,
           0.02524
          ],
          [
           0.02703,
           0.02519,
           0.0283,
           0.0264,
           0.02705,
           0.02695,
           0.02634,
           0.02799,
           0.02791,
           0.03167,
           0.03203,
           0.02829,
           0.02417,
           0.0249,
           0.02525
          ],
          [
           0.02697,
           0.02522,
           0.02824,
           0.0264,
           0.02705,
           0.02697,
           0.02636,
           0.02799,
           0.0279,
           0.0316,
           0.03194,
           0.02832,
           0.02429,
           0.02497,
           0.02529
          ],
          [
           0.02695,
           0.02528,
           0.02822,
           0.02644,
           0.02709,
           0.02701,
           0.02642,
           0.02802,
           0.02792,
           0.03155,
           0.03188,
           0.02836,
           0.02444,
           0.02506,
           0.02536
          ],
          [
           0.02698,
           0.02538,
           0.02824,
           0.02651,
           0.02715,
           0.02708,
           0.0265,
           0.02807,
           0.02797,
           0.03152,
           0.03184,
           0.02843,
           0.0246,
           0.02517,
           0.02545
          ],
          [
           0.02703,
           0.02549,
           0.02827,
           0.0266,
           0.02723,
           0.02717,
           0.0266,
           0.02813,
           0.02804,
           0.03151,
           0.03181,
           0.02851,
           0.02478,
           0.02529,
           0.02556
          ],
          [
           0.02711,
           0.02563,
           0.02833,
           0.02671,
           0.02732,
           0.02727,
           0.02671,
           0.02821,
           0.02812,
           0.03151,
           0.0318,
           0.02859,
           0.02496,
           0.02542,
           0.02568
          ],
          [
           0.0272,
           0.02577,
           0.0284,
           0.02683,
           0.02743,
           0.02738,
           0.02684,
           0.02831,
           0.02821,
           0.03152,
           0.0318,
           0.02869,
           0.02515,
           0.02556,
           0.0258
          ],
          [
           0.0273,
           0.02593,
           0.02848,
           0.02696,
           0.02754,
           0.0275,
           0.02697,
           0.0284,
           0.02831,
           0.03153,
           0.03181,
           0.02878,
           0.02534,
           0.0257,
           0.02593
          ],
          [
           0.02742,
           0.02609,
           0.02857,
           0.02709,
           0.02766,
           0.02763,
           0.0271,
           0.02851,
           0.02841,
           0.03156,
           0.03183,
           0.02889,
           0.02553,
           0.02584,
           0.02606
          ],
          [
           0.02753,
           0.02625,
           0.02867,
           0.02723,
           0.02779,
           0.02775,
           0.02724,
           0.02861,
           0.02852,
           0.03159,
           0.03185,
           0.02899,
           0.02572,
           0.02598,
           0.0262
          ],
          [
           0.02766,
           0.02641,
           0.02876,
           0.02736,
           0.02791,
           0.02788,
           0.02738,
           0.02872,
           0.02863,
           0.03162,
           0.03188,
           0.02909,
           0.02591,
           0.02613,
           0.02633
          ],
          [
           0.02778,
           0.02658,
           0.02887,
           0.0275,
           0.02804,
           0.02801,
           0.02753,
           0.02883,
           0.02874,
           0.03166,
           0.03191,
           0.0292,
           0.0261,
           0.02627,
           0.02647
          ],
          [
           0.02791,
           0.02674,
           0.02897,
           0.02764,
           0.02817,
           0.02814,
           0.02767,
           0.02894,
           0.02885,
           0.0317,
           0.03194,
           0.0293,
           0.02628,
           0.02641,
           0.0266
          ],
          [
           0.02804,
           0.0269,
           0.02907,
           0.02778,
           0.02829,
           0.02827,
           0.02781,
           0.02905,
           0.02896,
           0.03174,
           0.03197,
           0.02941,
           0.02646,
           0.02655,
           0.02673
          ],
          [
           0.02816,
           0.02706,
           0.02918,
           0.02792,
           0.02842,
           0.0284,
           0.02794,
           0.02916,
           0.02907,
           0.03179,
           0.03201,
           0.02951,
           0.02663,
           0.02668,
           0.02686
          ],
          [
           0.02829,
           0.02721,
           0.02928,
           0.02805,
           0.02854,
           0.02852,
           0.02808,
           0.02926,
           0.02917,
           0.03183,
           0.03205,
           0.02961,
           0.0268,
           0.02681,
           0.02699
          ],
          [
           0.02841,
           0.02736,
           0.02938,
           0.02818,
           0.02866,
           0.02864,
           0.02821,
           0.02937,
           0.02928,
           0.03187,
           0.03209,
           0.02971,
           0.02697,
           0.02694,
           0.02711
          ],
          [
           0.02853,
           0.02751,
           0.02948,
           0.02831,
           0.02878,
           0.02876,
           0.02834,
           0.02947,
           0.02938,
           0.03192,
           0.03213,
           0.0298,
           0.02713,
           0.02707,
           0.02723
          ],
          [
           0.02865,
           0.02766,
           0.02958,
           0.02844,
           0.02889,
           0.02888,
           0.02846,
           0.02957,
           0.02949,
           0.03196,
           0.03217,
           0.0299,
           0.02728,
           0.02719,
           0.02735
          ],
          [
           0.02877,
           0.0278,
           0.02967,
           0.02856,
           0.02901,
           0.02899,
           0.02859,
           0.02967,
           0.02958,
           0.032,
           0.0322,
           0.02999,
           0.02743,
           0.02731,
           0.02746
          ],
          [
           0.02888,
           0.02793,
           0.02977,
           0.02868,
           0.02911,
           0.0291,
           0.0287,
           0.02976,
           0.02968,
           0.03205,
           0.03224,
           0.03008,
           0.02758,
           0.02742,
           0.02757
          ],
          [
           0.02899,
           0.02806,
           0.02986,
           0.02879,
           0.02922,
           0.02921,
           0.02882,
           0.02985,
           0.02978,
           0.03209,
           0.03228,
           0.03016,
           0.02772,
           0.02753,
           0.02768
          ],
          [
           0.0291,
           0.02819,
           0.02995,
           0.02891,
           0.02932,
           0.02931,
           0.02893,
           0.02994,
           0.02987,
           0.03213,
           0.03232,
           0.03025,
           0.02786,
           0.02764,
           0.02779
          ],
          [
           0.0292,
           0.02832,
           0.03003,
           0.02902,
           0.02942,
           0.02941,
           0.02904,
           0.03003,
           0.02996,
           0.03217,
           0.03236,
           0.03033,
           0.02799,
           0.02775,
           0.02789
          ],
          [
           0.02931,
           0.02844,
           0.03012,
           0.02912,
           0.02952,
           0.02951,
           0.02915,
           0.03012,
           0.03004,
           0.03222,
           0.03239,
           0.03041,
           0.02812,
           0.02785,
           0.02799
          ],
          [
           0.0294,
           0.02855,
           0.0302,
           0.02922,
           0.02962,
           0.0296,
           0.02925,
           0.0302,
           0.03013,
           0.03225,
           0.03243,
           0.03048,
           0.02824,
           0.02795,
           0.02808
          ],
          [
           0.0295,
           0.02866,
           0.03028,
           0.02932,
           0.02971,
           0.02969,
           0.02935,
           0.03028,
           0.03021,
           0.03229,
           0.03247,
           0.03056,
           0.02836,
           0.02804,
           0.02817
          ],
          [
           0.02959,
           0.02877,
           0.03036,
           0.02942,
           0.0298,
           0.02978,
           0.02944,
           0.03036,
           0.03029,
           0.03233,
           0.0325,
           0.03063,
           0.02847,
           0.02813,
           0.02826
          ],
          [
           0.02968,
           0.02888,
           0.03043,
           0.02951,
           0.02988,
           0.02987,
           0.02953,
           0.03043,
           0.03036,
           0.03237,
           0.03253,
           0.0307,
           0.02859,
           0.02822,
           0.02835
          ],
          [
           0.02977,
           0.02898,
           0.0305,
           0.0296,
           0.02997,
           0.02995,
           0.02962,
           0.0305,
           0.03044,
           0.0324,
           0.03257,
           0.03077,
           0.02869,
           0.02831,
           0.02843
          ],
          [
           0.02985,
           0.02908,
           0.03058,
           0.02969,
           0.03005,
           0.03003,
           0.02971,
           0.03057,
           0.03051,
           0.03244,
           0.0326,
           0.03083,
           0.0288,
           0.02839,
           0.02852
          ],
          [
           0.02993,
           0.02918,
           0.03064,
           0.02978,
           0.03012,
           0.03011,
           0.0298,
           0.03064,
           0.03058,
           0.03247,
           0.03263,
           0.0309,
           0.0289,
           0.02847,
           0.0286
          ],
          [
           0.03001,
           0.02927,
           0.03071,
           0.02986,
           0.0302,
           0.03019,
           0.02988,
           0.03071,
           0.03065,
           0.03251,
           0.03266,
           0.03096,
           0.029,
           0.02855,
           0.02867
          ],
          [
           0.03009,
           0.02936,
           0.03077,
           0.02994,
           0.03027,
           0.03026,
           0.02996,
           0.03077,
           0.03071,
           0.03254,
           0.03269,
           0.03102,
           0.02909,
           0.02863,
           0.02875
          ],
          [
           0.03016,
           0.02945,
           0.03084,
           0.03001,
           0.03035,
           0.03033,
           0.03003,
           0.03084,
           0.03078,
           0.03257,
           0.03272,
           0.03108,
           0.02918,
           0.0287,
           0.02882
          ],
          [
           0.03024,
           0.02953,
           0.0309,
           0.03009,
           0.03041,
           0.0304,
           0.03011,
           0.0309,
           0.03084,
           0.0326,
           0.03275,
           0.03113,
           0.02927,
           0.02877,
           0.02889
          ],
          [
           0.03031,
           0.02961,
           0.03096,
           0.03016,
           0.03048,
           0.03047,
           0.03018,
           0.03096,
           0.0309,
           0.03263,
           0.03278,
           0.03119,
           0.02936,
           0.02884,
           0.02895
          ],
          [
           0.03037,
           0.02969,
           0.03101,
           0.03023,
           0.03055,
           0.03054,
           0.03025,
           0.03101,
           0.03096,
           0.03266,
           0.0328,
           0.03124,
           0.02944,
           0.02891,
           0.02902
          ],
          [
           0.03044,
           0.02977,
           0.03107,
           0.0303,
           0.03061,
           0.0306,
           0.03032,
           0.03107,
           0.03101,
           0.03269,
           0.03283,
           0.03129,
           0.02952,
           0.02898,
           0.02908
          ],
          [
           0.0305,
           0.02984,
           0.03112,
           0.03037,
           0.03067,
           0.03066,
           0.03038,
           0.03112,
           0.03107,
           0.03272,
           0.03285,
           0.03134,
           0.0296,
           0.02904,
           0.02915
          ],
          [
           0.03057,
           0.02992,
           0.03118,
           0.03043,
           0.03073,
           0.03072,
           0.03045,
           0.03118,
           0.03112,
           0.03275,
           0.03288,
           0.03139,
           0.02968,
           0.0291,
           0.02921
          ],
          [
           0.03063,
           0.02999,
           0.03123,
           0.03049,
           0.03079,
           0.03078,
           0.03051,
           0.03123,
           0.03117,
           0.03277,
           0.0329,
           0.03144,
           0.02975,
           0.02916,
           0.02926
          ],
          [
           0.03069,
           0.03006,
           0.03128,
           0.03055,
           0.03084,
           0.03083,
           0.03057,
           0.03128,
           0.03122,
           0.0328,
           0.03293,
           0.03149,
           0.02983,
           0.02922,
           0.02932
          ],
          [
           0.03074,
           0.03012,
           0.03132,
           0.03061,
           0.0309,
           0.03089,
           0.03063,
           0.03132,
           0.03127,
           0.03282,
           0.03295,
           0.03153,
           0.0299,
           0.02928,
           0.02937
          ],
          [
           0.0308,
           0.03019,
           0.03137,
           0.03067,
           0.03095,
           0.03094,
           0.03069,
           0.03137,
           0.03132,
           0.03285,
           0.03297,
           0.03158,
           0.02996,
           0.02933,
           0.02943
          ],
          [
           0.03085,
           0.03025,
           0.03142,
           0.03073,
           0.031,
           0.03099,
           0.03074,
           0.03141,
           0.03136,
           0.03287,
           0.03299,
           0.03162,
           0.03003,
           0.02938,
           0.02948
          ],
          [
           0.0309,
           0.03031,
           0.03146,
           0.03078,
           0.03105,
           0.03104,
           0.0308,
           0.03146,
           0.03141,
           0.03289,
           0.03302,
           0.03166,
           0.03009,
           0.02944,
           0.02953
          ],
          [
           0.03095,
           0.03037,
           0.0315,
           0.03083,
           0.0311,
           0.03109,
           0.03085,
           0.0315,
           0.03145,
           0.03292,
           0.03304,
           0.0317,
           0.03016,
           0.02949,
           0.02958
          ],
          [
           0.031,
           0.03043,
           0.03154,
           0.03088,
           0.03115,
           0.03114,
           0.0309,
           0.03154,
           0.03149,
           0.03294,
           0.03306,
           0.03174,
           0.03022,
           0.02953,
           0.02963
          ],
          [
           0.03105,
           0.03048,
           0.03158,
           0.03093,
           0.03119,
           0.03119,
           0.03095,
           0.03158,
           0.03154,
           0.03296,
           0.03308,
           0.03178,
           0.03028,
           0.02958,
           0.02967
          ],
          [
           0.0311,
           0.03054,
           0.03162,
           0.03098,
           0.03124,
           0.03123,
           0.031,
           0.03162,
           0.03158,
           0.03298,
           0.03309,
           0.03181,
           0.03033,
           0.02963,
           0.02972
          ],
          [
           0.03114,
           0.03059,
           0.03166,
           0.03103,
           0.03128,
           0.03127,
           0.03104,
           0.03166,
           0.03162,
           0.033,
           0.03311,
           0.03185,
           0.03039,
           0.02967,
           0.02976
          ],
          [
           0.03119,
           0.03064,
           0.0317,
           0.03107,
           0.03133,
           0.03132,
           0.03109,
           0.0317,
           0.03165,
           0.03302,
           0.03313,
           0.03188,
           0.03044,
           0.02972,
           0.0298
          ],
          [
           0.03123,
           0.03069,
           0.03174,
           0.03112,
           0.03137,
           0.03136,
           0.03113,
           0.03174,
           0.03169,
           0.03304,
           0.03315,
           0.03192,
           0.0305,
           0.02976,
           0.02985
          ],
          [
           0.03127,
           0.03074,
           0.03177,
           0.03116,
           0.03141,
           0.0314,
           0.03118,
           0.03177,
           0.03173,
           0.03306,
           0.03317,
           0.03195,
           0.03055,
           0.0298,
           0.02989
          ],
          [
           0.03132,
           0.03079,
           0.03181,
           0.03121,
           0.03145,
           0.03144,
           0.03122,
           0.03181,
           0.03176,
           0.03308,
           0.03318,
           0.03198,
           0.0306,
           0.02984,
           0.02993
          ],
          [
           0.03136,
           0.03084,
           0.03184,
           0.03125,
           0.03149,
           0.03148,
           0.03126,
           0.03184,
           0.0318,
           0.03309,
           0.0332,
           0.03201,
           0.03065,
           0.02988,
           0.02997
          ],
          [
           0.03139,
           0.03088,
           0.03187,
           0.03129,
           0.03152,
           0.03151,
           0.0313,
           0.03187,
           0.03183,
           0.03311,
           0.03322,
           0.03205,
           0.0307,
           0.02992,
           0.03
          ],
          [
           0.03143,
           0.03093,
           0.03191,
           0.03133,
           0.03156,
           0.03155,
           0.03134,
           0.03191,
           0.03186,
           0.03313,
           0.03323,
           0.03208,
           0.03074,
           0.02996,
           0.03004
          ],
          [
           0.03147,
           0.03097,
           0.03194,
           0.03137,
           0.0316,
           0.03159,
           0.03138,
           0.03194,
           0.0319,
           0.03314,
           0.03325,
           0.03211,
           0.03079,
           0.03,
           0.03008
          ],
          [
           0.03151,
           0.03101,
           0.03197,
           0.0314,
           0.03163,
           0.03162,
           0.03142,
           0.03197,
           0.03193,
           0.03316,
           0.03326,
           0.03213,
           0.03083,
           0.03003,
           0.03011
          ],
          [
           0.03154,
           0.03105,
           0.032,
           0.03144,
           0.03166,
           0.03166,
           0.03145,
           0.032,
           0.03196,
           0.03318,
           0.03328,
           0.03216,
           0.03088,
           0.03007,
           0.03015
          ],
          [
           0.03158,
           0.03109,
           0.03203,
           0.03148,
           0.0317,
           0.03169,
           0.03149,
           0.03203,
           0.03199,
           0.03319,
           0.03329,
           0.03219,
           0.03092,
           0.0301,
           0.03018
          ],
          [
           0.03161,
           0.03113,
           0.03206,
           0.03151,
           0.03173,
           0.03172,
           0.03152,
           0.03206,
           0.03202,
           0.03321,
           0.0333,
           0.03222,
           0.03096,
           0.03014,
           0.03021
          ],
          [
           0.03164,
           0.03117,
           0.03208,
           0.03154,
           0.03176,
           0.03175,
           0.03156,
           0.03208,
           0.03204,
           0.03322,
           0.03332,
           0.03224,
           0.031,
           0.03017,
           0.03024
          ],
          [
           0.03168,
           0.03121,
           0.03211,
           0.03158,
           0.03179,
           0.03179,
           0.03159,
           0.03211,
           0.03207,
           0.03324,
           0.03333,
           0.03227,
           0.03104,
           0.0302,
           0.03027
          ],
          [
           0.03171,
           0.03125,
           0.03214,
           0.03161,
           0.03182,
           0.03182,
           0.03162,
           0.03214,
           0.0321,
           0.03325,
           0.03334,
           0.03229,
           0.03108,
           0.03023,
           0.03031
          ],
          [
           0.03174,
           0.03128,
           0.03217,
           0.03164,
           0.03185,
           0.03185,
           0.03166,
           0.03216,
           0.03213,
           0.03326,
           0.03336,
           0.03232,
           0.03112,
           0.03026,
           0.03034
          ],
          [
           0.03177,
           0.03132,
           0.03219,
           0.03167,
           0.03188,
           0.03187,
           0.03169,
           0.03219,
           0.03215,
           0.03328,
           0.03337,
           0.03234,
           0.03115,
           0.03029,
           0.03036
          ],
          [
           0.0318,
           0.03135,
           0.03222,
           0.0317,
           0.03191,
           0.0319,
           0.03172,
           0.03222,
           0.03218,
           0.03329,
           0.03338,
           0.03236,
           0.03119,
           0.03032,
           0.03039
          ],
          [
           0.03183,
           0.03139,
           0.03224,
           0.03173,
           0.03194,
           0.03193,
           0.03175,
           0.03224,
           0.0322,
           0.0333,
           0.03339,
           0.03239,
           0.03123,
           0.03035,
           0.03042
          ],
          [
           0.03186,
           0.03142,
           0.03226,
           0.03176,
           0.03197,
           0.03196,
           0.03178,
           0.03226,
           0.03223,
           0.03332,
           0.03341,
           0.03241,
           0.03126,
           0.03038,
           0.03045
          ],
          [
           0.03188,
           0.03145,
           0.03229,
           0.03179,
           0.03199,
           0.03198,
           0.03181,
           0.03229,
           0.03225,
           0.03333,
           0.03342,
           0.03243,
           0.03129,
           0.03041,
           0.03048
          ],
          [
           0.03191,
           0.03148,
           0.03231,
           0.03182,
           0.03202,
           0.03201,
           0.03183,
           0.03231,
           0.03227,
           0.03334,
           0.03343,
           0.03245,
           0.03133,
           0.03043,
           0.0305
          ],
          [
           0.03194,
           0.03151,
           0.03233,
           0.03185,
           0.03204,
           0.03204,
           0.03186,
           0.03233,
           0.0323,
           0.03335,
           0.03344,
           0.03247,
           0.03136,
           0.03046,
           0.03053
          ],
          [
           0.03196,
           0.03155,
           0.03236,
           0.03188,
           0.03207,
           0.03206,
           0.03189,
           0.03235,
           0.03232,
           0.03336,
           0.03345,
           0.0325,
           0.03139,
           0.03049,
           0.03055
          ],
          [
           0.03199,
           0.03158,
           0.03238,
           0.0319,
           0.03209,
           0.03209,
           0.03191,
           0.03238,
           0.03234,
           0.03338,
           0.03346,
           0.03252,
           0.03142,
           0.03051,
           0.03058
          ],
          [
           0.03201,
           0.0316,
           0.0324,
           0.03193,
           0.03212,
           0.03211,
           0.03194,
           0.0324,
           0.03236,
           0.03339,
           0.03347,
           0.03254,
           0.03145,
           0.03054,
           0.0306
          ],
          [
           0.03204,
           0.03163,
           0.03242,
           0.03195,
           0.03214,
           0.03213,
           0.03196,
           0.03242,
           0.03238,
           0.0334,
           0.03348,
           0.03255,
           0.03148,
           0.03056,
           0.03062
          ],
          [
           0.03206,
           0.03166,
           0.03244,
           0.03198,
           0.03216,
           0.03216,
           0.03199,
           0.03244,
           0.0324,
           0.03341,
           0.03349,
           0.03257,
           0.03151,
           0.03058,
           0.03065
          ],
          [
           0.03209,
           0.03169,
           0.03246,
           0.032,
           0.03219,
           0.03218,
           0.03201,
           0.03246,
           0.03242,
           0.03342,
           0.0335,
           0.03259,
           0.03154,
           0.03061,
           0.03067
          ],
          [
           0.03211,
           0.03172,
           0.03248,
           0.03203,
           0.03221,
           0.0322,
           0.03204,
           0.03248,
           0.03244,
           0.03343,
           0.03351,
           0.03261,
           0.03157,
           0.03063,
           0.03069
          ],
          [
           0.03213,
           0.03174,
           0.0325,
           0.03205,
           0.03223,
           0.03222,
           0.03206,
           0.0325,
           0.03246,
           0.03344,
           0.03352,
           0.03263,
           0.0316,
           0.03065,
           0.03072
          ],
          [
           0.03215,
           0.03177,
           0.03252,
           0.03207,
           0.03225,
           0.03225,
           0.03208,
           0.03252,
           0.03248,
           0.03345,
           0.03353,
           0.03265,
           0.03163,
           0.03068,
           0.03074
          ],
          [
           0.03218,
           0.03179,
           0.03254,
           0.0321,
           0.03227,
           0.03227,
           0.03211,
           0.03253,
           0.0325,
           0.03346,
           0.03354,
           0.03266,
           0.03165,
           0.0307,
           0.03076
          ],
          [
           0.0322,
           0.03182,
           0.03255,
           0.03212,
           0.03229,
           0.03229,
           0.03213,
           0.03255,
           0.03252,
           0.03347,
           0.03355,
           0.03268,
           0.03168,
           0.03072,
           0.03078
          ],
          [
           0.03222,
           0.03184,
           0.03257,
           0.03214,
           0.03231,
           0.03231,
           0.03215,
           0.03257,
           0.03254,
           0.03348,
           0.03356,
           0.0327,
           0.03171,
           0.03074,
           0.0308
          ],
          [
           0.03224,
           0.03187,
           0.03259,
           0.03216,
           0.03233,
           0.03233,
           0.03217,
           0.03259,
           0.03256,
           0.03349,
           0.03356,
           0.03271,
           0.03173,
           0.03076,
           0.03082
          ],
          [
           0.03226,
           0.03189,
           0.03261,
           0.03218,
           0.03235,
           0.03235,
           0.03219,
           0.03261,
           0.03257,
           0.0335,
           0.03357,
           0.03273,
           0.03176,
           0.03078,
           0.03084
          ],
          [
           0.03228,
           0.03191,
           0.03262,
           0.0322,
           0.03237,
           0.03237,
           0.03221,
           0.03262,
           0.03259,
           0.03351,
           0.03358,
           0.03275,
           0.03178,
           0.0308,
           0.03086
          ],
          [
           0.0323,
           0.03194,
           0.03264,
           0.03222,
           0.03239,
           0.03239,
           0.03223,
           0.03264,
           0.03261,
           0.03352,
           0.03359,
           0.03276,
           0.0318,
           0.03082,
           0.03088
          ],
          [
           0.03232,
           0.03196,
           0.03266,
           0.03224,
           0.03241,
           0.0324,
           0.03225,
           0.03266,
           0.03262,
           0.03352,
           0.0336,
           0.03278,
           0.03183,
           0.03084,
           0.0309
          ],
          [
           0.03234,
           0.03198,
           0.03267,
           0.03226,
           0.03243,
           0.03242,
           0.03227,
           0.03267,
           0.03264,
           0.03353,
           0.03361,
           0.03279,
           0.03185,
           0.03086,
           0.03091
          ],
          [
           0.03236,
           0.032,
           0.03269,
           0.03228,
           0.03245,
           0.03244,
           0.03229,
           0.03269,
           0.03266,
           0.03354,
           0.03361,
           0.03281,
           0.03187,
           0.03088,
           0.03093
          ],
          [
           0.03237,
           0.03202,
           0.0327,
           0.0323,
           0.03246,
           0.03246,
           0.03231,
           0.0327,
           0.03267,
           0.03355,
           0.03362,
           0.03282,
           0.0319,
           0.03089,
           0.03095
          ],
          [
           0.03239,
           0.03205,
           0.03272,
           0.03232,
           0.03248,
           0.03247,
           0.03233,
           0.03272,
           0.03269,
           0.03356,
           0.03363,
           0.03283,
           0.03192,
           0.03091,
           0.03097
          ],
          [
           0.03241,
           0.03207,
           0.03273,
           0.03234,
           0.0325,
           0.03249,
           0.03235,
           0.03273,
           0.0327,
           0.03356,
           0.03364,
           0.03285,
           0.03194,
           0.03093,
           0.03098
          ],
          [
           0.03243,
           0.03209,
           0.03275,
           0.03236,
           0.03251,
           0.03251,
           0.03237,
           0.03275,
           0.03272,
           0.03357,
           0.03364,
           0.03286,
           0.03196,
           0.03095,
           0.031
          ],
          [
           0.03245,
           0.03211,
           0.03276,
           0.03237,
           0.03253,
           0.03252,
           0.03238,
           0.03276,
           0.03273,
           0.03358,
           0.03365,
           0.03288,
           0.03198,
           0.03096,
           0.03102
          ],
          [
           0.03246,
           0.03213,
           0.03278,
           0.03239,
           0.03255,
           0.03254,
           0.0324,
           0.03278,
           0.03275,
           0.03359,
           0.03366,
           0.03289,
           0.032,
           0.03098,
           0.03103
          ],
          [
           0.03248,
           0.03215,
           0.03279,
           0.03241,
           0.03256,
           0.03256,
           0.03242,
           0.03279,
           0.03276,
           0.0336,
           0.03366,
           0.0329,
           0.03202,
           0.031,
           0.03105
          ],
          [
           0.03249,
           0.03216,
           0.0328,
           0.03243,
           0.03258,
           0.03257,
           0.03243,
           0.0328,
           0.03278,
           0.0336,
           0.03367,
           0.03292,
           0.03204,
           0.03101,
           0.03106
          ],
          [
           0.03251,
           0.03218,
           0.03282,
           0.03244,
           0.03259,
           0.03259,
           0.03245,
           0.03282,
           0.03279,
           0.03361,
           0.03368,
           0.03293,
           0.03206,
           0.03103,
           0.03108
          ],
          [
           0.03253,
           0.0322,
           0.03283,
           0.03246,
           0.03261,
           0.0326,
           0.03247,
           0.03283,
           0.0328,
           0.03362,
           0.03368,
           0.03294,
           0.03208,
           0.03104,
           0.0311
          ],
          [
           0.03254,
           0.03222,
           0.03284,
           0.03247,
           0.03262,
           0.03262,
           0.03248,
           0.03284,
           0.03282,
           0.03362,
           0.03369,
           0.03295,
           0.0321,
           0.03106,
           0.03111
          ],
          [
           0.03256,
           0.03224,
           0.03286,
           0.03249,
           0.03264,
           0.03263,
           0.0325,
           0.03286,
           0.03283,
           0.03363,
           0.0337,
           0.03296,
           0.03212,
           0.03107,
           0.03113
          ],
          [
           0.03257,
           0.03225,
           0.03287,
           0.03251,
           0.03265,
           0.03265,
           0.03251,
           0.03287,
           0.03284,
           0.03364,
           0.0337,
           0.03298,
           0.03214,
           0.03109,
           0.03114
          ],
          [
           0.03259,
           0.03227,
           0.03288,
           0.03252,
           0.03267,
           0.03266,
           0.03253,
           0.03288,
           0.03286,
           0.03364,
           0.03371,
           0.03299,
           0.03216,
           0.0311,
           0.03115
          ],
          [
           0.0326,
           0.03229,
           0.0329,
           0.03254,
           0.03268,
           0.03268,
           0.03254,
           0.03289,
           0.03287,
           0.03365,
           0.03371,
           0.033,
           0.03217,
           0.03112,
           0.03117
          ],
          [
           0.03262,
           0.03231,
           0.03291,
           0.03255,
           0.03269,
           0.03269,
           0.03256,
           0.03291,
           0.03288,
           0.03366,
           0.03372,
           0.03301,
           0.03219,
           0.03113,
           0.03118
          ],
          [
           0.03263,
           0.03232,
           0.03292,
           0.03257,
           0.03271,
           0.0327,
           0.03257,
           0.03292,
           0.03289,
           0.03366,
           0.03373,
           0.03302,
           0.03221,
           0.03115,
           0.0312
          ],
          [
           0.03264,
           0.03234,
           0.03293,
           0.03258,
           0.03272,
           0.03272,
           0.03259,
           0.03293,
           0.0329,
           0.03367,
           0.03373,
           0.03303,
           0.03223,
           0.03116,
           0.03121
          ],
          [
           0.03266,
           0.03235,
           0.03294,
           0.03259,
           0.03273,
           0.03273,
           0.0326,
           0.03294,
           0.03292,
           0.03368,
           0.03374,
           0.03304,
           0.03224,
           0.03117,
           0.03122
          ],
          [
           0.03267,
           0.03237,
           0.03295,
           0.03261,
           0.03275,
           0.03274,
           0.03262,
           0.03295,
           0.03293,
           0.03368,
           0.03374,
           0.03305,
           0.03226,
           0.03119,
           0.03124
          ],
          [
           0.03268,
           0.03239,
           0.03297,
           0.03262,
           0.03276,
           0.03276,
           0.03263,
           0.03296,
           0.03294,
           0.03369,
           0.03375,
           0.03307,
           0.03228,
           0.0312,
           0.03125
          ],
          [
           0.0327,
           0.0324,
           0.03298,
           0.03264,
           0.03277,
           0.03277,
           0.03264,
           0.03298,
           0.03295,
           0.03369,
           0.03375,
           0.03308,
           0.03229,
           0.03121,
           0.03126
          ],
          [
           0.03271,
           0.03242,
           0.03299,
           0.03265,
           0.03279,
           0.03278,
           0.03266,
           0.03299,
           0.03296,
           0.0337,
           0.03376,
           0.03309,
           0.03231,
           0.03123,
           0.03127
          ],
          [
           0.03272,
           0.03243,
           0.033,
           0.03266,
           0.0328,
           0.03279,
           0.03267,
           0.033,
           0.03297,
           0.03371,
           0.03377,
           0.0331,
           0.03232,
           0.03124,
           0.03129
          ],
          [
           0.03274,
           0.03245,
           0.03301,
           0.03268,
           0.03281,
           0.0328,
           0.03268,
           0.03301,
           0.03298,
           0.03371,
           0.03377,
           0.03311,
           0.03234,
           0.03125,
           0.0313
          ],
          [
           0.03275,
           0.03246,
           0.03302,
           0.03269,
           0.03282,
           0.03282,
           0.0327,
           0.03302,
           0.03299,
           0.03372,
           0.03378,
           0.03312,
           0.03235,
           0.03126,
           0.03131
          ],
          [
           0.03276,
           0.03247,
           0.03303,
           0.0327,
           0.03283,
           0.03283,
           0.03271,
           0.03303,
           0.033,
           0.03372,
           0.03378,
           0.03313,
           0.03237,
           0.03128,
           0.03132
          ],
          [
           0.03277,
           0.03249,
           0.03304,
           0.03271,
           0.03284,
           0.03284,
           0.03272,
           0.03304,
           0.03302,
           0.03373,
           0.03379,
           0.03314,
           0.03238,
           0.03129,
           0.03133
          ],
          [
           0.03278,
           0.0325,
           0.03305,
           0.03273,
           0.03286,
           0.03285,
           0.03273,
           0.03305,
           0.03303,
           0.03373,
           0.03379,
           0.03314,
           0.0324,
           0.0313,
           0.03134
          ],
          [
           0.0328,
           0.03252,
           0.03306,
           0.03274,
           0.03287,
           0.03286,
           0.03275,
           0.03306,
           0.03304,
           0.03374,
           0.0338,
           0.03315,
           0.03241,
           0.03131,
           0.03136
          ],
          [
           0.03281,
           0.03253,
           0.03307,
           0.03275,
           0.03288,
           0.03287,
           0.03276,
           0.03307,
           0.03305,
           0.03374,
           0.0338,
           0.03316,
           0.03243,
           0.03132,
           0.03137
          ],
          [
           0.03282,
           0.03254,
           0.03308,
           0.03276,
           0.03289,
           0.03288,
           0.03277,
           0.03308,
           0.03306,
           0.03375,
           0.0338,
           0.03317,
           0.03244,
           0.03133,
           0.03138
          ],
          [
           0.03283,
           0.03256,
           0.03309,
           0.03277,
           0.0329,
           0.0329,
           0.03278,
           0.03309,
           0.03307,
           0.03375,
           0.03381,
           0.03318,
           0.03245,
           0.03135,
           0.03139
          ],
          [
           0.03284,
           0.03257,
           0.0331,
           0.03278,
           0.03291,
           0.03291,
           0.03279,
           0.0331,
           0.03307,
           0.03376,
           0.03381,
           0.03319,
           0.03247,
           0.03136,
           0.0314
          ]
         ]
        }
       ],
       "layout": {
        "autosize": false,
        "height": 700,
        "margin": {
         "b": 10,
         "l": 50,
         "r": 20,
         "t": 50
        },
        "paper_bgcolor": "LightSteelBlue",
        "scene": {
         "aspectratio": {
          "x": 1,
          "y": 1.4,
          "z": 0.75
         },
         "camera": {
          "center": {
           "x": 0,
           "y": 0,
           "z": 0
          },
          "eye": {
           "x": 1.6,
           "y": 1.6,
           "z": 0.5
          },
          "up": {
           "x": 0,
           "y": 0,
           "z": 1
          }
         },
         "xaxis": {
          "title": {
           "text": "Date"
          }
         },
         "yaxis": {
          "title": {
           "text": "Tenor"
          }
         },
         "zaxis": {
          "title": {
           "text": "Yield"
          }
         }
        },
        "template": {
         "data": {
          "bar": [
           {
            "error_x": {
             "color": "#2a3f5f"
            },
            "error_y": {
             "color": "#2a3f5f"
            },
            "marker": {
             "line": {
              "color": "#E5ECF6",
              "width": 0.5
             },
             "pattern": {
              "fillmode": "overlay",
              "size": 10,
              "solidity": 0.2
             }
            },
            "type": "bar"
           }
          ],
          "barpolar": [
           {
            "marker": {
             "line": {
              "color": "#E5ECF6",
              "width": 0.5
             },
             "pattern": {
              "fillmode": "overlay",
              "size": 10,
              "solidity": 0.2
             }
            },
            "type": "barpolar"
           }
          ],
          "carpet": [
           {
            "aaxis": {
             "endlinecolor": "#2a3f5f",
             "gridcolor": "white",
             "linecolor": "white",
             "minorgridcolor": "white",
             "startlinecolor": "#2a3f5f"
            },
            "baxis": {
             "endlinecolor": "#2a3f5f",
             "gridcolor": "white",
             "linecolor": "white",
             "minorgridcolor": "white",
             "startlinecolor": "#2a3f5f"
            },
            "type": "carpet"
           }
          ],
          "choropleth": [
           {
            "colorbar": {
             "outlinewidth": 0,
             "ticks": ""
            },
            "type": "choropleth"
           }
          ],
          "contour": [
           {
            "colorbar": {
             "outlinewidth": 0,
             "ticks": ""
            },
            "colorscale": [
             [
              0,
              "#0d0887"
             ],
             [
              0.1111111111111111,
              "#46039f"
             ],
             [
              0.2222222222222222,
              "#7201a8"
             ],
             [
              0.3333333333333333,
              "#9c179e"
             ],
             [
              0.4444444444444444,
              "#bd3786"
             ],
             [
              0.5555555555555556,
              "#d8576b"
             ],
             [
              0.6666666666666666,
              "#ed7953"
             ],
             [
              0.7777777777777778,
              "#fb9f3a"
             ],
             [
              0.8888888888888888,
              "#fdca26"
             ],
             [
              1,
              "#f0f921"
             ]
            ],
            "type": "contour"
           }
          ],
          "contourcarpet": [
           {
            "colorbar": {
             "outlinewidth": 0,
             "ticks": ""
            },
            "type": "contourcarpet"
           }
          ],
          "heatmap": [
           {
            "colorbar": {
             "outlinewidth": 0,
             "ticks": ""
            },
            "colorscale": [
             [
              0,
              "#0d0887"
             ],
             [
              0.1111111111111111,
              "#46039f"
             ],
             [
              0.2222222222222222,
              "#7201a8"
             ],
             [
              0.3333333333333333,
              "#9c179e"
             ],
             [
              0.4444444444444444,
              "#bd3786"
             ],
             [
              0.5555555555555556,
              "#d8576b"
             ],
             [
              0.6666666666666666,
              "#ed7953"
             ],
             [
              0.7777777777777778,
              "#fb9f3a"
             ],
             [
              0.8888888888888888,
              "#fdca26"
             ],
             [
              1,
              "#f0f921"
             ]
            ],
            "type": "heatmap"
           }
          ],
          "heatmapgl": [
           {
            "colorbar": {
             "outlinewidth": 0,
             "ticks": ""
            },
            "colorscale": [
             [
              0,
              "#0d0887"
             ],
             [
              0.1111111111111111,
              "#46039f"
             ],
             [
              0.2222222222222222,
              "#7201a8"
             ],
             [
              0.3333333333333333,
              "#9c179e"
             ],
             [
              0.4444444444444444,
              "#bd3786"
             ],
             [
              0.5555555555555556,
              "#d8576b"
             ],
             [
              0.6666666666666666,
              "#ed7953"
             ],
             [
              0.7777777777777778,
              "#fb9f3a"
             ],
             [
              0.8888888888888888,
              "#fdca26"
             ],
             [
              1,
              "#f0f921"
             ]
            ],
            "type": "heatmapgl"
           }
          ],
          "histogram": [
           {
            "marker": {
             "pattern": {
              "fillmode": "overlay",
              "size": 10,
              "solidity": 0.2
             }
            },
            "type": "histogram"
           }
          ],
          "histogram2d": [
           {
            "colorbar": {
             "outlinewidth": 0,
             "ticks": ""
            },
            "colorscale": [
             [
              0,
              "#0d0887"
             ],
             [
              0.1111111111111111,
              "#46039f"
             ],
             [
              0.2222222222222222,
              "#7201a8"
             ],
             [
              0.3333333333333333,
              "#9c179e"
             ],
             [
              0.4444444444444444,
              "#bd3786"
             ],
             [
              0.5555555555555556,
              "#d8576b"
             ],
             [
              0.6666666666666666,
              "#ed7953"
             ],
             [
              0.7777777777777778,
              "#fb9f3a"
             ],
             [
              0.8888888888888888,
              "#fdca26"
             ],
             [
              1,
              "#f0f921"
             ]
            ],
            "type": "histogram2d"
           }
          ],
          "histogram2dcontour": [
           {
            "colorbar": {
             "outlinewidth": 0,
             "ticks": ""
            },
            "colorscale": [
             [
              0,
              "#0d0887"
             ],
             [
              0.1111111111111111,
              "#46039f"
             ],
             [
              0.2222222222222222,
              "#7201a8"
             ],
             [
              0.3333333333333333,
              "#9c179e"
             ],
             [
              0.4444444444444444,
              "#bd3786"
             ],
             [
              0.5555555555555556,
              "#d8576b"
             ],
             [
              0.6666666666666666,
              "#ed7953"
             ],
             [
              0.7777777777777778,
              "#fb9f3a"
             ],
             [
              0.8888888888888888,
              "#fdca26"
             ],
             [
              1,
              "#f0f921"
             ]
            ],
            "type": "histogram2dcontour"
           }
          ],
          "mesh3d": [
           {
            "colorbar": {
             "outlinewidth": 0,
             "ticks": ""
            },
            "type": "mesh3d"
           }
          ],
          "parcoords": [
           {
            "line": {
             "colorbar": {
              "outlinewidth": 0,
              "ticks": ""
             }
            },
            "type": "parcoords"
           }
          ],
          "pie": [
           {
            "automargin": true,
            "type": "pie"
           }
          ],
          "scatter": [
           {
            "fillpattern": {
             "fillmode": "overlay",
             "size": 10,
             "solidity": 0.2
            },
            "type": "scatter"
           }
          ],
          "scatter3d": [
           {
            "line": {
             "colorbar": {
              "outlinewidth": 0,
              "ticks": ""
             }
            },
            "marker": {
             "colorbar": {
              "outlinewidth": 0,
              "ticks": ""
             }
            },
            "type": "scatter3d"
           }
          ],
          "scattercarpet": [
           {
            "marker": {
             "colorbar": {
              "outlinewidth": 0,
              "ticks": ""
             }
            },
            "type": "scattercarpet"
           }
          ],
          "scattergeo": [
           {
            "marker": {
             "colorbar": {
              "outlinewidth": 0,
              "ticks": ""
             }
            },
            "type": "scattergeo"
           }
          ],
          "scattergl": [
           {
            "marker": {
             "colorbar": {
              "outlinewidth": 0,
              "ticks": ""
             }
            },
            "type": "scattergl"
           }
          ],
          "scattermapbox": [
           {
            "marker": {
             "colorbar": {
              "outlinewidth": 0,
              "ticks": ""
             }
            },
            "type": "scattermapbox"
           }
          ],
          "scatterpolar": [
           {
            "marker": {
             "colorbar": {
              "outlinewidth": 0,
              "ticks": ""
             }
            },
            "type": "scatterpolar"
           }
          ],
          "scatterpolargl": [
           {
            "marker": {
             "colorbar": {
              "outlinewidth": 0,
              "ticks": ""
             }
            },
            "type": "scatterpolargl"
           }
          ],
          "scatterternary": [
           {
            "marker": {
             "colorbar": {
              "outlinewidth": 0,
              "ticks": ""
             }
            },
            "type": "scatterternary"
           }
          ],
          "surface": [
           {
            "colorbar": {
             "outlinewidth": 0,
             "ticks": ""
            },
            "colorscale": [
             [
              0,
              "#0d0887"
             ],
             [
              0.1111111111111111,
              "#46039f"
             ],
             [
              0.2222222222222222,
              "#7201a8"
             ],
             [
              0.3333333333333333,
              "#9c179e"
             ],
             [
              0.4444444444444444,
              "#bd3786"
             ],
             [
              0.5555555555555556,
              "#d8576b"
             ],
             [
              0.6666666666666666,
              "#ed7953"
             ],
             [
              0.7777777777777778,
              "#fb9f3a"
             ],
             [
              0.8888888888888888,
              "#fdca26"
             ],
             [
              1,
              "#f0f921"
             ]
            ],
            "type": "surface"
           }
          ],
          "table": [
           {
            "cells": {
             "fill": {
              "color": "#EBF0F8"
             },
             "line": {
              "color": "white"
             }
            },
            "header": {
             "fill": {
              "color": "#C8D4E3"
             },
             "line": {
              "color": "white"
             }
            },
            "type": "table"
           }
          ]
         },
         "layout": {
          "annotationdefaults": {
           "arrowcolor": "#2a3f5f",
           "arrowhead": 0,
           "arrowwidth": 1
          },
          "autotypenumbers": "strict",
          "coloraxis": {
           "colorbar": {
            "outlinewidth": 0,
            "ticks": ""
           }
          },
          "colorscale": {
           "diverging": [
            [
             0,
             "#8e0152"
            ],
            [
             0.1,
             "#c51b7d"
            ],
            [
             0.2,
             "#de77ae"
            ],
            [
             0.3,
             "#f1b6da"
            ],
            [
             0.4,
             "#fde0ef"
            ],
            [
             0.5,
             "#f7f7f7"
            ],
            [
             0.6,
             "#e6f5d0"
            ],
            [
             0.7,
             "#b8e186"
            ],
            [
             0.8,
             "#7fbc41"
            ],
            [
             0.9,
             "#4d9221"
            ],
            [
             1,
             "#276419"
            ]
           ],
           "sequential": [
            [
             0,
             "#0d0887"
            ],
            [
             0.1111111111111111,
             "#46039f"
            ],
            [
             0.2222222222222222,
             "#7201a8"
            ],
            [
             0.3333333333333333,
             "#9c179e"
            ],
            [
             0.4444444444444444,
             "#bd3786"
            ],
            [
             0.5555555555555556,
             "#d8576b"
            ],
            [
             0.6666666666666666,
             "#ed7953"
            ],
            [
             0.7777777777777778,
             "#fb9f3a"
            ],
            [
             0.8888888888888888,
             "#fdca26"
            ],
            [
             1,
             "#f0f921"
            ]
           ],
           "sequentialminus": [
            [
             0,
             "#0d0887"
            ],
            [
             0.1111111111111111,
             "#46039f"
            ],
            [
             0.2222222222222222,
             "#7201a8"
            ],
            [
             0.3333333333333333,
             "#9c179e"
            ],
            [
             0.4444444444444444,
             "#bd3786"
            ],
            [
             0.5555555555555556,
             "#d8576b"
            ],
            [
             0.6666666666666666,
             "#ed7953"
            ],
            [
             0.7777777777777778,
             "#fb9f3a"
            ],
            [
             0.8888888888888888,
             "#fdca26"
            ],
            [
             1,
             "#f0f921"
            ]
           ]
          },
          "colorway": [
           "#636efa",
           "#EF553B",
           "#00cc96",
           "#ab63fa",
           "#FFA15A",
           "#19d3f3",
           "#FF6692",
           "#B6E880",
           "#FF97FF",
           "#FECB52"
          ],
          "font": {
           "color": "#2a3f5f"
          },
          "geo": {
           "bgcolor": "white",
           "lakecolor": "white",
           "landcolor": "#E5ECF6",
           "showlakes": true,
           "showland": true,
           "subunitcolor": "white"
          },
          "hoverlabel": {
           "align": "left"
          },
          "hovermode": "closest",
          "mapbox": {
           "style": "light"
          },
          "paper_bgcolor": "white",
          "plot_bgcolor": "#E5ECF6",
          "polar": {
           "angularaxis": {
            "gridcolor": "white",
            "linecolor": "white",
            "ticks": ""
           },
           "bgcolor": "#E5ECF6",
           "radialaxis": {
            "gridcolor": "white",
            "linecolor": "white",
            "ticks": ""
           }
          },
          "scene": {
           "xaxis": {
            "backgroundcolor": "#E5ECF6",
            "gridcolor": "white",
            "gridwidth": 2,
            "linecolor": "white",
            "showbackground": true,
            "ticks": "",
            "zerolinecolor": "white"
           },
           "yaxis": {
            "backgroundcolor": "#E5ECF6",
            "gridcolor": "white",
            "gridwidth": 2,
            "linecolor": "white",
            "showbackground": true,
            "ticks": "",
            "zerolinecolor": "white"
           },
           "zaxis": {
            "backgroundcolor": "#E5ECF6",
            "gridcolor": "white",
            "gridwidth": 2,
            "linecolor": "white",
            "showbackground": true,
            "ticks": "",
            "zerolinecolor": "white"
           }
          },
          "shapedefaults": {
           "line": {
            "color": "#2a3f5f"
           }
          },
          "ternary": {
           "aaxis": {
            "gridcolor": "white",
            "linecolor": "white",
            "ticks": ""
           },
           "baxis": {
            "gridcolor": "white",
            "linecolor": "white",
            "ticks": ""
           },
           "bgcolor": "#E5ECF6",
           "caxis": {
            "gridcolor": "white",
            "linecolor": "white",
            "ticks": ""
           }
          },
          "title": {
           "x": 0.05
          },
          "xaxis": {
           "automargin": true,
           "gridcolor": "white",
           "linecolor": "white",
           "ticks": "",
           "title": {
            "standoff": 15
           },
           "zerolinecolor": "white",
           "zerolinewidth": 2
          },
          "yaxis": {
           "automargin": true,
           "gridcolor": "white",
           "linecolor": "white",
           "ticks": "",
           "title": {
            "standoff": 15
           },
           "zerolinecolor": "white",
           "zerolinewidth": 2
          }
         }
        },
        "title": {
         "text": "Euro Curve Progression since 2022"
        },
        "width": 1000
       }
      }
     },
     "metadata": {},
     "output_type": "display_data"
    }
   ],
   "source": [
    "plotCurvesOverTime(countriesDict,\"Euro\", \"Blues\")"
   ]
  },
  {
   "cell_type": "code",
   "execution_count": 30,
   "metadata": {},
   "outputs": [
    {
     "data": {
      "image/png": "[encoded data removed]",
      "text/plain": [
       "<Figure size 1200x900 with 1 Axes>"
      ]
     },
     "metadata": {
      "image/png": {
       "height": 900,
       "width": 1200
      },
      "needs_background": "light"
     },
     "output_type": "display_data"
    },
    {
     "data": {
      "text/plain": [
       "<Figure Size: (1200 x 900)>"
      ]
     },
     "execution_count": 30,
     "metadata": {},
     "output_type": "execute_result"
    }
   ],
   "source": [
    "countriesForCorrelation = [\"United States\", \"Euro\", \"United Kingdom\", \"China\"]\n",
    "tenorsOfInterest = [2, 5, 10, 20, 30]\n",
    "corrMatrix =  createCrossCountryCrossTenorCorrelationMatrix(countriesForCorrelation, tenorsOfInterest, countriesDict)\n",
    "tidyCorr = tidyCorrelationMatrix(corrMatrix)\n",
    "ggplot2CorrelationMatrix(tidyCorr)"
   ]
  },
  {
   "cell_type": "code",
   "execution_count": 33,
   "metadata": {},
   "outputs": [
    {
     "data": {
      "application/vnd.plotly.v1+json": {
       "config": {
        "plotlyServerURL": "https://plot.ly"
       },
       "data": [
        {
         "colorbar": {
          "len": 0.75,
          "thickness": 25
         },
         "colorscale": [
          [
           0,
           "rgb(247,252,245)"
          ],
          [
           0.125,
           "rgb(229,245,224)"
          ],
          [
           0.25,
           "rgb(199,233,192)"
          ],
          [
           0.375,
           "rgb(161,217,155)"
          ],
          [
           0.5,
           "rgb(116,196,118)"
          ],
          [
           0.625,
           "rgb(65,171,93)"
          ],
          [
           0.75,
           "rgb(35,139,69)"
          ],
          [
           0.875,
           "rgb(0,109,44)"
          ],
          [
           1,
           "rgb(0,68,27)"
          ]
         ],
         "opacity": 0.8,
         "type": "surface",
         "x": [
          "2022-12-31",
          "2023-01-31",
          "2023-02-28",
          "2023-03-31",
          "2023-04-30",
          "2023-05-31",
          "2023-06-30",
          "2023-07-31",
          "2023-08-31",
          "2023-09-30",
          "2023-10-31",
          "2023-11-30",
          "2023-12-31",
          "2024-01-31",
          "2024-02-29"
         ],
         "y": [
          1,
          2,
          3,
          4,
          5,
          6,
          7,
          8,
          9,
          10,
          11,
          12,
          13,
          14,
          15,
          16,
          17,
          18,
          19,
          20,
          21,
          22,
          23,
          24,
          25,
          26,
          27,
          28,
          29,
          30,
          31,
          32,
          33,
          34,
          35,
          36,
          37,
          38,
          39,
          40,
          41,
          42,
          43,
          44,
          45,
          46,
          47,
          48,
          49,
          50,
          51,
          52,
          53,
          54,
          55,
          56,
          57,
          58,
          59,
          60,
          61,
          62,
          63,
          64,
          65,
          66,
          67,
          68,
          69,
          70,
          71,
          72,
          73,
          74,
          75,
          76,
          77,
          78,
          79,
          80,
          81,
          82,
          83,
          84,
          85,
          86,
          87,
          88,
          89,
          90,
          91,
          92,
          93,
          94,
          95,
          96,
          97,
          98,
          99,
          100,
          101,
          102,
          103,
          104,
          105,
          106,
          107,
          108,
          109,
          110,
          111,
          112,
          113,
          114,
          115,
          116,
          117,
          118,
          119,
          120,
          121,
          122,
          123,
          124,
          125,
          126,
          127,
          128,
          129,
          130,
          131,
          132,
          133,
          134,
          135,
          136,
          137,
          138,
          139,
          140,
          141,
          142,
          143,
          144,
          145,
          146,
          147,
          148,
          149,
          150
         ],
         "z": [
          [
           0.02097,
           0.02198,
           0.02361,
           0.02249,
           0.02249,
           0.01985,
           0.01924,
           0.01944,
           0.01863,
           0.01944,
           0.01985,
           0.02046,
           0.01904,
           0.01772,
           0.01751
          ],
          [
           0.02292,
           0.02415,
           0.02516,
           0.02393,
           0.02373,
           0.02098,
           0.02027,
           0.02057,
           0.01945,
           0.02037,
           0.02057,
           0.02087,
           0.01945,
           0.01772,
           0.01762
          ],
          [
           0.02458,
           0.02602,
           0.02672,
           0.02539,
           0.02508,
           0.02233,
           0.02161,
           0.02213,
           0.0208,
           0.0215,
           0.02171,
           0.0218,
           0.02038,
           0.01834,
           0.01813
          ],
          [
           0.02595,
           0.02739,
           0.02788,
           0.02655,
           0.02613,
           0.02348,
           0.02276,
           0.02338,
           0.02194,
           0.02276,
           0.02286,
           0.02274,
           0.02153,
           0.01907,
           0.01886
          ],
          [
           0.02701,
           0.02834,
           0.02884,
           0.0275,
           0.02709,
           0.02443,
           0.02371,
           0.02444,
           0.023,
           0.02392,
           0.02392,
           0.02391,
           0.02258,
           0.02001,
           0.01981
          ],
          [
           0.02784,
           0.02913,
           0.02967,
           0.02832,
           0.0279,
           0.0252,
           0.02448,
           0.02519,
           0.02375,
           0.02472,
           0.02469,
           0.02472,
           0.02331,
           0.02073,
           0.02052
          ],
          [
           0.02854,
           0.02984,
           0.03041,
           0.02905,
           0.0286,
           0.02588,
           0.02515,
           0.02577,
           0.02432,
           0.0253,
           0.02529,
           0.02528,
           0.02384,
           0.02128,
           0.02107
          ],
          [
           0.02916,
           0.03048,
           0.03108,
           0.02971,
           0.02923,
           0.02651,
           0.02577,
           0.02627,
           0.02481,
           0.02578,
           0.02581,
           0.02573,
           0.02431,
           0.02177,
           0.02156
          ],
          [
           0.02974,
           0.03108,
           0.03169,
           0.03033,
           0.02982,
           0.0271,
           0.02637,
           0.02675,
           0.02529,
           0.02625,
           0.02632,
           0.02615,
           0.02478,
           0.02227,
           0.02206
          ],
          [
           0.03028,
           0.03163,
           0.03225,
           0.0309,
           0.03037,
           0.02769,
           0.02697,
           0.02724,
           0.0258,
           0.02673,
           0.02683,
           0.0266,
           0.02527,
           0.0228,
           0.0226
          ],
          [
           0.03081,
           0.03215,
           0.03277,
           0.03145,
           0.03091,
           0.02827,
           0.02756,
           0.02776,
           0.02634,
           0.02724,
           0.02737,
           0.0271,
           0.02581,
           0.02338,
           0.02318
          ],
          [
           0.03131,
           0.03264,
           0.03325,
           0.03196,
           0.03142,
           0.02884,
           0.02815,
           0.02829,
           0.02691,
           0.02777,
           0.02792,
           0.02762,
           0.02638,
           0.02399,
           0.02379
          ],
          [
           0.0318,
           0.0331,
           0.03371,
           0.03244,
           0.0319,
           0.0294,
           0.02873,
           0.02883,
           0.02748,
           0.02831,
           0.02847,
           0.02815,
           0.02696,
           0.0246,
           0.02441
          ],
          [
           0.03226,
           0.03353,
           0.03413,
           0.0329,
           0.03237,
           0.02994,
           0.02928,
           0.02935,
           0.02804,
           0.02884,
           0.02901,
           0.02867,
           0.02753,
           0.02521,
           0.02503
          ],
          [
           0.0327,
           0.03394,
           0.03452,
           0.03333,
           0.03281,
           0.03045,
           0.02982,
           0.02986,
           0.02859,
           0.02936,
           0.02954,
           0.02919,
           0.0281,
           0.02581,
           0.02563
          ],
          [
           0.03312,
           0.03433,
           0.0349,
           0.03374,
           0.03323,
           0.03095,
           0.03034,
           0.03035,
           0.02912,
           0.02987,
           0.03005,
           0.0297,
           0.02865,
           0.02639,
           0.02622
          ],
          [
           0.03352,
           0.0347,
           0.03525,
           0.03412,
           0.03363,
           0.03142,
           0.03083,
           0.03083,
           0.02964,
           0.03036,
           0.03053,
           0.03019,
           0.02918,
           0.02695,
           0.02678
          ],
          [
           0.0339,
           0.03504,
           0.03558,
           0.03449,
           0.034,
           0.03187,
           0.0313,
           0.03128,
           0.03014,
           0.03083,
           0.031,
           0.03066,
           0.02969,
           0.02748,
           0.02733
          ],
          [
           0.03426,
           0.03537,
           0.03589,
           0.03484,
           0.03436,
           0.0323,
           0.03175,
           0.03172,
           0.03061,
           0.03128,
           0.03145,
           0.03111,
           0.03018,
           0.028,
           0.02785
          ],
          [
           0.03461,
           0.03568,
           0.03619,
           0.03517,
           0.03471,
           0.03271,
           0.03217,
           0.03214,
           0.03107,
           0.03171,
           0.03188,
           0.03155,
           0.03065,
           0.0285,
           0.02835
          ],
          [
           0.03493,
           0.03597,
           0.03647,
           0.03548,
           0.03503,
           0.0331,
           0.03258,
           0.03254,
           0.03151,
           0.03213,
           0.03229,
           0.03197,
           0.0311,
           0.02897,
           0.02883
          ],
          [
           0.03524,
           0.03625,
           0.03673,
           0.03577,
           0.03534,
           0.03347,
           0.03297,
           0.03293,
           0.03193,
           0.03252,
           0.03269,
           0.03237,
           0.03153,
           0.02942,
           0.02929
          ],
          [
           0.03554,
           0.03652,
           0.03698,
           0.03606,
           0.03563,
           0.03382,
           0.03334,
           0.03329,
           0.03232,
           0.0329,
           0.03306,
           0.03275,
           0.03194,
           0.02986,
           0.02972
          ],
          [
           0.03582,
           0.03677,
           0.03722,
           0.03632,
           0.03591,
           0.03416,
           0.03369,
           0.03364,
           0.0327,
           0.03326,
           0.03342,
           0.03311,
           0.03233,
           0.03027,
           0.03014
          ],
          [
           0.03609,
           0.03701,
           0.03745,
           0.03658,
           0.03618,
           0.03448,
           0.03402,
           0.03398,
           0.03307,
           0.03361,
           0.03376,
           0.03346,
           0.0327,
           0.03066,
           0.03054
          ],
          [
           0.03635,
           0.03724,
           0.03767,
           0.03682,
           0.03643,
           0.03479,
           0.03434,
           0.03429,
           0.03341,
           0.03394,
           0.03409,
           0.03379,
           0.03306,
           0.03104,
           0.03092
          ],
          [
           0.03659,
           0.03746,
           0.03787,
           0.03705,
           0.03667,
           0.03508,
           0.03465,
           0.0346,
           0.03374,
           0.03425,
           0.0344,
           0.03411,
           0.0334,
           0.03139,
           0.03128
          ],
          [
           0.03682,
           0.03767,
           0.03807,
           0.03727,
           0.03691,
           0.03536,
           0.03494,
           0.03489,
           0.03406,
           0.03455,
           0.03469,
           0.03442,
           0.03373,
           0.03174,
           0.03162
          ],
          [
           0.03705,
           0.03787,
           0.03826,
           0.03748,
           0.03713,
           0.03562,
           0.03522,
           0.03517,
           0.03436,
           0.03484,
           0.03498,
           0.03471,
           0.03404,
           0.03206,
           0.03195
          ],
          [
           0.03726,
           0.03806,
           0.03844,
           0.03768,
           0.03734,
           0.03587,
           0.03548,
           0.03543,
           0.03465,
           0.03511,
           0.03525,
           0.03498,
           0.03434,
           0.03238,
           0.03227
          ],
          [
           0.03746,
           0.03824,
           0.03861,
           0.03788,
           0.03754,
           0.03612,
           0.03574,
           0.03568,
           0.03493,
           0.03537,
           0.03551,
           0.03525,
           0.03462,
           0.03267,
           0.03257
          ],
          [
           0.03766,
           0.03841,
           0.03877,
           0.03806,
           0.03773,
           0.03635,
           0.03598,
           0.03593,
           0.03519,
           0.03563,
           0.03575,
           0.0355,
           0.0349,
           0.03296,
           0.03286
          ],
          [
           0.03784,
           0.03858,
           0.03893,
           0.03824,
           0.03791,
           0.03657,
           0.03621,
           0.03616,
           0.03544,
           0.03587,
           0.03599,
           0.03575,
           0.03516,
           0.03323,
           0.03313
          ],
          [
           0.03802,
           0.03874,
           0.03908,
           0.0384,
           0.03809,
           0.03678,
           0.03643,
           0.03638,
           0.03568,
           0.0361,
           0.03622,
           0.03598,
           0.0354,
           0.03349,
           0.0334
          ],
          [
           0.03819,
           0.03889,
           0.03922,
           0.03856,
           0.03826,
           0.03698,
           0.03664,
           0.03659,
           0.03591,
           0.03632,
           0.03643,
           0.0362,
           0.03564,
           0.03374,
           0.03365
          ],
          [
           0.03835,
           0.03904,
           0.03936,
           0.03872,
           0.03842,
           0.03718,
           0.03685,
           0.0368,
           0.03614,
           0.03653,
           0.03664,
           0.03642,
           0.03587,
           0.03398,
           0.03389
          ],
          [
           0.03851,
           0.03918,
           0.03949,
           0.03887,
           0.03858,
           0.03737,
           0.03704,
           0.03699,
           0.03635,
           0.03673,
           0.03684,
           0.03662,
           0.03609,
           0.03421,
           0.03412
          ],
          [
           0.03866,
           0.03931,
           0.03962,
           0.03901,
           0.03872,
           0.03754,
           0.03723,
           0.03718,
           0.03655,
           0.03692,
           0.03703,
           0.03682,
           0.0363,
           0.03443,
           0.03434
          ],
          [
           0.03881,
           0.03944,
           0.03974,
           0.03914,
           0.03887,
           0.03771,
           0.03741,
           0.03736,
           0.03675,
           0.03711,
           0.03722,
           0.03701,
           0.0365,
           0.03464,
           0.03455
          ],
          [
           0.03894,
           0.03956,
           0.03986,
           0.03927,
           0.039,
           0.03788,
           0.03758,
           0.03753,
           0.03693,
           0.03729,
           0.03739,
           0.03719,
           0.03669,
           0.03484,
           0.03476
          ],
          [
           0.03908,
           0.03968,
           0.03997,
           0.0394,
           0.03914,
           0.03804,
           0.03774,
           0.0377,
           0.03711,
           0.03746,
           0.03756,
           0.03736,
           0.03688,
           0.03503,
           0.03495
          ],
          [
           0.03921,
           0.0398,
           0.04008,
           0.03952,
           0.03926,
           0.03819,
           0.0379,
           0.03786,
           0.03729,
           0.03762,
           0.03772,
           0.03753,
           0.03706,
           0.03522,
           0.03514
          ],
          [
           0.03933,
           0.03991,
           0.04018,
           0.03964,
           0.03938,
           0.03833,
           0.03805,
           0.03801,
           0.03745,
           0.03778,
           0.03788,
           0.03769,
           0.03723,
           0.0354,
           0.03532
          ],
          [
           0.03945,
           0.04001,
           0.04028,
           0.03975,
           0.0395,
           0.03847,
           0.0382,
           0.03816,
           0.03761,
           0.03793,
           0.03803,
           0.03784,
           0.03739,
           0.03557,
           0.03549
          ],
          [
           0.03956,
           0.04011,
           0.04038,
           0.03986,
           0.03961,
           0.03861,
           0.03834,
           0.0383,
           0.03776,
           0.03808,
           0.03817,
           0.03799,
           0.03755,
           0.03573,
           0.03566
          ],
          [
           0.03967,
           0.04021,
           0.04047,
           0.03996,
           0.03972,
           0.03874,
           0.03848,
           0.03844,
           0.03791,
           0.03822,
           0.03831,
           0.03813,
           0.0377,
           0.03589,
           0.03582
          ],
          [
           0.03978,
           0.04031,
           0.04056,
           0.04006,
           0.03983,
           0.03886,
           0.03861,
           0.03857,
           0.03805,
           0.03836,
           0.03845,
           0.03827,
           0.03785,
           0.03605,
           0.03598
          ],
          [
           0.03988,
           0.0404,
           0.04064,
           0.04016,
           0.03993,
           0.03899,
           0.03873,
           0.03869,
           0.03819,
           0.03849,
           0.03858,
           0.0384,
           0.03799,
           0.03619,
           0.03612
          ],
          [
           0.03998,
           0.04049,
           0.04073,
           0.04025,
           0.04003,
           0.0391,
           0.03885,
           0.03882,
           0.03832,
           0.03861,
           0.0387,
           0.03853,
           0.03813,
           0.03634,
           0.03627
          ],
          [
           0.04007,
           0.04057,
           0.04081,
           0.04034,
           0.04012,
           0.03921,
           0.03897,
           0.03893,
           0.03845,
           0.03874,
           0.03882,
           0.03865,
           0.03826,
           0.03647,
           0.03641
          ],
          [
           0.04016,
           0.04065,
           0.04089,
           0.04043,
           0.04021,
           0.03932,
           0.03908,
           0.03905,
           0.03857,
           0.03885,
           0.03894,
           0.03877,
           0.03838,
           0.0366,
           0.03654
          ],
          [
           0.04025,
           0.04073,
           0.04096,
           0.04051,
           0.0403,
           0.03943,
           0.03919,
           0.03916,
           0.03869,
           0.03897,
           0.03905,
           0.03889,
           0.03851,
           0.03673,
           0.03667
          ],
          [
           0.04034,
           0.04081,
           0.04103,
           0.04059,
           0.04038,
           0.03953,
           0.0393,
           0.03926,
           0.03881,
           0.03908,
           0.03916,
           0.039,
           0.03862,
           0.03686,
           0.03679
          ],
          [
           0.04042,
           0.04088,
           0.0411,
           0.04067,
           0.04047,
           0.03963,
           0.0394,
           0.03936,
           0.03892,
           0.03918,
           0.03926,
           0.03911,
           0.03874,
           0.03697,
           0.03691
          ],
          [
           0.0405,
           0.04095,
           0.04117,
           0.04074,
           0.04054,
           0.03972,
           0.0395,
           0.03946,
           0.03903,
           0.03928,
           0.03936,
           0.03921,
           0.03885,
           0.03709,
           0.03703
          ],
          [
           0.04058,
           0.04102,
           0.04124,
           0.04082,
           0.04062,
           0.03981,
           0.03959,
           0.03956,
           0.03913,
           0.03938,
           0.03946,
           0.03931,
           0.03896,
           0.0372,
           0.03714
          ],
          [
           0.04065,
           0.04109,
           0.0413,
           0.04089,
           0.0407,
           0.0399,
           0.03969,
           0.03965,
           0.03923,
           0.03948,
           0.03955,
           0.03941,
           0.03906,
           0.03731,
           0.03725
          ],
          [
           0.04073,
           0.04116,
           0.04136,
           0.04096,
           0.04077,
           0.03998,
           0.03978,
           0.03974,
           0.03933,
           0.03957,
           0.03965,
           0.0395,
           0.03916,
           0.03741,
           0.03736
          ],
          [
           0.0408,
           0.04122,
           0.04142,
           0.04102,
           0.04084,
           0.04007,
           0.03986,
           0.03983,
           0.03942,
           0.03966,
           0.03973,
           0.03959,
           0.03926,
           0.03751,
           0.03746
          ],
          [
           0.04086,
           0.04128,
           0.04148,
           0.04109,
           0.0409,
           0.04015,
           0.03994,
           0.03991,
           0.03951,
           0.03975,
           0.03982,
           0.03968,
           0.03935,
           0.03761,
           0.03756
          ],
          [
           0.04093,
           0.04134,
           0.04153,
           0.04115,
           0.04097,
           0.04023,
           0.04003,
           0.03999,
           0.0396,
           0.03983,
           0.0399,
           0.03977,
           0.03944,
           0.03771,
           0.03765
          ],
          [
           0.04099,
           0.0414,
           0.04159,
           0.04121,
           0.04103,
           0.0403,
           0.0401,
           0.04007,
           0.03968,
           0.03991,
           0.03998,
           0.03985,
           0.03953,
           0.0378,
           0.03774
          ],
          [
           0.04106,
           0.04145,
           0.04164,
           0.04127,
           0.04109,
           0.04037,
           0.04018,
           0.04015,
           0.03977,
           0.03999,
           0.04006,
           0.03993,
           0.03961,
           0.03789,
           0.03783
          ],
          [
           0.04112,
           0.04151,
           0.04169,
           0.04133,
           0.04115,
           0.04044,
           0.04025,
           0.04022,
           0.03985,
           0.04007,
           0.04014,
           0.04001,
           0.0397,
           0.03797,
           0.03792
          ],
          [
           0.04117,
           0.04156,
           0.04174,
           0.04138,
           0.04121,
           0.04051,
           0.04033,
           0.0403,
           0.03993,
           0.04014,
           0.04021,
           0.04008,
           0.03978,
           0.03806,
           0.03801
          ],
          [
           0.04123,
           0.04161,
           0.04179,
           0.04143,
           0.04127,
           0.04058,
           0.0404,
           0.04037,
           0.04,
           0.04022,
           0.04028,
           0.04016,
           0.03985,
           0.03814,
           0.03809
          ],
          [
           0.04129,
           0.04166,
           0.04184,
           0.04149,
           0.04132,
           0.04065,
           0.04046,
           0.04044,
           0.04007,
           0.04029,
           0.04035,
           0.04023,
           0.03993,
           0.03822,
           0.03817
          ],
          [
           0.04134,
           0.04171,
           0.04188,
           0.04154,
           0.04138,
           0.04071,
           0.04053,
           0.0405,
           0.04015,
           0.04036,
           0.04042,
           0.0403,
           0.04,
           0.03829,
           0.03825
          ],
          [
           0.04139,
           0.04176,
           0.04193,
           0.04159,
           0.04143,
           0.04077,
           0.04059,
           0.04057,
           0.04022,
           0.04042,
           0.04048,
           0.04036,
           0.04008,
           0.03837,
           0.03832
          ],
          [
           0.04144,
           0.0418,
           0.04197,
           0.04163,
           0.04148,
           0.04083,
           0.04066,
           0.04063,
           0.04028,
           0.04049,
           0.04055,
           0.04043,
           0.04014,
           0.03844,
           0.03839
          ],
          [
           0.04149,
           0.04185,
           0.04201,
           0.04168,
           0.04153,
           0.04089,
           0.04072,
           0.04069,
           0.04035,
           0.04055,
           0.04061,
           0.04049,
           0.04021,
           0.03851,
           0.03847
          ],
          [
           0.04154,
           0.04189,
           0.04205,
           0.04173,
           0.04158,
           0.04094,
           0.04078,
           0.04075,
           0.04041,
           0.04061,
           0.04067,
           0.04055,
           0.04028,
           0.03858,
           0.03853
          ],
          [
           0.04159,
           0.04193,
           0.04209,
           0.04177,
           0.04162,
           0.041,
           0.04083,
           0.04081,
           0.04048,
           0.04067,
           0.04073,
           0.04062,
           0.04034,
           0.03865,
           0.0386
          ],
          [
           0.04163,
           0.04197,
           0.04213,
           0.04181,
           0.04167,
           0.04105,
           0.04089,
           0.04086,
           0.04054,
           0.04073,
           0.04079,
           0.04067,
           0.0404,
           0.03871,
           0.03867
          ],
          [
           0.04168,
           0.04201,
           0.04217,
           0.04186,
           0.04171,
           0.0411,
           0.04094,
           0.04092,
           0.0406,
           0.04078,
           0.04084,
           0.04073,
           0.04047,
           0.03878,
           0.03873
          ],
          [
           0.04172,
           0.04205,
           0.04221,
           0.0419,
           0.04175,
           0.04116,
           0.041,
           0.04097,
           0.04065,
           0.04084,
           0.0409,
           0.04079,
           0.04052,
           0.03884,
           0.03879
          ],
          [
           0.04176,
           0.04209,
           0.04224,
           0.04194,
           0.0418,
           0.04121,
           0.04105,
           0.04102,
           0.04071,
           0.04089,
           0.04095,
           0.04084,
           0.04058,
           0.0389,
           0.03885
          ],
          [
           0.0418,
           0.04213,
           0.04228,
           0.04198,
           0.04184,
           0.04125,
           0.0411,
           0.04107,
           0.04076,
           0.04095,
           0.041,
           0.04089,
           0.04064,
           0.03896,
           0.03891
          ],
          [
           0.04184,
           0.04216,
           0.04231,
           0.04201,
           0.04188,
           0.0413,
           0.04115,
           0.04112,
           0.04082,
           0.041,
           0.04105,
           0.04095,
           0.04069,
           0.03901,
           0.03897
          ],
          [
           0.04188,
           0.0422,
           0.04235,
           0.04205,
           0.04191,
           0.04135,
           0.04119,
           0.04117,
           0.04087,
           0.04105,
           0.0411,
           0.041,
           0.04075,
           0.03907,
           0.03903
          ],
          [
           0.04192,
           0.04223,
           0.04238,
           0.04209,
           0.04195,
           0.04139,
           0.04124,
           0.04122,
           0.04092,
           0.0411,
           0.04115,
           0.04105,
           0.0408,
           0.03912,
           0.03908
          ],
          [
           0.04196,
           0.04226,
           0.04241,
           0.04212,
           0.04199,
           0.04144,
           0.04129,
           0.04126,
           0.04097,
           0.04114,
           0.0412,
           0.04109,
           0.04085,
           0.03918,
           0.03914
          ],
          [
           0.042,
           0.0423,
           0.04244,
           0.04216,
           0.04203,
           0.04148,
           0.04133,
           0.04131,
           0.04102,
           0.04119,
           0.04124,
           0.04114,
           0.0409,
           0.03923,
           0.03919
          ],
          [
           0.04203,
           0.04233,
           0.04247,
           0.04219,
           0.04206,
           0.04152,
           0.04137,
           0.04135,
           0.04106,
           0.04123,
           0.04129,
           0.04119,
           0.04095,
           0.03928,
           0.03924
          ],
          [
           0.04207,
           0.04236,
           0.0425,
           0.04222,
           0.04209,
           0.04156,
           0.04142,
           0.04139,
           0.04111,
           0.04128,
           0.04133,
           0.04123,
           0.041,
           0.03933,
           0.03929
          ],
          [
           0.0421,
           0.04239,
           0.04253,
           0.04226,
           0.04213,
           0.0416,
           0.04146,
           0.04144,
           0.04116,
           0.04132,
           0.04137,
           0.04127,
           0.04104,
           0.03938,
           0.03934
          ],
          [
           0.04213,
           0.04242,
           0.04256,
           0.04229,
           0.04216,
           0.04164,
           0.0415,
           0.04148,
           0.0412,
           0.04136,
           0.04141,
           0.04132,
           0.04109,
           0.03942,
           0.03939
          ],
          [
           0.04217,
           0.04245,
           0.04258,
           0.04232,
           0.04219,
           0.04168,
           0.04154,
           0.04152,
           0.04124,
           0.0414,
           0.04145,
           0.04136,
           0.04113,
           0.03947,
           0.03943
          ],
          [
           0.0422,
           0.04248,
           0.04261,
           0.04235,
           0.04222,
           0.04171,
           0.04158,
           0.04156,
           0.04128,
           0.04144,
           0.04149,
           0.0414,
           0.04118,
           0.03952,
           0.03948
          ],
          [
           0.04223,
           0.04251,
           0.04264,
           0.04238,
           0.04226,
           0.04175,
           0.04162,
           0.04159,
           0.04133,
           0.04148,
           0.04153,
           0.04144,
           0.04122,
           0.03956,
           0.03952
          ],
          [
           0.04226,
           0.04253,
           0.04266,
           0.04241,
           0.04229,
           0.04179,
           0.04165,
           0.04163,
           0.04137,
           0.04152,
           0.04157,
           0.04148,
           0.04126,
           0.0396,
           0.03957
          ],
          [
           0.04229,
           0.04256,
           0.04269,
           0.04243,
           0.04232,
           0.04182,
           0.04169,
           0.04167,
           0.04141,
           0.04156,
           0.04161,
           0.04152,
           0.0413,
           0.03964,
           0.03961
          ],
          [
           0.04232,
           0.04259,
           0.04271,
           0.04246,
           0.04234,
           0.04186,
           0.04172,
           0.0417,
           0.04144,
           0.0416,
           0.04164,
           0.04155,
           0.04134,
           0.03969,
           0.03965
          ],
          [
           0.04235,
           0.04261,
           0.04274,
           0.04249,
           0.04237,
           0.04189,
           0.04176,
           0.04174,
           0.04148,
           0.04163,
           0.04168,
           0.04159,
           0.04138,
           0.03973,
           0.03969
          ],
          [
           0.04237,
           0.04264,
           0.04276,
           0.04251,
           0.0424,
           0.04192,
           0.04179,
           0.04177,
           0.04152,
           0.04167,
           0.04171,
           0.04163,
           0.04142,
           0.03977,
           0.03973
          ],
          [
           0.0424,
           0.04266,
           0.04279,
           0.04254,
           0.04243,
           0.04195,
           0.04183,
           0.04181,
           0.04155,
           0.0417,
           0.04175,
           0.04166,
           0.04145,
           0.0398,
           0.03977
          ],
          [
           0.04243,
           0.04269,
           0.04281,
           0.04257,
           0.04245,
           0.04198,
           0.04186,
           0.04184,
           0.04159,
           0.04174,
           0.04178,
           0.0417,
           0.04149,
           0.03984,
           0.03981
          ],
          [
           0.04245,
           0.04271,
           0.04283,
           0.04259,
           0.04248,
           0.04202,
           0.04189,
           0.04187,
           0.04162,
           0.04177,
           0.04181,
           0.04173,
           0.04153,
           0.03988,
           0.03985
          ],
          [
           0.04248,
           0.04273,
           0.04285,
           0.04261,
           0.0425,
           0.04205,
           0.04192,
           0.0419,
           0.04166,
           0.0418,
           0.04185,
           0.04176,
           0.04156,
           0.03992,
           0.03988
          ],
          [
           0.0425,
           0.04275,
           0.04287,
           0.04264,
           0.04253,
           0.04207,
           0.04195,
           0.04193,
           0.04169,
           0.04183,
           0.04188,
           0.04179,
           0.0416,
           0.03995,
           0.03992
          ],
          [
           0.04253,
           0.04278,
           0.04289,
           0.04266,
           0.04255,
           0.0421,
           0.04198,
           0.04196,
           0.04172,
           0.04187,
           0.04191,
           0.04183,
           0.04163,
           0.03999,
           0.03995
          ],
          [
           0.04255,
           0.0428,
           0.04292,
           0.04268,
           0.04258,
           0.04213,
           0.04201,
           0.04199,
           0.04176,
           0.0419,
           0.04194,
           0.04186,
           0.04166,
           0.04002,
           0.03999
          ],
          [
           0.04258,
           0.04282,
           0.04294,
           0.04271,
           0.0426,
           0.04216,
           0.04204,
           0.04202,
           0.04179,
           0.04193,
           0.04197,
           0.04189,
           0.04169,
           0.04006,
           0.04002
          ],
          [
           0.0426,
           0.04284,
           0.04296,
           0.04273,
           0.04262,
           0.04219,
           0.04207,
           0.04205,
           0.04182,
           0.04196,
           0.042,
           0.04192,
           0.04173,
           0.04009,
           0.04006
          ],
          [
           0.04262,
           0.04286,
           0.04297,
           0.04275,
           0.04265,
           0.04221,
           0.0421,
           0.04208,
           0.04185,
           0.04199,
           0.04203,
           0.04195,
           0.04176,
           0.04012,
           0.04009
          ],
          [
           0.04265,
           0.04288,
           0.04299,
           0.04277,
           0.04267,
           0.04224,
           0.04213,
           0.04211,
           0.04188,
           0.04201,
           0.04205,
           0.04198,
           0.04179,
           0.04015,
           0.04012
          ],
          [
           0.04267,
           0.0429,
           0.04301,
           0.04279,
           0.04269,
           0.04227,
           0.04215,
           0.04213,
           0.04191,
           0.04204,
           0.04208,
           0.042,
           0.04182,
           0.04018,
           0.04015
          ],
          [
           0.04269,
           0.04292,
           0.04303,
           0.04281,
           0.04271,
           0.04229,
           0.04218,
           0.04216,
           0.04194,
           0.04207,
           0.04211,
           0.04203,
           0.04185,
           0.04021,
           0.04018
          ],
          [
           0.04271,
           0.04294,
           0.04305,
           0.04283,
           0.04273,
           0.04232,
           0.0422,
           0.04219,
           0.04196,
           0.0421,
           0.04214,
           0.04206,
           0.04188,
           0.04024,
           0.04021
          ],
          [
           0.04273,
           0.04296,
           0.04307,
           0.04285,
           0.04275,
           0.04234,
           0.04223,
           0.04221,
           0.04199,
           0.04212,
           0.04216,
           0.04209,
           0.0419,
           0.04027,
           0.04024
          ],
          [
           0.04275,
           0.04298,
           0.04308,
           0.04287,
           0.04277,
           0.04236,
           0.04225,
           0.04224,
           0.04202,
           0.04215,
           0.04219,
           0.04211,
           0.04193,
           0.0403,
           0.04027
          ],
          [
           0.04277,
           0.04299,
           0.0431,
           0.04289,
           0.04279,
           0.04239,
           0.04228,
           0.04226,
           0.04205,
           0.04217,
           0.04221,
           0.04214,
           0.04196,
           0.04033,
           0.0403
          ],
          [
           0.04279,
           0.04301,
           0.04312,
           0.04291,
           0.04281,
           0.04241,
           0.0423,
           0.04229,
           0.04207,
           0.0422,
           0.04224,
           0.04216,
           0.04199,
           0.04036,
           0.04033
          ],
          [
           0.04281,
           0.04303,
           0.04313,
           0.04293,
           0.04283,
           0.04243,
           0.04233,
           0.04231,
           0.0421,
           0.04222,
           0.04226,
           0.04219,
           0.04201,
           0.04039,
           0.04036
          ],
          [
           0.04283,
           0.04305,
           0.04315,
           0.04295,
           0.04285,
           0.04246,
           0.04235,
           0.04233,
           0.04212,
           0.04225,
           0.04228,
           0.04221,
           0.04204,
           0.04041,
           0.04039
          ],
          [
           0.04285,
           0.04306,
           0.04317,
           0.04296,
           0.04287,
           0.04248,
           0.04237,
           0.04236,
           0.04215,
           0.04227,
           0.04231,
           0.04224,
           0.04206,
           0.04044,
           0.04041
          ],
          [
           0.04287,
           0.04308,
           0.04318,
           0.04298,
           0.04289,
           0.0425,
           0.0424,
           0.04238,
           0.04217,
           0.04229,
           0.04233,
           0.04226,
           0.04209,
           0.04047,
           0.04044
          ],
          [
           0.04288,
           0.0431,
           0.0432,
           0.043,
           0.04291,
           0.04252,
           0.04242,
           0.0424,
           0.0422,
           0.04232,
           0.04235,
           0.04228,
           0.04211,
           0.04049,
           0.04046
          ],
          [
           0.0429,
           0.04311,
           0.04321,
           0.04301,
           0.04292,
           0.04254,
           0.04244,
           0.04242,
           0.04222,
           0.04234,
           0.04238,
           0.04231,
           0.04214,
           0.04052,
           0.04049
          ],
          [
           0.04292,
           0.04313,
           0.04323,
           0.04303,
           0.04294,
           0.04256,
           0.04246,
           0.04244,
           0.04224,
           0.04236,
           0.0424,
           0.04233,
           0.04216,
           0.04054,
           0.04052
          ],
          [
           0.04294,
           0.04314,
           0.04324,
           0.04305,
           0.04296,
           0.04258,
           0.04248,
           0.04247,
           0.04227,
           0.04238,
           0.04242,
           0.04235,
           0.04219,
           0.04057,
           0.04054
          ],
          [
           0.04295,
           0.04316,
           0.04326,
           0.04306,
           0.04297,
           0.0426,
           0.0425,
           0.04249,
           0.04229,
           0.0424,
           0.04244,
           0.04237,
           0.04221,
           0.04059,
           0.04056
          ],
          [
           0.04297,
           0.04317,
           0.04327,
           0.04308,
           0.04299,
           0.04262,
           0.04252,
           0.04251,
           0.04231,
           0.04243,
           0.04246,
           0.04239,
           0.04223,
           0.04061,
           0.04059
          ],
          [
           0.04299,
           0.04319,
           0.04328,
           0.04309,
           0.04301,
           0.04264,
           0.04254,
           0.04253,
           0.04233,
           0.04245,
           0.04248,
           0.04241,
           0.04225,
           0.04064,
           0.04061
          ],
          [
           0.043,
           0.0432,
           0.0433,
           0.04311,
           0.04302,
           0.04266,
           0.04256,
           0.04255,
           0.04235,
           0.04247,
           0.0425,
           0.04243,
           0.04228,
           0.04066,
           0.04063
          ],
          [
           0.04302,
           0.04322,
           0.04331,
           0.04313,
           0.04304,
           0.04268,
           0.04258,
           0.04257,
           0.04237,
           0.04249,
           0.04252,
           0.04245,
           0.0423,
           0.04068,
           0.04066
          ],
          [
           0.04303,
           0.04323,
           0.04333,
           0.04314,
           0.04305,
           0.0427,
           0.0426,
           0.04258,
           0.04239,
           0.04251,
           0.04254,
           0.04247,
           0.04232,
           0.04071,
           0.04068
          ],
          [
           0.04305,
           0.04325,
           0.04334,
           0.04315,
           0.04307,
           0.04271,
           0.04262,
           0.0426,
           0.04241,
           0.04253,
           0.04256,
           0.04249,
           0.04234,
           0.04073,
           0.0407
          ],
          [
           0.04306,
           0.04326,
           0.04335,
           0.04317,
           0.04308,
           0.04273,
           0.04264,
           0.04262,
           0.04243,
           0.04255,
           0.04258,
           0.04251,
           0.04236,
           0.04075,
           0.04072
          ],
          [
           0.04308,
           0.04327,
           0.04336,
           0.04318,
           0.0431,
           0.04275,
           0.04266,
           0.04264,
           0.04245,
           0.04256,
           0.0426,
           0.04253,
           0.04238,
           0.04077,
           0.04074
          ],
          [
           0.04309,
           0.04329,
           0.04338,
           0.0432,
           0.04311,
           0.04277,
           0.04267,
           0.04266,
           0.04247,
           0.04258,
           0.04262,
           0.04255,
           0.0424,
           0.04079,
           0.04077
          ],
          [
           0.04311,
           0.0433,
           0.04339,
           0.04321,
           0.04313,
           0.04278,
           0.04269,
           0.04268,
           0.04249,
           0.0426,
           0.04263,
           0.04257,
           0.04242,
           0.04081,
           0.04079
          ],
          [
           0.04312,
           0.04331,
           0.0434,
           0.04322,
           0.04314,
           0.0428,
           0.04271,
           0.04269,
           0.04251,
           0.04262,
           0.04265,
           0.04259,
           0.04244,
           0.04083,
           0.04081
          ],
          [
           0.04314,
           0.04332,
           0.04341,
           0.04324,
           0.04316,
           0.04282,
           0.04273,
           0.04271,
           0.04253,
           0.04264,
           0.04267,
           0.04261,
           0.04246,
           0.04085,
           0.04083
          ],
          [
           0.04315,
           0.04334,
           0.04342,
           0.04325,
           0.04317,
           0.04283,
           0.04274,
           0.04273,
           0.04255,
           0.04265,
           0.04269,
           0.04262,
           0.04248,
           0.04087,
           0.04085
          ],
          [
           0.04316,
           0.04335,
           0.04344,
           0.04326,
           0.04318,
           0.04285,
           0.04276,
           0.04274,
           0.04257,
           0.04267,
           0.0427,
           0.04264,
           0.0425,
           0.04089,
           0.04087
          ],
          [
           0.04318,
           0.04336,
           0.04345,
           0.04328,
           0.0432,
           0.04286,
           0.04277,
           0.04276,
           0.04258,
           0.04269,
           0.04272,
           0.04266,
           0.04251,
           0.04091,
           0.04088
          ],
          [
           0.04319,
           0.04337,
           0.04346,
           0.04329,
           0.04321,
           0.04288,
           0.04279,
           0.04278,
           0.0426,
           0.04271,
           0.04274,
           0.04268,
           0.04253,
           0.04093,
           0.0409
          ],
          [
           0.0432,
           0.04338,
           0.04347,
           0.0433,
           0.04322,
           0.04289,
           0.04281,
           0.04279,
           0.04262,
           0.04272,
           0.04275,
           0.04269,
           0.04255,
           0.04095,
           0.04092
          ],
          [
           0.04322,
           0.0434,
           0.04348,
           0.04331,
           0.04323,
           0.04291,
           0.04282,
           0.04281,
           0.04264,
           0.04274,
           0.04277,
           0.04271,
           0.04257,
           0.04096,
           0.04094
          ],
          [
           0.04323,
           0.04341,
           0.04349,
           0.04332,
           0.04325,
           0.04292,
           0.04284,
           0.04282,
           0.04265,
           0.04275,
           0.04278,
           0.04273,
           0.04258,
           0.04098,
           0.04096
          ],
          [
           0.04324,
           0.04342,
           0.0435,
           0.04334,
           0.04326,
           0.04294,
           0.04285,
           0.04284,
           0.04267,
           0.04277,
           0.0428,
           0.04274,
           0.0426,
           0.041,
           0.04098
          ],
          [
           0.04325,
           0.04343,
           0.04351,
           0.04335,
           0.04327,
           0.04295,
           0.04287,
           0.04285,
           0.04269,
           0.04279,
           0.04282,
           0.04276,
           0.04262,
           0.04102,
           0.04099
          ],
          [
           0.04327,
           0.04344,
           0.04352,
           0.04336,
           0.04328,
           0.04297,
           0.04288,
           0.04287,
           0.0427,
           0.0428,
           0.04283,
           0.04277,
           0.04263,
           0.04103,
           0.04101
          ],
          [
           0.04328,
           0.04345,
           0.04353,
           0.04337,
           0.0433,
           0.04298,
           0.0429,
           0.04288,
           0.04272,
           0.04282,
           0.04285,
           0.04279,
           0.04265,
           0.04105,
           0.04103
          ],
          [
           0.04329,
           0.04346,
           0.04354,
           0.04338,
           0.04331,
           0.043,
           0.04291,
           0.0429,
           0.04273,
           0.04283,
           0.04286,
           0.0428,
           0.04267,
           0.04107,
           0.04105
          ],
          [
           0.0433,
           0.04347,
           0.04355,
           0.04339,
           0.04332,
           0.04301,
           0.04293,
           0.04291,
           0.04275,
           0.04285,
           0.04287,
           0.04282,
           0.04268,
           0.04109,
           0.04106
          ],
          [
           0.04331,
           0.04348,
           0.04356,
           0.0434,
           0.04333,
           0.04302,
           0.04294,
           0.04293,
           0.04276,
           0.04286,
           0.04289,
           0.04283,
           0.0427,
           0.0411,
           0.04108
          ],
          [
           0.04332,
           0.04349,
           0.04357,
           0.04341,
           0.04334,
           0.04304,
           0.04295,
           0.04294,
           0.04278,
           0.04287,
           0.0429,
           0.04285,
           0.04271,
           0.04112,
           0.0411
          ],
          [
           0.04334,
           0.0435,
           0.04358,
           0.04342,
           0.04335,
           0.04305,
           0.04297,
           0.04295,
           0.04279,
           0.04289,
           0.04292,
           0.04286,
           0.04273,
           0.04113,
           0.04111
          ]
         ]
        }
       ],
       "layout": {
        "autosize": false,
        "height": 700,
        "margin": {
         "b": 10,
         "l": 50,
         "r": 20,
         "t": 50
        },
        "paper_bgcolor": "LightSteelBlue",
        "scene": {
         "aspectratio": {
          "x": 1,
          "y": 1.4,
          "z": 0.75
         },
         "camera": {
          "center": {
           "x": 0,
           "y": 0,
           "z": 0
          },
          "eye": {
           "x": 1.6,
           "y": 1.6,
           "z": 0.5
          },
          "up": {
           "x": 0,
           "y": 0,
           "z": 1
          }
         },
         "xaxis": {
          "title": {
           "text": "Date"
          }
         },
         "yaxis": {
          "title": {
           "text": "Tenor"
          }
         },
         "zaxis": {
          "title": {
           "text": "Yield"
          }
         }
        },
        "template": {
         "data": {
          "bar": [
           {
            "error_x": {
             "color": "#2a3f5f"
            },
            "error_y": {
             "color": "#2a3f5f"
            },
            "marker": {
             "line": {
              "color": "#E5ECF6",
              "width": 0.5
             },
             "pattern": {
              "fillmode": "overlay",
              "size": 10,
              "solidity": 0.2
             }
            },
            "type": "bar"
           }
          ],
          "barpolar": [
           {
            "marker": {
             "line": {
              "color": "#E5ECF6",
              "width": 0.5
             },
             "pattern": {
              "fillmode": "overlay",
              "size": 10,
              "solidity": 0.2
             }
            },
            "type": "barpolar"
           }
          ],
          "carpet": [
           {
            "aaxis": {
             "endlinecolor": "#2a3f5f",
             "gridcolor": "white",
             "linecolor": "white",
             "minorgridcolor": "white",
             "startlinecolor": "#2a3f5f"
            },
            "baxis": {
             "endlinecolor": "#2a3f5f",
             "gridcolor": "white",
             "linecolor": "white",
             "minorgridcolor": "white",
             "startlinecolor": "#2a3f5f"
            },
            "type": "carpet"
           }
          ],
          "choropleth": [
           {
            "colorbar": {
             "outlinewidth": 0,
             "ticks": ""
            },
            "type": "choropleth"
           }
          ],
          "contour": [
           {
            "colorbar": {
             "outlinewidth": 0,
             "ticks": ""
            },
            "colorscale": [
             [
              0,
              "#0d0887"
             ],
             [
              0.1111111111111111,
              "#46039f"
             ],
             [
              0.2222222222222222,
              "#7201a8"
             ],
             [
              0.3333333333333333,
              "#9c179e"
             ],
             [
              0.4444444444444444,
              "#bd3786"
             ],
             [
              0.5555555555555556,
              "#d8576b"
             ],
             [
              0.6666666666666666,
              "#ed7953"
             ],
             [
              0.7777777777777778,
              "#fb9f3a"
             ],
             [
              0.8888888888888888,
              "#fdca26"
             ],
             [
              1,
              "#f0f921"
             ]
            ],
            "type": "contour"
           }
          ],
          "contourcarpet": [
           {
            "colorbar": {
             "outlinewidth": 0,
             "ticks": ""
            },
            "type": "contourcarpet"
           }
          ],
          "heatmap": [
           {
            "colorbar": {
             "outlinewidth": 0,
             "ticks": ""
            },
            "colorscale": [
             [
              0,
              "#0d0887"
             ],
             [
              0.1111111111111111,
              "#46039f"
             ],
             [
              0.2222222222222222,
              "#7201a8"
             ],
             [
              0.3333333333333333,
              "#9c179e"
             ],
             [
              0.4444444444444444,
              "#bd3786"
             ],
             [
              0.5555555555555556,
              "#d8576b"
             ],
             [
              0.6666666666666666,
              "#ed7953"
             ],
             [
              0.7777777777777778,
              "#fb9f3a"
             ],
             [
              0.8888888888888888,
              "#fdca26"
             ],
             [
              1,
              "#f0f921"
             ]
            ],
            "type": "heatmap"
           }
          ],
          "heatmapgl": [
           {
            "colorbar": {
             "outlinewidth": 0,
             "ticks": ""
            },
            "colorscale": [
             [
              0,
              "#0d0887"
             ],
             [
              0.1111111111111111,
              "#46039f"
             ],
             [
              0.2222222222222222,
              "#7201a8"
             ],
             [
              0.3333333333333333,
              "#9c179e"
             ],
             [
              0.4444444444444444,
              "#bd3786"
             ],
             [
              0.5555555555555556,
              "#d8576b"
             ],
             [
              0.6666666666666666,
              "#ed7953"
             ],
             [
              0.7777777777777778,
              "#fb9f3a"
             ],
             [
              0.8888888888888888,
              "#fdca26"
             ],
             [
              1,
              "#f0f921"
             ]
            ],
            "type": "heatmapgl"
           }
          ],
          "histogram": [
           {
            "marker": {
             "pattern": {
              "fillmode": "overlay",
              "size": 10,
              "solidity": 0.2
             }
            },
            "type": "histogram"
           }
          ],
          "histogram2d": [
           {
            "colorbar": {
             "outlinewidth": 0,
             "ticks": ""
            },
            "colorscale": [
             [
              0,
              "#0d0887"
             ],
             [
              0.1111111111111111,
              "#46039f"
             ],
             [
              0.2222222222222222,
              "#7201a8"
             ],
             [
              0.3333333333333333,
              "#9c179e"
             ],
             [
              0.4444444444444444,
              "#bd3786"
             ],
             [
              0.5555555555555556,
              "#d8576b"
             ],
             [
              0.6666666666666666,
              "#ed7953"
             ],
             [
              0.7777777777777778,
              "#fb9f3a"
             ],
             [
              0.8888888888888888,
              "#fdca26"
             ],
             [
              1,
              "#f0f921"
             ]
            ],
            "type": "histogram2d"
           }
          ],
          "histogram2dcontour": [
           {
            "colorbar": {
             "outlinewidth": 0,
             "ticks": ""
            },
            "colorscale": [
             [
              0,
              "#0d0887"
             ],
             [
              0.1111111111111111,
              "#46039f"
             ],
             [
              0.2222222222222222,
              "#7201a8"
             ],
             [
              0.3333333333333333,
              "#9c179e"
             ],
             [
              0.4444444444444444,
              "#bd3786"
             ],
             [
              0.5555555555555556,
              "#d8576b"
             ],
             [
              0.6666666666666666,
              "#ed7953"
             ],
             [
              0.7777777777777778,
              "#fb9f3a"
             ],
             [
              0.8888888888888888,
              "#fdca26"
             ],
             [
              1,
              "#f0f921"
             ]
            ],
            "type": "histogram2dcontour"
           }
          ],
          "mesh3d": [
           {
            "colorbar": {
             "outlinewidth": 0,
             "ticks": ""
            },
            "type": "mesh3d"
           }
          ],
          "parcoords": [
           {
            "line": {
             "colorbar": {
              "outlinewidth": 0,
              "ticks": ""
             }
            },
            "type": "parcoords"
           }
          ],
          "pie": [
           {
            "automargin": true,
            "type": "pie"
           }
          ],
          "scatter": [
           {
            "fillpattern": {
             "fillmode": "overlay",
             "size": 10,
             "solidity": 0.2
            },
            "type": "scatter"
           }
          ],
          "scatter3d": [
           {
            "line": {
             "colorbar": {
              "outlinewidth": 0,
              "ticks": ""
             }
            },
            "marker": {
             "colorbar": {
              "outlinewidth": 0,
              "ticks": ""
             }
            },
            "type": "scatter3d"
           }
          ],
          "scattercarpet": [
           {
            "marker": {
             "colorbar": {
              "outlinewidth": 0,
              "ticks": ""
             }
            },
            "type": "scattercarpet"
           }
          ],
          "scattergeo": [
           {
            "marker": {
             "colorbar": {
              "outlinewidth": 0,
              "ticks": ""
             }
            },
            "type": "scattergeo"
           }
          ],
          "scattergl": [
           {
            "marker": {
             "colorbar": {
              "outlinewidth": 0,
              "ticks": ""
             }
            },
            "type": "scattergl"
           }
          ],
          "scattermapbox": [
           {
            "marker": {
             "colorbar": {
              "outlinewidth": 0,
              "ticks": ""
             }
            },
            "type": "scattermapbox"
           }
          ],
          "scatterpolar": [
           {
            "marker": {
             "colorbar": {
              "outlinewidth": 0,
              "ticks": ""
             }
            },
            "type": "scatterpolar"
           }
          ],
          "scatterpolargl": [
           {
            "marker": {
             "colorbar": {
              "outlinewidth": 0,
              "ticks": ""
             }
            },
            "type": "scatterpolargl"
           }
          ],
          "scatterternary": [
           {
            "marker": {
             "colorbar": {
              "outlinewidth": 0,
              "ticks": ""
             }
            },
            "type": "scatterternary"
           }
          ],
          "surface": [
           {
            "colorbar": {
             "outlinewidth": 0,
             "ticks": ""
            },
            "colorscale": [
             [
              0,
              "#0d0887"
             ],
             [
              0.1111111111111111,
              "#46039f"
             ],
             [
              0.2222222222222222,
              "#7201a8"
             ],
             [
              0.3333333333333333,
              "#9c179e"
             ],
             [
              0.4444444444444444,
              "#bd3786"
             ],
             [
              0.5555555555555556,
              "#d8576b"
             ],
             [
              0.6666666666666666,
              "#ed7953"
             ],
             [
              0.7777777777777778,
              "#fb9f3a"
             ],
             [
              0.8888888888888888,
              "#fdca26"
             ],
             [
              1,
              "#f0f921"
             ]
            ],
            "type": "surface"
           }
          ],
          "table": [
           {
            "cells": {
             "fill": {
              "color": "#EBF0F8"
             },
             "line": {
              "color": "white"
             }
            },
            "header": {
             "fill": {
              "color": "#C8D4E3"
             },
             "line": {
              "color": "white"
             }
            },
            "type": "table"
           }
          ]
         },
         "layout": {
          "annotationdefaults": {
           "arrowcolor": "#2a3f5f",
           "arrowhead": 0,
           "arrowwidth": 1
          },
          "autotypenumbers": "strict",
          "coloraxis": {
           "colorbar": {
            "outlinewidth": 0,
            "ticks": ""
           }
          },
          "colorscale": {
           "diverging": [
            [
             0,
             "#8e0152"
            ],
            [
             0.1,
             "#c51b7d"
            ],
            [
             0.2,
             "#de77ae"
            ],
            [
             0.3,
             "#f1b6da"
            ],
            [
             0.4,
             "#fde0ef"
            ],
            [
             0.5,
             "#f7f7f7"
            ],
            [
             0.6,
             "#e6f5d0"
            ],
            [
             0.7,
             "#b8e186"
            ],
            [
             0.8,
             "#7fbc41"
            ],
            [
             0.9,
             "#4d9221"
            ],
            [
             1,
             "#276419"
            ]
           ],
           "sequential": [
            [
             0,
             "#0d0887"
            ],
            [
             0.1111111111111111,
             "#46039f"
            ],
            [
             0.2222222222222222,
             "#7201a8"
            ],
            [
             0.3333333333333333,
             "#9c179e"
            ],
            [
             0.4444444444444444,
             "#bd3786"
            ],
            [
             0.5555555555555556,
             "#d8576b"
            ],
            [
             0.6666666666666666,
             "#ed7953"
            ],
            [
             0.7777777777777778,
             "#fb9f3a"
            ],
            [
             0.8888888888888888,
             "#fdca26"
            ],
            [
             1,
             "#f0f921"
            ]
           ],
           "sequentialminus": [
            [
             0,
             "#0d0887"
            ],
            [
             0.1111111111111111,
             "#46039f"
            ],
            [
             0.2222222222222222,
             "#7201a8"
            ],
            [
             0.3333333333333333,
             "#9c179e"
            ],
            [
             0.4444444444444444,
             "#bd3786"
            ],
            [
             0.5555555555555556,
             "#d8576b"
            ],
            [
             0.6666666666666666,
             "#ed7953"
            ],
            [
             0.7777777777777778,
             "#fb9f3a"
            ],
            [
             0.8888888888888888,
             "#fdca26"
            ],
            [
             1,
             "#f0f921"
            ]
           ]
          },
          "colorway": [
           "#636efa",
           "#EF553B",
           "#00cc96",
           "#ab63fa",
           "#FFA15A",
           "#19d3f3",
           "#FF6692",
           "#B6E880",
           "#FF97FF",
           "#FECB52"
          ],
          "font": {
           "color": "#2a3f5f"
          },
          "geo": {
           "bgcolor": "white",
           "lakecolor": "white",
           "landcolor": "#E5ECF6",
           "showlakes": true,
           "showland": true,
           "subunitcolor": "white"
          },
          "hoverlabel": {
           "align": "left"
          },
          "hovermode": "closest",
          "mapbox": {
           "style": "light"
          },
          "paper_bgcolor": "white",
          "plot_bgcolor": "#E5ECF6",
          "polar": {
           "angularaxis": {
            "gridcolor": "white",
            "linecolor": "white",
            "ticks": ""
           },
           "bgcolor": "#E5ECF6",
           "radialaxis": {
            "gridcolor": "white",
            "linecolor": "white",
            "ticks": ""
           }
          },
          "scene": {
           "xaxis": {
            "backgroundcolor": "#E5ECF6",
            "gridcolor": "white",
            "gridwidth": 2,
            "linecolor": "white",
            "showbackground": true,
            "ticks": "",
            "zerolinecolor": "white"
           },
           "yaxis": {
            "backgroundcolor": "#E5ECF6",
            "gridcolor": "white",
            "gridwidth": 2,
            "linecolor": "white",
            "showbackground": true,
            "ticks": "",
            "zerolinecolor": "white"
           },
           "zaxis": {
            "backgroundcolor": "#E5ECF6",
            "gridcolor": "white",
            "gridwidth": 2,
            "linecolor": "white",
            "showbackground": true,
            "ticks": "",
            "zerolinecolor": "white"
           }
          },
          "shapedefaults": {
           "line": {
            "color": "#2a3f5f"
           }
          },
          "ternary": {
           "aaxis": {
            "gridcolor": "white",
            "linecolor": "white",
            "ticks": ""
           },
           "baxis": {
            "gridcolor": "white",
            "linecolor": "white",
            "ticks": ""
           },
           "bgcolor": "#E5ECF6",
           "caxis": {
            "gridcolor": "white",
            "linecolor": "white",
            "ticks": ""
           }
          },
          "title": {
           "x": 0.05
          },
          "xaxis": {
           "automargin": true,
           "gridcolor": "white",
           "linecolor": "white",
           "ticks": "",
           "title": {
            "standoff": 15
           },
           "zerolinecolor": "white",
           "zerolinewidth": 2
          },
          "yaxis": {
           "automargin": true,
           "gridcolor": "white",
           "linecolor": "white",
           "ticks": "",
           "title": {
            "standoff": 15
           },
           "zerolinecolor": "white",
           "zerolinewidth": 2
          }
         }
        },
        "title": {
         "text": "China Curve Progression since 2022"
        },
        "width": 1000
       }
      }
     },
     "metadata": {},
     "output_type": "display_data"
    }
   ],
   "source": [
    "# Looking at the correlation matrix, the Chinese curve should be flat\n",
    "# The curve doesn't change much over time, as all the tenor points are very correlated\n",
    "# Lets double check \n",
    "plotCurvesOverTime(countriesDict,\"China\", \"Greens\")"
   ]
  },
  {
   "cell_type": "code",
   "execution_count": 34,
   "metadata": {},
   "outputs": [
    {
     "data": {
      "image/png": "[encoded data removed]",
      "text/plain": [
       "<Figure size 640x480 with 1 Axes>"
      ]
     },
     "metadata": {
      "image/png": {
       "height": 480,
       "width": 640
      }
     },
     "output_type": "display_data"
    },
    {
     "data": {
      "text/plain": [
       "<Figure Size: (640 x 480)>"
      ]
     },
     "execution_count": 34,
     "metadata": {},
     "output_type": "execute_result"
    }
   ],
   "source": [
    "# Compute Slope \n",
    "startTenor = 2\n",
    "endTenor   = 30\n",
    "country = \"South Africa\"\n",
    "plotPcaTenorCorrelation(startTenor,endTenor,country,countriesDict)"
   ]
  }
 ],
 "metadata": {
  "kernelspec": {
   "display_name": "Python 3",
   "language": "python",
   "name": "python3"
  },
  "language_info": {
   "codemirror_mode": {
    "name": "ipython",
    "version": 3
   },
   "file_extension": ".py",
   "mimetype": "text/x-python",
   "name": "python",
   "nbconvert_exporter": "python",
   "pygments_lexer": "ipython3",
   "version": "3.8.16"
  }
 },
 "nbformat": 4,
 "nbformat_minor": 2
}
