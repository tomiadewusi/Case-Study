{
 "cells": [
  {
   "cell_type": "code",
   "execution_count": 1,
   "metadata": {},
   "outputs": [
    {
     "ename": "ImportError",
     "evalue": "cannot import name 'scale_filler_distiller' from 'plotnine' (/Users/tomiadewusi/pytorch-test/env/lib/python3.8/site-packages/plotnine/__init__.py)",
     "output_type": "error",
     "traceback": [
      "\u001b[0;31m---------------------------------------------------------------------------\u001b[0m",
      "\u001b[0;31mImportError\u001b[0m                               Traceback (most recent call last)",
      "Cell \u001b[0;32mIn[1], line 6\u001b[0m\n\u001b[1;32m      4\u001b[0m \u001b[38;5;28;01mfrom\u001b[39;00m \u001b[38;5;21;01mzipfile\u001b[39;00m \u001b[38;5;28;01mimport\u001b[39;00m is_zipfile, ZipFile\n\u001b[1;32m      5\u001b[0m \u001b[38;5;28;01mfrom\u001b[39;00m \u001b[38;5;21;01mdatetime\u001b[39;00m \u001b[38;5;28;01mimport\u001b[39;00m datetime, date\n\u001b[0;32m----> 6\u001b[0m \u001b[38;5;28;01mfrom\u001b[39;00m \u001b[38;5;21;01mplotnine\u001b[39;00m \u001b[38;5;28;01mimport\u001b[39;00m ggplot, geom_line, aes, theme_minimal, geom_tile, geom_label, scale_filler_distiller, labs, theme\n\u001b[1;32m      7\u001b[0m \u001b[38;5;28;01mimport\u001b[39;00m \u001b[38;5;21;01mplotly\u001b[39;00m\u001b[38;5;21;01m.\u001b[39;00m\u001b[38;5;21;01mgraph_objects\u001b[39;00m \u001b[38;5;28;01mas\u001b[39;00m \u001b[38;5;21;01mgo\u001b[39;00m\n",
      "\u001b[0;31mImportError\u001b[0m: cannot import name 'scale_filler_distiller' from 'plotnine' (/Users/tomiadewusi/pytorch-test/env/lib/python3.8/site-packages/plotnine/__init__.py)"
     ]
    }
   ],
   "source": [
    "import pandas as pd # Make sure that you have openpyxl installed so that you can open newer excel files\n",
    "import numpy as np\n",
    "import os \n",
    "from zipfile import is_zipfile, ZipFile\n",
    "from datetime import datetime, date\n",
    "from plotnine import ggplot, geom_line, aes, theme_minimal, geom_tile, geom_label, scale_filler_distiller, labs, theme\n",
    "import plotly.graph_objects as go"
   ]
  },
  {
   "cell_type": "code",
   "execution_count": null,
   "metadata": {},
   "outputs": [],
   "source": [
    "def extractFolder(inputFilesDir,unzippedFilesDir):\n",
    "    for file in os.listdir(inputFilesDir):   # get the list of files\n",
    "        if is_zipfile(inputFilesDir+file): # if it is a zipfile, extract it\n",
    "            with ZipFile(inputFilesDir+file) as item: # treat the file as a zip\n",
    "                item.extractall(unzippedFilesDir)  # extract it into a new folder\n",
    "\n",
    "def cleanTermStructureSheet(filename,foldername,sheetName):\n",
    "    df = pd.read_excel(foldername+filename, sheet_name=sheetName, header=1, engine='openpyxl')\n",
    "    df.drop(['Unnamed: 0'], axis=1, inplace=True) # Blank column - artifact of the dataset\n",
    "    df = df.iloc[8:,:] # Dropping all unnessary columns \n",
    "    df.rename(columns={\"Main menu\": \"Tenor\"}, inplace=True)\n",
    "    df.set_index(\"Tenor\", inplace=True)\n",
    "    return df\n",
    "\n",
    "def getDateFromFileName(filename):\n",
    "    dateString = filename.split('_')[2]\n",
    "    yearString = dateString[:4]\n",
    "    monthString = dateString[4:6]\n",
    "    dayString = dateString[6:]\n",
    "    return date(int(yearString),int(monthString),int(dayString))\n",
    "\n",
    "def getCountrieslist(inputFilesDir):\n",
    "    return pd.read_csv(inputFilesDir+\"countries.csv\").columns.to_list()\n",
    "\n",
    "def getFilteredFileList(unzippedFilesDir,fileType,sheetName):\n",
    "    allFiles = os.listdir(unzippedFilesDir)\n",
    "    filteredList = [file for file in allFiles if fileType in file]\n",
    "    return filteredList \n",
    "\n",
    "def plotCurvesOverTime(coutriesDict, country, colourScale):\n",
    "    # if you have time experiment with lines \n",
    "    # https://community.plotly.com/t/add-lines-to-3d-surface/36042/2\n",
    "    countryData = pd.DataFrame(countriesDict[country]).sort_index(axis = 1)\n",
    "    dates = countryData.columns\n",
    "    tenors = countryData.index.values\n",
    "    camera = dict(\n",
    "        up = dict(x=0, y=0, z=1), \n",
    "        center = dict(x=0, y=0, z=0), \n",
    "        eye = dict(x=1.6, y=1.6, z=0.5 )\n",
    "    )\n",
    "\n",
    "    fig = go.Figure(data=[go.Surface(z=countryData.values, \n",
    "                                     x=dates, \n",
    "                                     y=tenors,\n",
    "                                     opacity = 0.8,\n",
    "                                     colorscale=colourScale, \n",
    "                                     colorbar_thickness = 25, \n",
    "                                     colorbar_len = 0.75, \n",
    "                                    \n",
    "                      )])\n",
    "\n",
    "    fig.update_layout(scene_camera = camera,\n",
    "                    scene=dict(yaxis_title='Tenor',\n",
    "                            xaxis_title='Date',\n",
    "                            zaxis_title='Yield',\n",
    "                            aspectratio = dict(x = 1, y = 1.4, z= 0.75)),\n",
    "                    title=f'{country} Curve Progression since 2022', autosize=False,\n",
    "                    width=1000, height=700,\n",
    "                    margin=dict(l=50, r=20, b=10, t=50), \n",
    "                    paper_bgcolor=\"LightSteelBlue\", \n",
    "                    )\n",
    "\n",
    "    fig.show()\n",
    "\n",
    "def correlationMatrixDataframeHelper(country,countriesDict,tenorsOfInterest):\n",
    "    df = pd.DataFrame(countriesDict[country]).iloc[tenorsOfInterest,:].T\n",
    "    newColumns = [f'{country}_{tenor}Y' for tenor in df.columns.values]\n",
    "    df.columns = newColumns\n",
    "    return df\n",
    "\n",
    "\n",
    "def createCrossCountryCrossTenorCorrelation(countries, tenors, countriesDict):\n",
    "    tenors = [tenor - 1 for tenor in tenors]\n",
    "    elementsOfCorrelationMatrix = []\n",
    "    for country in countries:\n",
    "        elementsOfCorrelationMatrix.append(correlationMatrixDataframeHelper(country,countriesDict,tenors))\n",
    "    correlationDataFrame = pd.concat(elementsOfCorrelationMatrix, axis = 1)\n",
    "    crossTenorCountryCorrelation = np.round(correlationDataFrame.diff().dropna().corr(),2)\n",
    "    return crossTenorCountryCorrelation\n",
    "\n",
    "\n",
    "inputFilesDir = \"inputData/\"\n",
    "unzippedFilesDir = \"unzippedFiles/\"\n",
    "fileType = \"Term_Structures\"\n",
    "sheetName = \"RFR_spot_no_VA\"\n",
    "\n",
    "extractFolder(inputFilesDir,unzippedFilesDir)\n",
    "countries = getCountrieslist(inputFilesDir)\n",
    "\n",
    "countriesDict = {}\n",
    "for country in countries:\n",
    "    countriesDict[country] = {}\n",
    "\n",
    "for filename in getFilteredFileList(unzippedFilesDir,fileType,sheetName):\n",
    "    dateIndex = getDateFromFileName(filename)\n",
    "    allTermStructures = cleanTermStructureSheet(filename,unzippedFilesDir,sheetName)\n",
    "    for country in countries:\n",
    "        countriesDict[country][dateIndex] =  allTermStructures.loc[:,country]\n"
   ]
  },
  {
   "cell_type": "code",
   "execution_count": null,
   "metadata": {},
   "outputs": [],
   "source": [
    "plotCurvesOverTime(countriesDict,\"United States\", \"Reds\")"
   ]
  },
  {
   "cell_type": "code",
   "execution_count": null,
   "metadata": {},
   "outputs": [],
   "source": [
    "plotCurvesOverTime(countriesDict,\"Euro\", \"Blues\")"
   ]
  },
  {
   "cell_type": "code",
   "execution_count": null,
   "metadata": {},
   "outputs": [],
   "source": [
    "countriesForCorrelation = [\"United States\", \"Euro\", \"United Kingdom\", \"China\"]\n",
    "tenorsOfInterest = [2, 5, 10, 20, 30]\n",
    "tenorsOfInterest = [tenor - 1 for tenor in tenorsOfInterest]\n",
    "\n",
    "elementsOfCorrelationMatrix = []\n",
    "for country in countriesForCorrelation:\n",
    "    elementsOfCorrelationMatrix.append(correlationMatrixDataframeHelper(country,countriesDict,tenorsOfInterest))\n",
    "correlationDataFrame = pd.concat(elementsOfCorrelationMatrix, axis = 1)\n",
    "crossTenorCountryCorrelation = np.round(correlationDataFrame.diff().dropna().corr(),2)\n"
   ]
  },
  {
   "cell_type": "code",
   "execution_count": null,
   "metadata": {},
   "outputs": [],
   "source": [
    "def createCrossCountryCrossTenorCorrelation(countries, tenors, countriesDict):\n",
    "    tenors = [tenor - 1 for tenor in tenors]\n",
    "    elementsOfCorrelationMatrix = []\n",
    "    for country in countries:\n",
    "        elementsOfCorrelationMatrix.append(correlationMatrixDataframeHelper(country,countriesDict,tenors))\n",
    "    correlationDataFrame = pd.concat(elementsOfCorrelationMatrix, axis = 1)\n",
    "    crossTenorCountryCorrelation = np.round(correlationDataFrame.diff().dropna().corr(),2)\n",
    "    return crossTenorCountryCorrelation\n"
   ]
  },
  {
   "cell_type": "code",
   "execution_count": null,
   "metadata": {},
   "outputs": [],
   "source": [
    "countriesForCorrelation = [\"United States\", \"Euro\", \"United Kingdom\", \"China\"]\n",
    "tenorsOfInterest = [2, 5, 10, 20, 30]\n",
    "\n",
    "corrMatrix  = createCrossCountryCrossTenorCorrelation(countriesForCorrelation, tenorsOfInterest, countriesDict)"
   ]
  },
  {
   "cell_type": "code",
   "execution_count": null,
   "metadata": {},
   "outputs": [],
   "source": []
  }
 ],
 "metadata": {
  "kernelspec": {
   "display_name": "Python 3",
   "language": "python",
   "name": "python3"
  },
  "language_info": {
   "codemirror_mode": {
    "name": "ipython",
    "version": 3
   },
   "file_extension": ".py",
   "mimetype": "text/x-python",
   "name": "python",
   "nbconvert_exporter": "python",
   "pygments_lexer": "ipython3",
   "version": "3.8.16"
  }
 },
 "nbformat": 4,
 "nbformat_minor": 2
}
