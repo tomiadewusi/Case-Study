{
 "cells": [
  {
   "cell_type": "code",
   "execution_count": 39,
   "metadata": {},
   "outputs": [],
   "source": [
    "import yfinance as yf\n",
    "import pandas as pd\n",
    "import datetime as dt\n",
    "from dateutil.relativedelta import relativedelta"
   ]
  },
  {
   "cell_type": "code",
   "execution_count": 40,
   "metadata": {},
   "outputs": [],
   "source": [
    "today = dt.date.today()\n",
    "lookback = today - relativedelta(years=10)\n",
    "holding = today - dt.timedelta(weeks=4)\n",
    "# .strftime('%d-%m-%Y')"
   ]
  },
  {
   "cell_type": "code",
   "execution_count": 41,
   "metadata": {},
   "outputs": [
    {
     "name": "stderr",
     "output_type": "stream",
     "text": [
      "[*********************100%%**********************]  4 of 4 completed\n",
      "[*********************100%%**********************]  4 of 4 completed\n"
     ]
    }
   ],
   "source": [
    "tickers = ['GOOG', 'NVDA','META','EQX']\n",
    "\n",
    "# Note that these are non-overlapping dataframes\n",
    "dataLookbackFull = yf.download(tickers, start=lookback, end=holding, auto_adjust=True)['Close']\n",
    "dataHolding = yf.download(tickers, start=holding, end=today, auto_adjust=True)['Close']"
   ]
  },
  {
   "cell_type": "code",
   "execution_count": 42,
   "metadata": {},
   "outputs": [
    {
     "data": {
      "text/html": [
       "<div>\n",
       "<style scoped>\n",
       "    .dataframe tbody tr th:only-of-type {\n",
       "        vertical-align: middle;\n",
       "    }\n",
       "\n",
       "    .dataframe tbody tr th {\n",
       "        vertical-align: top;\n",
       "    }\n",
       "\n",
       "    .dataframe thead th {\n",
       "        text-align: right;\n",
       "    }\n",
       "</style>\n",
       "<table border=\"1\" class=\"dataframe\">\n",
       "  <thead>\n",
       "    <tr style=\"text-align: right;\">\n",
       "      <th>Ticker</th>\n",
       "      <th>EQX</th>\n",
       "      <th>GOOG</th>\n",
       "      <th>META</th>\n",
       "      <th>NVDA</th>\n",
       "    </tr>\n",
       "    <tr>\n",
       "      <th>Date</th>\n",
       "      <th></th>\n",
       "      <th></th>\n",
       "      <th></th>\n",
       "      <th></th>\n",
       "    </tr>\n",
       "  </thead>\n",
       "  <tbody>\n",
       "    <tr>\n",
       "      <th>2014-03-10</th>\n",
       "      <td>NaN</td>\n",
       "      <td>30.176142</td>\n",
       "      <td>71.953651</td>\n",
       "      <td>4.285752</td>\n",
       "    </tr>\n",
       "    <tr>\n",
       "      <th>2014-03-11</th>\n",
       "      <td>NaN</td>\n",
       "      <td>29.887724</td>\n",
       "      <td>70.025703</td>\n",
       "      <td>4.328396</td>\n",
       "    </tr>\n",
       "    <tr>\n",
       "      <th>2014-03-12</th>\n",
       "      <td>NaN</td>\n",
       "      <td>30.069792</td>\n",
       "      <td>70.804871</td>\n",
       "      <td>4.340243</td>\n",
       "    </tr>\n",
       "    <tr>\n",
       "      <th>2014-03-13</th>\n",
       "      <td>NaN</td>\n",
       "      <td>29.615494</td>\n",
       "      <td>68.757050</td>\n",
       "      <td>4.202833</td>\n",
       "    </tr>\n",
       "    <tr>\n",
       "      <th>2014-03-14</th>\n",
       "      <td>NaN</td>\n",
       "      <td>29.210512</td>\n",
       "      <td>67.648224</td>\n",
       "      <td>4.221786</td>\n",
       "    </tr>\n",
       "    <tr>\n",
       "      <th>...</th>\n",
       "      <td>...</td>\n",
       "      <td>...</td>\n",
       "      <td>...</td>\n",
       "      <td>...</td>\n",
       "    </tr>\n",
       "    <tr>\n",
       "      <th>2024-02-05</th>\n",
       "      <td>4.41</td>\n",
       "      <td>144.929993</td>\n",
       "      <td>458.923065</td>\n",
       "      <td>693.287476</td>\n",
       "    </tr>\n",
       "    <tr>\n",
       "      <th>2024-02-06</th>\n",
       "      <td>4.47</td>\n",
       "      <td>145.410004</td>\n",
       "      <td>454.238037</td>\n",
       "      <td>682.197998</td>\n",
       "    </tr>\n",
       "    <tr>\n",
       "      <th>2024-02-07</th>\n",
       "      <td>4.36</td>\n",
       "      <td>146.679993</td>\n",
       "      <td>469.092285</td>\n",
       "      <td>700.957092</td>\n",
       "    </tr>\n",
       "    <tr>\n",
       "      <th>2024-02-08</th>\n",
       "      <td>4.33</td>\n",
       "      <td>147.220001</td>\n",
       "      <td>469.501862</td>\n",
       "      <td>696.377319</td>\n",
       "    </tr>\n",
       "    <tr>\n",
       "      <th>2024-02-09</th>\n",
       "      <td>4.31</td>\n",
       "      <td>150.220001</td>\n",
       "      <td>467.613831</td>\n",
       "      <td>721.296204</td>\n",
       "    </tr>\n",
       "  </tbody>\n",
       "</table>\n",
       "<p>2499 rows × 4 columns</p>\n",
       "</div>"
      ],
      "text/plain": [
       "Ticker       EQX        GOOG        META        NVDA\n",
       "Date                                                \n",
       "2014-03-10   NaN   30.176142   71.953651    4.285752\n",
       "2014-03-11   NaN   29.887724   70.025703    4.328396\n",
       "2014-03-12   NaN   30.069792   70.804871    4.340243\n",
       "2014-03-13   NaN   29.615494   68.757050    4.202833\n",
       "2014-03-14   NaN   29.210512   67.648224    4.221786\n",
       "...          ...         ...         ...         ...\n",
       "2024-02-05  4.41  144.929993  458.923065  693.287476\n",
       "2024-02-06  4.47  145.410004  454.238037  682.197998\n",
       "2024-02-07  4.36  146.679993  469.092285  700.957092\n",
       "2024-02-08  4.33  147.220001  469.501862  696.377319\n",
       "2024-02-09  4.31  150.220001  467.613831  721.296204\n",
       "\n",
       "[2499 rows x 4 columns]"
      ]
     },
     "execution_count": 42,
     "metadata": {},
     "output_type": "execute_result"
    }
   ],
   "source": [
    "dataLookbackFull"
   ]
  },
  {
   "cell_type": "code",
   "execution_count": null,
   "metadata": {},
   "outputs": [],
   "source": [
    "dataLookbackFull[dataLookbackFull.EQ]"
   ]
  },
  {
   "cell_type": "code",
   "execution_count": null,
   "metadata": {},
   "outputs": [],
   "source": [
    "# We can need to take into account the correlations between the other assets in our portfolio when \n",
    "# We do imputation i.e. Multivariate time series imputation. One could use Vector Auto Regressive \n",
    "# Model. This is a regression that fits the entire time series and considers cross correlations\n",
    "# In order to use VAR models, we would need to make all our time series stationery before we could\n",
    "# Implement them. Hesitant to use a recurrent neural network (or any neural network) given the \n",
    "# their black box nature. Spatio-temporal factoring methods could be good here. There is a good \n",
    "# Python implementaion of Multivariate Singular Spectrum Analysis (mSSA). The spatial component \n",
    "# is the correlation across all the time series. Hoping that this can capture how the correlation \n",
    "# changes over time - markets tend to be more correlated during periods of market stress. Another \n",
    "# is that mSSA requires less prep time to make it work - VAR method must ensure that time series is \n",
    "# an autoregressive process via transformations. VAR just seems like a lot of work for an interview\n",
    "# question. Will investigate all possible methods a later date when I have time. "
   ]
  }
 ],
 "metadata": {
  "kernelspec": {
   "display_name": "Python 3",
   "language": "python",
   "name": "python3"
  },
  "language_info": {
   "codemirror_mode": {
    "name": "ipython",
    "version": 3
   },
   "file_extension": ".py",
   "mimetype": "text/x-python",
   "name": "python",
   "nbconvert_exporter": "python",
   "pygments_lexer": "ipython3",
   "version": "3.8.16"
  }
 },
 "nbformat": 4,
 "nbformat_minor": 2
}
